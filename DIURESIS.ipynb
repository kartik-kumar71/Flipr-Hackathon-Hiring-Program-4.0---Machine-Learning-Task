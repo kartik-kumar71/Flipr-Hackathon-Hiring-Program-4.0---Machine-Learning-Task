{
  "nbformat": 4,
  "nbformat_minor": 0,
  "metadata": {
    "colab": {
      "name": "DIURESIS.ipynb",
      "provenance": []
    },
    "kernelspec": {
      "name": "python3",
      "display_name": "Python 3"
    }
  },
  "cells": [
    {
      "cell_type": "code",
      "metadata": {
        "id": "fsDmTe59LlSP",
        "colab_type": "code",
        "colab": {
          "base_uri": "https://localhost:8080/",
          "height": 34
        },
        "outputId": "f7bbf164-bc5c-42b9-c05b-f2d4d71391b1"
      },
      "source": [
        "from google.colab import drive\n",
        "drive.mount('/content/drive')"
      ],
      "execution_count": 9,
      "outputs": [
        {
          "output_type": "stream",
          "text": [
            "Drive already mounted at /content/drive; to attempt to forcibly remount, call drive.mount(\"/content/drive\", force_remount=True).\n"
          ],
          "name": "stdout"
        }
      ]
    },
    {
      "cell_type": "code",
      "metadata": {
        "id": "nJmLatj4MAFg",
        "colab_type": "code",
        "colab": {
          "base_uri": "https://localhost:8080/",
          "height": 34
        },
        "outputId": "0f8ba12f-54b8-43e0-bbaf-14266a55ac38"
      },
      "source": [
        "cd /content/drive/My\\ Drive"
      ],
      "execution_count": 10,
      "outputs": [
        {
          "output_type": "stream",
          "text": [
            "/content/drive/My Drive\n"
          ],
          "name": "stdout"
        }
      ]
    },
    {
      "cell_type": "code",
      "metadata": {
        "id": "aT2VwB_pMYP6",
        "colab_type": "code",
        "colab": {}
      },
      "source": [
        "import pandas as pd"
      ],
      "execution_count": 0,
      "outputs": []
    },
    {
      "cell_type": "code",
      "metadata": {
        "id": "pSqBb541MawN",
        "colab_type": "code",
        "colab": {}
      },
      "source": [
        "df = pd.read_excel('Train_dataset.xlsx','Diuresis_TS')"
      ],
      "execution_count": 0,
      "outputs": []
    },
    {
      "cell_type": "code",
      "metadata": {
        "id": "Mduy3JfkMrwc",
        "colab_type": "code",
        "colab": {
          "base_uri": "https://localhost:8080/",
          "height": 221
        },
        "outputId": "43945143-86ad-4412-8e92-1634ac116d1b"
      },
      "source": [
        "df.head()"
      ],
      "execution_count": 13,
      "outputs": [
        {
          "output_type": "execute_result",
          "data": {
            "text/html": [
              "<div>\n",
              "<style scoped>\n",
              "    .dataframe tbody tr th:only-of-type {\n",
              "        vertical-align: middle;\n",
              "    }\n",
              "\n",
              "    .dataframe tbody tr th {\n",
              "        vertical-align: top;\n",
              "    }\n",
              "\n",
              "    .dataframe thead th {\n",
              "        text-align: right;\n",
              "    }\n",
              "</style>\n",
              "<table border=\"1\" class=\"dataframe\">\n",
              "  <thead>\n",
              "    <tr style=\"text-align: right;\">\n",
              "      <th></th>\n",
              "      <th>people_ID</th>\n",
              "      <th>2020-03-20 00:00:00</th>\n",
              "      <th>2020-03-21 00:00:00</th>\n",
              "      <th>2020-03-22 00:00:00</th>\n",
              "      <th>2020-03-23 00:00:00</th>\n",
              "      <th>2020-03-24 00:00:00</th>\n",
              "      <th>2020-03-25 00:00:00</th>\n",
              "      <th>2020-03-26 00:00:00</th>\n",
              "    </tr>\n",
              "  </thead>\n",
              "  <tbody>\n",
              "    <tr>\n",
              "      <th>0</th>\n",
              "      <td>1</td>\n",
              "      <td>441</td>\n",
              "      <td>544.2</td>\n",
              "      <td>669.64</td>\n",
              "      <td>821.368</td>\n",
              "      <td>1002.2416</td>\n",
              "      <td>1215.68992</td>\n",
              "      <td>1472.627904</td>\n",
              "    </tr>\n",
              "    <tr>\n",
              "      <th>1</th>\n",
              "      <td>2</td>\n",
              "      <td>151</td>\n",
              "      <td>197.2</td>\n",
              "      <td>253.24</td>\n",
              "      <td>321.688</td>\n",
              "      <td>399.9256</td>\n",
              "      <td>492.91072</td>\n",
              "      <td>606.892864</td>\n",
              "    </tr>\n",
              "    <tr>\n",
              "      <th>2</th>\n",
              "      <td>3</td>\n",
              "      <td>416</td>\n",
              "      <td>515.2</td>\n",
              "      <td>632.44</td>\n",
              "      <td>776.728</td>\n",
              "      <td>947.7736</td>\n",
              "      <td>1150.32832</td>\n",
              "      <td>1395.793984</td>\n",
              "    </tr>\n",
              "    <tr>\n",
              "      <th>3</th>\n",
              "      <td>4</td>\n",
              "      <td>410</td>\n",
              "      <td>506.0</td>\n",
              "      <td>621.40</td>\n",
              "      <td>761.880</td>\n",
              "      <td>928.1560</td>\n",
              "      <td>1126.78720</td>\n",
              "      <td>1368.344640</td>\n",
              "    </tr>\n",
              "    <tr>\n",
              "      <th>4</th>\n",
              "      <td>5</td>\n",
              "      <td>390</td>\n",
              "      <td>483.0</td>\n",
              "      <td>595.00</td>\n",
              "      <td>730.200</td>\n",
              "      <td>892.8400</td>\n",
              "      <td>1084.40800</td>\n",
              "      <td>1315.889600</td>\n",
              "    </tr>\n",
              "  </tbody>\n",
              "</table>\n",
              "</div>"
            ],
            "text/plain": [
              "   people_ID  2020-03-20 00:00:00  ...  2020-03-25 00:00:00  2020-03-26 00:00:00\n",
              "0          1                  441  ...           1215.68992          1472.627904\n",
              "1          2                  151  ...            492.91072           606.892864\n",
              "2          3                  416  ...           1150.32832          1395.793984\n",
              "3          4                  410  ...           1126.78720          1368.344640\n",
              "4          5                  390  ...           1084.40800          1315.889600\n",
              "\n",
              "[5 rows x 8 columns]"
            ]
          },
          "metadata": {
            "tags": []
          },
          "execution_count": 13
        }
      ]
    },
    {
      "cell_type": "code",
      "metadata": {
        "id": "RlZq0SSxMtux",
        "colab_type": "code",
        "colab": {
          "base_uri": "https://localhost:8080/",
          "height": 34
        },
        "outputId": "10060068-9cba-4501-d82a-a976044aaf52"
      },
      "source": [
        "df.shape"
      ],
      "execution_count": 14,
      "outputs": [
        {
          "output_type": "execute_result",
          "data": {
            "text/plain": [
              "(10714, 8)"
            ]
          },
          "metadata": {
            "tags": []
          },
          "execution_count": 14
        }
      ]
    },
    {
      "cell_type": "code",
      "metadata": {
        "id": "zJ-ZLf0QMzIQ",
        "colab_type": "code",
        "colab": {
          "base_uri": "https://localhost:8080/",
          "height": 238
        },
        "outputId": "26ac10b7-5e14-46f8-a7f4-2cfe7a6a68ef"
      },
      "source": [
        "df.info()"
      ],
      "execution_count": 7,
      "outputs": [
        {
          "output_type": "stream",
          "text": [
            "<class 'pandas.core.frame.DataFrame'>\n",
            "RangeIndex: 10714 entries, 0 to 10713\n",
            "Data columns (total 8 columns):\n",
            "people_ID              10714 non-null int64\n",
            "2020-03-20 00:00:00    10714 non-null int64\n",
            "2020-03-21 00:00:00    10714 non-null float64\n",
            "2020-03-22 00:00:00    10714 non-null float64\n",
            "2020-03-23 00:00:00    10714 non-null float64\n",
            "2020-03-24 00:00:00    10714 non-null float64\n",
            "2020-03-25 00:00:00    10714 non-null float64\n",
            "2020-03-26 00:00:00    10714 non-null float64\n",
            "dtypes: float64(6), int64(2)\n",
            "memory usage: 669.8 KB\n"
          ],
          "name": "stdout"
        }
      ]
    },
    {
      "cell_type": "code",
      "metadata": {
        "id": "M-HNr9eZS6lc",
        "colab_type": "code",
        "colab": {}
      },
      "source": [
        "import numpy as np"
      ],
      "execution_count": 0,
      "outputs": []
    },
    {
      "cell_type": "code",
      "metadata": {
        "id": "V5Nlz7A8M_5O",
        "colab_type": "code",
        "colab": {}
      },
      "source": [
        "# split a univariate sequence into samples\n",
        "def split_sequence(data, n_steps):\n",
        "  \n",
        "  X, y = list(), list()\n",
        "  for k in range(data.shape[0]):\n",
        "    sequence = data.iloc[k,:]\n",
        "    for i in range(len(sequence)):\n",
        "      # find the end of this pattern\n",
        "      end_ix = i + n_steps\n",
        "      # check if we are beyond the sequence\n",
        "      if end_ix > len(sequence)-1:\n",
        "        break\n",
        "      # gather input and output parts of the pattern\n",
        "      seq_x, seq_y = sequence[i:end_ix], sequence[end_ix]\n",
        "      X.append(seq_x)\n",
        "      y.append(seq_y)\n",
        "  return np.array(X), np.array(y)"
      ],
      "execution_count": 0,
      "outputs": []
    },
    {
      "cell_type": "code",
      "metadata": {
        "id": "Uw9yhCKqSn-C",
        "colab_type": "code",
        "colab": {}
      },
      "source": [
        "X,y = split_sequence(df,4)"
      ],
      "execution_count": 0,
      "outputs": []
    },
    {
      "cell_type": "code",
      "metadata": {
        "id": "ARcDJCFMWlub",
        "colab_type": "code",
        "colab": {
          "base_uri": "https://localhost:8080/",
          "height": 34
        },
        "outputId": "8734e8b1-12d4-455a-b630-b3255f154534"
      },
      "source": [
        "X.shape"
      ],
      "execution_count": 37,
      "outputs": [
        {
          "output_type": "execute_result",
          "data": {
            "text/plain": [
              "(42856, 4)"
            ]
          },
          "metadata": {
            "tags": []
          },
          "execution_count": 37
        }
      ]
    },
    {
      "cell_type": "code",
      "metadata": {
        "id": "NByDzyqdW9wL",
        "colab_type": "code",
        "colab": {
          "base_uri": "https://localhost:8080/",
          "height": 34
        },
        "outputId": "fbd3f107-5783-422c-f2de-a4d1fd9df551"
      },
      "source": [
        "y.shape"
      ],
      "execution_count": 38,
      "outputs": [
        {
          "output_type": "execute_result",
          "data": {
            "text/plain": [
              "(42856,)"
            ]
          },
          "metadata": {
            "tags": []
          },
          "execution_count": 38
        }
      ]
    },
    {
      "cell_type": "code",
      "metadata": {
        "id": "nkTfs1SVW_7C",
        "colab_type": "code",
        "colab": {}
      },
      "source": [
        ""
      ],
      "execution_count": 0,
      "outputs": []
    }
  ]
}