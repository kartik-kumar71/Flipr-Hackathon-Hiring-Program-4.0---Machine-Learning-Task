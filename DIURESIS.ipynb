{
  "nbformat": 4,
  "nbformat_minor": 0,
  "metadata": {
    "colab": {
      "name": "DIURESIS.ipynb",
      "provenance": []
    },
    "kernelspec": {
      "name": "python3",
      "display_name": "Python 3"
    }
  },
  "cells": [
    {
      "cell_type": "code",
      "metadata": {
        "id": "fsDmTe59LlSP",
        "colab_type": "code",
        "colab": {
          "base_uri": "https://localhost:8080/",
          "height": 34
        },
        "outputId": "f7bbf164-bc5c-42b9-c05b-f2d4d71391b1"
      },
      "source": [
        "from google.colab import drive\n",
        "drive.mount('/content/drive')"
      ],
      "execution_count": 9,
      "outputs": [
        {
          "output_type": "stream",
          "text": [
            "Drive already mounted at /content/drive; to attempt to forcibly remount, call drive.mount(\"/content/drive\", force_remount=True).\n"
          ],
          "name": "stdout"
        }
      ]
    },
    {
      "cell_type": "code",
      "metadata": {
        "id": "nJmLatj4MAFg",
        "colab_type": "code",
        "colab": {
          "base_uri": "https://localhost:8080/",
          "height": 34
        },
        "outputId": "0f8ba12f-54b8-43e0-bbaf-14266a55ac38"
      },
      "source": [
        "cd /content/drive/My\\ Drive"
      ],
      "execution_count": 10,
      "outputs": [
        {
          "output_type": "stream",
          "text": [
            "/content/drive/My Drive\n"
          ],
          "name": "stdout"
        }
      ]
    },
    {
      "cell_type": "code",
      "metadata": {
        "id": "aT2VwB_pMYP6",
        "colab_type": "code",
        "colab": {}
      },
      "source": [
        "import pandas as pd"
      ],
      "execution_count": 0,
      "outputs": []
    },
    {
      "cell_type": "code",
      "metadata": {
        "id": "pSqBb541MawN",
        "colab_type": "code",
        "colab": {}
      },
      "source": [
        "df = pd.read_excel('Train_dataset.xlsx','Diuresis_TS')"
      ],
      "execution_count": 0,
      "outputs": []
    },
    {
      "cell_type": "code",
      "metadata": {
        "id": "Mduy3JfkMrwc",
        "colab_type": "code",
        "colab": {
          "base_uri": "https://localhost:8080/",
          "height": 221
        },
        "outputId": "43945143-86ad-4412-8e92-1634ac116d1b"
      },
      "source": [
        "df.head()"
      ],
      "execution_count": 13,
      "outputs": [
        {
          "output_type": "execute_result",
          "data": {
            "text/html": [
              "<div>\n",
              "<style scoped>\n",
              "    .dataframe tbody tr th:only-of-type {\n",
              "        vertical-align: middle;\n",
              "    }\n",
              "\n",
              "    .dataframe tbody tr th {\n",
              "        vertical-align: top;\n",
              "    }\n",
              "\n",
              "    .dataframe thead th {\n",
              "        text-align: right;\n",
              "    }\n",
              "</style>\n",
              "<table border=\"1\" class=\"dataframe\">\n",
              "  <thead>\n",
              "    <tr style=\"text-align: right;\">\n",
              "      <th></th>\n",
              "      <th>people_ID</th>\n",
              "      <th>2020-03-20 00:00:00</th>\n",
              "      <th>2020-03-21 00:00:00</th>\n",
              "      <th>2020-03-22 00:00:00</th>\n",
              "      <th>2020-03-23 00:00:00</th>\n",
              "      <th>2020-03-24 00:00:00</th>\n",
              "      <th>2020-03-25 00:00:00</th>\n",
              "      <th>2020-03-26 00:00:00</th>\n",
              "    </tr>\n",
              "  </thead>\n",
              "  <tbody>\n",
              "    <tr>\n",
              "      <th>0</th>\n",
              "      <td>1</td>\n",
              "      <td>441</td>\n",
              "      <td>544.2</td>\n",
              "      <td>669.64</td>\n",
              "      <td>821.368</td>\n",
              "      <td>1002.2416</td>\n",
              "      <td>1215.68992</td>\n",
              "      <td>1472.627904</td>\n",
              "    </tr>\n",
              "    <tr>\n",
              "      <th>1</th>\n",
              "      <td>2</td>\n",
              "      <td>151</td>\n",
              "      <td>197.2</td>\n",
              "      <td>253.24</td>\n",
              "      <td>321.688</td>\n",
              "      <td>399.9256</td>\n",
              "      <td>492.91072</td>\n",
              "      <td>606.892864</td>\n",
              "    </tr>\n",
              "    <tr>\n",
              "      <th>2</th>\n",
              "      <td>3</td>\n",
              "      <td>416</td>\n",
              "      <td>515.2</td>\n",
              "      <td>632.44</td>\n",
              "      <td>776.728</td>\n",
              "      <td>947.7736</td>\n",
              "      <td>1150.32832</td>\n",
              "      <td>1395.793984</td>\n",
              "    </tr>\n",
              "    <tr>\n",
              "      <th>3</th>\n",
              "      <td>4</td>\n",
              "      <td>410</td>\n",
              "      <td>506.0</td>\n",
              "      <td>621.40</td>\n",
              "      <td>761.880</td>\n",
              "      <td>928.1560</td>\n",
              "      <td>1126.78720</td>\n",
              "      <td>1368.344640</td>\n",
              "    </tr>\n",
              "    <tr>\n",
              "      <th>4</th>\n",
              "      <td>5</td>\n",
              "      <td>390</td>\n",
              "      <td>483.0</td>\n",
              "      <td>595.00</td>\n",
              "      <td>730.200</td>\n",
              "      <td>892.8400</td>\n",
              "      <td>1084.40800</td>\n",
              "      <td>1315.889600</td>\n",
              "    </tr>\n",
              "  </tbody>\n",
              "</table>\n",
              "</div>"
            ],
            "text/plain": [
              "   people_ID  2020-03-20 00:00:00  ...  2020-03-25 00:00:00  2020-03-26 00:00:00\n",
              "0          1                  441  ...           1215.68992          1472.627904\n",
              "1          2                  151  ...            492.91072           606.892864\n",
              "2          3                  416  ...           1150.32832          1395.793984\n",
              "3          4                  410  ...           1126.78720          1368.344640\n",
              "4          5                  390  ...           1084.40800          1315.889600\n",
              "\n",
              "[5 rows x 8 columns]"
            ]
          },
          "metadata": {
            "tags": []
          },
          "execution_count": 13
        }
      ]
    },
    {
      "cell_type": "code",
      "metadata": {
        "id": "RlZq0SSxMtux",
        "colab_type": "code",
        "colab": {
          "base_uri": "https://localhost:8080/",
          "height": 34
        },
        "outputId": "10060068-9cba-4501-d82a-a976044aaf52"
      },
      "source": [
        "df.shape"
      ],
      "execution_count": 14,
      "outputs": [
        {
          "output_type": "execute_result",
          "data": {
            "text/plain": [
              "(10714, 8)"
            ]
          },
          "metadata": {
            "tags": []
          },
          "execution_count": 14
        }
      ]
    },
    {
      "cell_type": "code",
      "metadata": {
        "id": "zJ-ZLf0QMzIQ",
        "colab_type": "code",
        "colab": {
          "base_uri": "https://localhost:8080/",
          "height": 238
        },
        "outputId": "26ac10b7-5e14-46f8-a7f4-2cfe7a6a68ef"
      },
      "source": [
        "df.info()"
      ],
      "execution_count": 7,
      "outputs": [
        {
          "output_type": "stream",
          "text": [
            "<class 'pandas.core.frame.DataFrame'>\n",
            "RangeIndex: 10714 entries, 0 to 10713\n",
            "Data columns (total 8 columns):\n",
            "people_ID              10714 non-null int64\n",
            "2020-03-20 00:00:00    10714 non-null int64\n",
            "2020-03-21 00:00:00    10714 non-null float64\n",
            "2020-03-22 00:00:00    10714 non-null float64\n",
            "2020-03-23 00:00:00    10714 non-null float64\n",
            "2020-03-24 00:00:00    10714 non-null float64\n",
            "2020-03-25 00:00:00    10714 non-null float64\n",
            "2020-03-26 00:00:00    10714 non-null float64\n",
            "dtypes: float64(6), int64(2)\n",
            "memory usage: 669.8 KB\n"
          ],
          "name": "stdout"
        }
      ]
    },
    {
      "cell_type": "code",
      "metadata": {
        "id": "M-HNr9eZS6lc",
        "colab_type": "code",
        "colab": {}
      },
      "source": [
        "import numpy as np"
      ],
      "execution_count": 0,
      "outputs": []
    },
    {
      "cell_type": "code",
      "metadata": {
        "id": "V5Nlz7A8M_5O",
        "colab_type": "code",
        "colab": {}
      },
      "source": [
        "# split a univariate sequence into samples\n",
        "def split_sequence(data, n_steps):\n",
        "  \n",
        "  X, y = list(), list()\n",
        "  for k in range(data.shape[0]):\n",
        "    sequence = data.iloc[k,:]\n",
        "    for i in range(len(sequence)):\n",
        "      # find the end of this pattern\n",
        "      end_ix = i + n_steps\n",
        "      # check if we are beyond the sequence\n",
        "      if end_ix > len(sequence)-1:\n",
        "        break\n",
        "      # gather input and output parts of the pattern\n",
        "      seq_x, seq_y = sequence[i:end_ix], sequence[end_ix]\n",
        "      X.append(seq_x)\n",
        "      y.append(seq_y)\n",
        "  return np.array(X), np.array(y)"
      ],
      "execution_count": 0,
      "outputs": []
    },
    {
      "cell_type": "code",
      "metadata": {
        "id": "Uw9yhCKqSn-C",
        "colab_type": "code",
        "colab": {}
      },
      "source": [
        "X,y = split_sequence(df,4)"
      ],
      "execution_count": 0,
      "outputs": []
    },
    {
      "cell_type": "code",
      "metadata": {
        "id": "ARcDJCFMWlub",
        "colab_type": "code",
        "colab": {
          "base_uri": "https://localhost:8080/",
          "height": 34
        },
        "outputId": "03e468f4-31ef-4f30-a959-953da04bc28a"
      },
      "source": [
        "X.shape"
      ],
      "execution_count": 68,
      "outputs": [
        {
          "output_type": "execute_result",
          "data": {
            "text/plain": [
              "(42856, 4)"
            ]
          },
          "metadata": {
            "tags": []
          },
          "execution_count": 68
        }
      ]
    },
    {
      "cell_type": "code",
      "metadata": {
        "id": "NByDzyqdW9wL",
        "colab_type": "code",
        "colab": {
          "base_uri": "https://localhost:8080/",
          "height": 34
        },
        "outputId": "252203b6-aaa8-4df6-b59c-af3bc3717aa8"
      },
      "source": [
        "y.shape"
      ],
      "execution_count": 69,
      "outputs": [
        {
          "output_type": "execute_result",
          "data": {
            "text/plain": [
              "(42856,)"
            ]
          },
          "metadata": {
            "tags": []
          },
          "execution_count": 69
        }
      ]
    },
    {
      "cell_type": "code",
      "metadata": {
        "id": "nkTfs1SVW_7C",
        "colab_type": "code",
        "colab": {}
      },
      "source": [
        "from keras.models import Sequential\n",
        "from keras.layers import Dense,LSTM"
      ],
      "execution_count": 0,
      "outputs": []
    },
    {
      "cell_type": "code",
      "metadata": {
        "id": "HQEddK3RYnWp",
        "colab_type": "code",
        "colab": {}
      },
      "source": [
        "X = X.reshape((X.shape[0], X.shape[1], 1))"
      ],
      "execution_count": 0,
      "outputs": []
    },
    {
      "cell_type": "code",
      "metadata": {
        "id": "FuR3_hvIXtTk",
        "colab_type": "code",
        "colab": {}
      },
      "source": [
        "model = Sequential()\n",
        "model.add(LSTM(50, activation='relu', return_sequences=True,input_shape=(4, 1)))\n",
        "model.add(LSTM(50, activation='relu'))\n",
        "model.add(Dense(1))\n",
        "model.compile(optimizer='adam', loss='mse')"
      ],
      "execution_count": 0,
      "outputs": []
    },
    {
      "cell_type": "code",
      "metadata": {
        "id": "tX5UdbJ6X0jw",
        "colab_type": "code",
        "colab": {
          "base_uri": "https://localhost:8080/",
          "height": 714
        },
        "outputId": "e72ad243-1456-4e3f-a1d2-58ed131137e1"
      },
      "source": [
        "model.fit(X, y, epochs=20, verbose=1)"
      ],
      "execution_count": 74,
      "outputs": [
        {
          "output_type": "stream",
          "text": [
            "Epoch 1/20\n",
            "42856/42856 [==============================] - 13s 310us/step - loss: 40863.8020\n",
            "Epoch 2/20\n",
            "42856/42856 [==============================] - 12s 271us/step - loss: 425.9365\n",
            "Epoch 3/20\n",
            "42856/42856 [==============================] - 12s 269us/step - loss: 48934.5714\n",
            "Epoch 4/20\n",
            "42856/42856 [==============================] - 12s 271us/step - loss: 4598.6724\n",
            "Epoch 5/20\n",
            "42856/42856 [==============================] - 12s 271us/step - loss: 993.6520\n",
            "Epoch 6/20\n",
            "42856/42856 [==============================] - 12s 269us/step - loss: 894.1012\n",
            "Epoch 7/20\n",
            "42856/42856 [==============================] - 12s 270us/step - loss: 117.3151\n",
            "Epoch 8/20\n",
            "42856/42856 [==============================] - 12s 268us/step - loss: 71.6067\n",
            "Epoch 9/20\n",
            "42856/42856 [==============================] - 12s 270us/step - loss: 192.7237\n",
            "Epoch 10/20\n",
            "42856/42856 [==============================] - 11s 268us/step - loss: 500.7101\n",
            "Epoch 11/20\n",
            "42856/42856 [==============================] - 11s 268us/step - loss: 107.3889\n",
            "Epoch 12/20\n",
            "42856/42856 [==============================] - 12s 270us/step - loss: 167.2762\n",
            "Epoch 13/20\n",
            "42856/42856 [==============================] - 12s 279us/step - loss: 1338.7775\n",
            "Epoch 14/20\n",
            "42856/42856 [==============================] - 12s 269us/step - loss: 81.5692\n",
            "Epoch 15/20\n",
            "42856/42856 [==============================] - 12s 269us/step - loss: 134.6591\n",
            "Epoch 16/20\n",
            "42856/42856 [==============================] - 12s 269us/step - loss: 538.6745\n",
            "Epoch 17/20\n",
            "42856/42856 [==============================] - 12s 269us/step - loss: 96.4287\n",
            "Epoch 18/20\n",
            "42856/42856 [==============================] - 12s 269us/step - loss: 53.5453\n",
            "Epoch 19/20\n",
            "42856/42856 [==============================] - 12s 269us/step - loss: 54.3652\n",
            "Epoch 20/20\n",
            "42856/42856 [==============================] - 12s 270us/step - loss: 66.1012\n"
          ],
          "name": "stdout"
        },
        {
          "output_type": "execute_result",
          "data": {
            "text/plain": [
              "<keras.callbacks.History at 0x7f7bd56cc4a8>"
            ]
          },
          "metadata": {
            "tags": []
          },
          "execution_count": 74
        }
      ]
    },
    {
      "cell_type": "code",
      "metadata": {
        "id": "0xJnAAqJYau_",
        "colab_type": "code",
        "colab": {}
      },
      "source": [
        "inp = [669.64,821.368,1002.2416,1215.68992,]\n",
        "inp = np.array(inp)\n",
        "inp = inp.reshape(1,4,1)"
      ],
      "execution_count": 0,
      "outputs": []
    },
    {
      "cell_type": "code",
      "metadata": {
        "id": "OLkM7Sx8aNn0",
        "colab_type": "code",
        "colab": {
          "base_uri": "https://localhost:8080/",
          "height": 34
        },
        "outputId": "3daf5073-b462-4d69-ae2f-85dc941ab3a8"
      },
      "source": [
        "model.predict(inp)"
      ],
      "execution_count": 80,
      "outputs": [
        {
          "output_type": "execute_result",
          "data": {
            "text/plain": [
              "array([[1787.977]], dtype=float32)"
            ]
          },
          "metadata": {
            "tags": []
          },
          "execution_count": 80
        }
      ]
    },
    {
      "cell_type": "code",
      "metadata": {
        "id": "qfM8YLkIaR1g",
        "colab_type": "code",
        "colab": {}
      },
      "source": [
        "inp = [253.24,321.688,399.9256,492.91072]\n",
        "inp = np.array(inp)\n",
        "inp = inp.reshape(1,4,1)"
      ],
      "execution_count": 0,
      "outputs": []
    },
    {
      "cell_type": "code",
      "metadata": {
        "id": "Lt9cejbzdt_z",
        "colab_type": "code",
        "colab": {
          "base_uri": "https://localhost:8080/",
          "height": 51
        },
        "outputId": "f0330082-3682-4bf8-a3e2-31e4319317cd"
      },
      "source": [
        "model.predict(inp,verbose=1)"
      ],
      "execution_count": 83,
      "outputs": [
        {
          "output_type": "stream",
          "text": [
            "\r1/1 [==============================] - 0s 4ms/step\n"
          ],
          "name": "stdout"
        },
        {
          "output_type": "execute_result",
          "data": {
            "text/plain": [
              "array([[608.7107]], dtype=float32)"
            ]
          },
          "metadata": {
            "tags": []
          },
          "execution_count": 83
        }
      ]
    },
    {
      "cell_type": "code",
      "metadata": {
        "id": "Jy4FQei-eWX6",
        "colab_type": "code",
        "colab": {}
      },
      "source": [
        ""
      ],
      "execution_count": 0,
      "outputs": []
    }
  ]
}