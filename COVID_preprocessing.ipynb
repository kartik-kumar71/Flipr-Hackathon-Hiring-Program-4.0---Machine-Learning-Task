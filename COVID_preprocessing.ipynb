{
  "nbformat": 4,
  "nbformat_minor": 0,
  "metadata": {
    "colab": {
      "name": "COVID_preprocessing.ipynb",
      "provenance": []
    },
    "kernelspec": {
      "name": "python3",
      "display_name": "Python 3"
    }
  },
  "cells": [
    {
      "cell_type": "code",
      "metadata": {
        "id": "YO9DsXyZC9ro",
        "colab_type": "code",
        "outputId": "e24f7da5-bf82-45f1-f65a-58fad3b54206",
        "colab": {
          "base_uri": "https://localhost:8080/",
          "height": 122
        }
      },
      "source": [
        "from google.colab import drive\n",
        "drive.mount('/content/drive')"
      ],
      "execution_count": 1,
      "outputs": [
        {
          "output_type": "stream",
          "text": [
            "Go to this URL in a browser: https://accounts.google.com/o/oauth2/auth?client_id=947318989803-6bn6qk8qdgf4n4g3pfee6491hc0brc4i.apps.googleusercontent.com&redirect_uri=urn%3aietf%3awg%3aoauth%3a2.0%3aoob&response_type=code&scope=email%20https%3a%2f%2fwww.googleapis.com%2fauth%2fdocs.test%20https%3a%2f%2fwww.googleapis.com%2fauth%2fdrive%20https%3a%2f%2fwww.googleapis.com%2fauth%2fdrive.photos.readonly%20https%3a%2f%2fwww.googleapis.com%2fauth%2fpeopleapi.readonly\n",
            "\n",
            "Enter your authorization code:\n",
            "··········\n",
            "Mounted at /content/drive\n"
          ],
          "name": "stdout"
        }
      ]
    },
    {
      "cell_type": "code",
      "metadata": {
        "id": "q_v4HlsVDatC",
        "colab_type": "code",
        "outputId": "3e9f12da-5afe-4c12-be94-e5b6682d487a",
        "colab": {
          "base_uri": "https://localhost:8080/",
          "height": 34
        }
      },
      "source": [
        "cd /content/drive/My\\ Drive"
      ],
      "execution_count": 2,
      "outputs": [
        {
          "output_type": "stream",
          "text": [
            "/content/drive/My Drive\n"
          ],
          "name": "stdout"
        }
      ]
    },
    {
      "cell_type": "code",
      "metadata": {
        "id": "M8v-_qjGDwAN",
        "colab_type": "code",
        "outputId": "26bb1a34-896e-44ef-deff-ae01a60ef468",
        "colab": {
          "base_uri": "https://localhost:8080/",
          "height": 323
        }
      },
      "source": [
        "ls"
      ],
      "execution_count": 3,
      "outputs": [
        {
          "output_type": "stream",
          "text": [
            " 97F142A0-77C3-4B22-A736-8B94511BD30E.jpeg\n",
            "'97F142A0-77C3-4B22-A736-8B94511BD30E - Kartik Kumar.jpeg'\n",
            " \u001b[0m\u001b[01;34mClassroom\u001b[0m/\n",
            "\u001b[01;34m'Colab Notebooks'\u001b[0m/\n",
            " \u001b[01;34mCourses\u001b[0m/\n",
            " eBook_CAO_MorrisMano.gdoc\n",
            "'Getting started.pdf'\n",
            " \u001b[01;34mkaggle\u001b[0m/\n",
            " MACHINE_LEARNING.pptx\n",
            "'new doc 2019-09-14 21.46.34_20190914215012.pdf'\n",
            " OS_Assign_1.gdoc\n",
            " \u001b[01;34mpuffinbrowser\u001b[0m/\n",
            " rege.py\n",
            " resume.pdf\n",
            " \u001b[01;34mSSB\u001b[0m/\n",
            " Test_dataset.xlsx\n",
            " Train_dataset.xlsx\n",
            " Variable_Description.xlsx\n"
          ],
          "name": "stdout"
        }
      ]
    },
    {
      "cell_type": "code",
      "metadata": {
        "id": "aEyWfLbTEJdQ",
        "colab_type": "code",
        "colab": {}
      },
      "source": [
        "import pandas as pd"
      ],
      "execution_count": 0,
      "outputs": []
    },
    {
      "cell_type": "code",
      "metadata": {
        "id": "35DVytlGENHh",
        "colab_type": "code",
        "colab": {}
      },
      "source": [
        "df = pd.read_excel('Train_dataset.xlsx')"
      ],
      "execution_count": 0,
      "outputs": []
    },
    {
      "cell_type": "code",
      "metadata": {
        "id": "Tw4XRrfSEOC7",
        "colab_type": "code",
        "outputId": "1bae03f9-baa4-460b-84f3-dd3ad1418a7f",
        "colab": {
          "base_uri": "https://localhost:8080/",
          "height": 292
        }
      },
      "source": [
        "df.head()"
      ],
      "execution_count": 6,
      "outputs": [
        {
          "output_type": "execute_result",
          "data": {
            "text/html": [
              "<div>\n",
              "<style scoped>\n",
              "    .dataframe tbody tr th:only-of-type {\n",
              "        vertical-align: middle;\n",
              "    }\n",
              "\n",
              "    .dataframe tbody tr th {\n",
              "        vertical-align: top;\n",
              "    }\n",
              "\n",
              "    .dataframe thead th {\n",
              "        text-align: right;\n",
              "    }\n",
              "</style>\n",
              "<table border=\"1\" class=\"dataframe\">\n",
              "  <thead>\n",
              "    <tr style=\"text-align: right;\">\n",
              "      <th></th>\n",
              "      <th>people_ID</th>\n",
              "      <th>Region</th>\n",
              "      <th>Gender</th>\n",
              "      <th>Designation</th>\n",
              "      <th>Name</th>\n",
              "      <th>Married</th>\n",
              "      <th>Children</th>\n",
              "      <th>Occupation</th>\n",
              "      <th>Mode_transport</th>\n",
              "      <th>cases/1M</th>\n",
              "      <th>Deaths/1M</th>\n",
              "      <th>comorbidity</th>\n",
              "      <th>Age</th>\n",
              "      <th>Coma score</th>\n",
              "      <th>Pulmonary score</th>\n",
              "      <th>cardiological pressure</th>\n",
              "      <th>Diuresis</th>\n",
              "      <th>Platelets</th>\n",
              "      <th>HBB</th>\n",
              "      <th>d-dimer</th>\n",
              "      <th>Heart rate</th>\n",
              "      <th>HDL cholesterol</th>\n",
              "      <th>Charlson Index</th>\n",
              "      <th>Blood Glucose</th>\n",
              "      <th>Insurance</th>\n",
              "      <th>salary</th>\n",
              "      <th>FT/month</th>\n",
              "      <th>Infect_Prob</th>\n",
              "    </tr>\n",
              "  </thead>\n",
              "  <tbody>\n",
              "    <tr>\n",
              "      <th>0</th>\n",
              "      <td>1</td>\n",
              "      <td>Bhubaneshwar</td>\n",
              "      <td>Female</td>\n",
              "      <td>Mrs</td>\n",
              "      <td>mansi</td>\n",
              "      <td>YES</td>\n",
              "      <td>1.0</td>\n",
              "      <td>Farmer</td>\n",
              "      <td>Public</td>\n",
              "      <td>2</td>\n",
              "      <td>0</td>\n",
              "      <td>Hypertension</td>\n",
              "      <td>68</td>\n",
              "      <td>8</td>\n",
              "      <td>&lt;400</td>\n",
              "      <td>Normal</td>\n",
              "      <td>441.0</td>\n",
              "      <td>154.0</td>\n",
              "      <td>93.0</td>\n",
              "      <td>233.0</td>\n",
              "      <td>82.0</td>\n",
              "      <td>58.0</td>\n",
              "      <td>27</td>\n",
              "      <td>7</td>\n",
              "      <td>3600000.0</td>\n",
              "      <td>1300000</td>\n",
              "      <td>2.0</td>\n",
              "      <td>49.135010</td>\n",
              "    </tr>\n",
              "    <tr>\n",
              "      <th>1</th>\n",
              "      <td>2</td>\n",
              "      <td>Bhubaneshwar</td>\n",
              "      <td>Female</td>\n",
              "      <td>Mrs</td>\n",
              "      <td>riya masi</td>\n",
              "      <td>YES</td>\n",
              "      <td>2.0</td>\n",
              "      <td>Farmer</td>\n",
              "      <td>Walk</td>\n",
              "      <td>2</td>\n",
              "      <td>0</td>\n",
              "      <td>Diabetes</td>\n",
              "      <td>64</td>\n",
              "      <td>15</td>\n",
              "      <td>&lt;100</td>\n",
              "      <td>Stage-02</td>\n",
              "      <td>NaN</td>\n",
              "      <td>121.0</td>\n",
              "      <td>56.0</td>\n",
              "      <td>328.0</td>\n",
              "      <td>89.0</td>\n",
              "      <td>68.0</td>\n",
              "      <td>5</td>\n",
              "      <td>6</td>\n",
              "      <td>1600000.0</td>\n",
              "      <td>400000</td>\n",
              "      <td>1.0</td>\n",
              "      <td>51.147880</td>\n",
              "    </tr>\n",
              "    <tr>\n",
              "      <th>2</th>\n",
              "      <td>3</td>\n",
              "      <td>Bhubaneshwar</td>\n",
              "      <td>Female</td>\n",
              "      <td>Mrs</td>\n",
              "      <td>sunita</td>\n",
              "      <td>NO</td>\n",
              "      <td>1.0</td>\n",
              "      <td>Cleaner</td>\n",
              "      <td>Public</td>\n",
              "      <td>2</td>\n",
              "      <td>0</td>\n",
              "      <td>None</td>\n",
              "      <td>19</td>\n",
              "      <td>13</td>\n",
              "      <td>&lt;300</td>\n",
              "      <td>Elevated</td>\n",
              "      <td>416.0</td>\n",
              "      <td>124.0</td>\n",
              "      <td>137.0</td>\n",
              "      <td>213.0</td>\n",
              "      <td>77.0</td>\n",
              "      <td>43.0</td>\n",
              "      <td>40</td>\n",
              "      <td>6</td>\n",
              "      <td>3400000.0</td>\n",
              "      <td>900000</td>\n",
              "      <td>1.0</td>\n",
              "      <td>73.224000</td>\n",
              "    </tr>\n",
              "    <tr>\n",
              "      <th>3</th>\n",
              "      <td>4</td>\n",
              "      <td>Bhubaneshwar</td>\n",
              "      <td>Female</td>\n",
              "      <td>Mrs</td>\n",
              "      <td>anjali @ babli</td>\n",
              "      <td>YES</td>\n",
              "      <td>1.0</td>\n",
              "      <td>Driver</td>\n",
              "      <td>Car</td>\n",
              "      <td>2</td>\n",
              "      <td>0</td>\n",
              "      <td>Coronary Heart Disease</td>\n",
              "      <td>33</td>\n",
              "      <td>9</td>\n",
              "      <td>&lt;200</td>\n",
              "      <td>Stage-01</td>\n",
              "      <td>410.0</td>\n",
              "      <td>98.0</td>\n",
              "      <td>167.0</td>\n",
              "      <td>275.0</td>\n",
              "      <td>64.0</td>\n",
              "      <td>60.0</td>\n",
              "      <td>27</td>\n",
              "      <td>7</td>\n",
              "      <td>700000.0</td>\n",
              "      <td>2300000</td>\n",
              "      <td>1.0</td>\n",
              "      <td>48.779225</td>\n",
              "    </tr>\n",
              "    <tr>\n",
              "      <th>4</th>\n",
              "      <td>5</td>\n",
              "      <td>Bhubaneshwar</td>\n",
              "      <td>Female</td>\n",
              "      <td>Mrs</td>\n",
              "      <td>champa karketta</td>\n",
              "      <td>NO</td>\n",
              "      <td>2.0</td>\n",
              "      <td>Manufacturing</td>\n",
              "      <td>Car</td>\n",
              "      <td>2</td>\n",
              "      <td>0</td>\n",
              "      <td>Diabetes</td>\n",
              "      <td>23</td>\n",
              "      <td>7</td>\n",
              "      <td>&lt;400</td>\n",
              "      <td>Normal</td>\n",
              "      <td>390.0</td>\n",
              "      <td>21.0</td>\n",
              "      <td>153.0</td>\n",
              "      <td>331.0</td>\n",
              "      <td>71.0</td>\n",
              "      <td>64.0</td>\n",
              "      <td>32</td>\n",
              "      <td>7</td>\n",
              "      <td>3200000.0</td>\n",
              "      <td>1100000</td>\n",
              "      <td>1.0</td>\n",
              "      <td>87.868800</td>\n",
              "    </tr>\n",
              "  </tbody>\n",
              "</table>\n",
              "</div>"
            ],
            "text/plain": [
              "   people_ID        Region  Gender  ...   salary FT/month Infect_Prob\n",
              "0          1  Bhubaneshwar  Female  ...  1300000      2.0   49.135010\n",
              "1          2  Bhubaneshwar  Female  ...   400000      1.0   51.147880\n",
              "2          3  Bhubaneshwar  Female  ...   900000      1.0   73.224000\n",
              "3          4  Bhubaneshwar  Female  ...  2300000      1.0   48.779225\n",
              "4          5  Bhubaneshwar  Female  ...  1100000      1.0   87.868800\n",
              "\n",
              "[5 rows x 28 columns]"
            ]
          },
          "metadata": {
            "tags": []
          },
          "execution_count": 6
        }
      ]
    },
    {
      "cell_type": "code",
      "metadata": {
        "id": "f9ShBrOYFMhJ",
        "colab_type": "code",
        "outputId": "f0638d2b-1662-462f-ea1a-345462253d71",
        "colab": {
          "base_uri": "https://localhost:8080/",
          "height": 51
        }
      },
      "source": [
        "df['comorbidity'].unique()"
      ],
      "execution_count": 7,
      "outputs": [
        {
          "output_type": "execute_result",
          "data": {
            "text/plain": [
              "array(['Hypertension', 'Diabetes', 'None', 'Coronary Heart Disease', nan],\n",
              "      dtype=object)"
            ]
          },
          "metadata": {
            "tags": []
          },
          "execution_count": 7
        }
      ]
    },
    {
      "cell_type": "code",
      "metadata": {
        "id": "z8oudZMxFTNq",
        "colab_type": "code",
        "outputId": "39c2c2ac-df65-4ab8-ac28-ed95e1a6e0a0",
        "colab": {
          "base_uri": "https://localhost:8080/",
          "height": 578
        }
      },
      "source": [
        "df.info()"
      ],
      "execution_count": 8,
      "outputs": [
        {
          "output_type": "stream",
          "text": [
            "<class 'pandas.core.frame.DataFrame'>\n",
            "RangeIndex: 10714 entries, 0 to 10713\n",
            "Data columns (total 28 columns):\n",
            "people_ID                 10714 non-null int64\n",
            "Region                    10714 non-null object\n",
            "Gender                    10714 non-null object\n",
            "Designation               10714 non-null object\n",
            "Name                      10694 non-null object\n",
            "Married                   10714 non-null object\n",
            "Children                  10403 non-null float64\n",
            "Occupation                9967 non-null object\n",
            "Mode_transport            10711 non-null object\n",
            "cases/1M                  10714 non-null int64\n",
            "Deaths/1M                 10714 non-null int64\n",
            "comorbidity               10488 non-null object\n",
            "Age                       10714 non-null int64\n",
            "Coma score                10714 non-null int64\n",
            "Pulmonary score           10714 non-null object\n",
            "cardiological pressure    10617 non-null object\n",
            "Diuresis                  9998 non-null float64\n",
            "Platelets                 9790 non-null float64\n",
            "HBB                       10698 non-null float64\n",
            "d-dimer                   9600 non-null float64\n",
            "Heart rate                9600 non-null float64\n",
            "HDL cholesterol           10679 non-null float64\n",
            "Charlson Index            10714 non-null int64\n",
            "Blood Glucose             10714 non-null int64\n",
            "Insurance                 9624 non-null float64\n",
            "salary                    10714 non-null int64\n",
            "FT/month                  9991 non-null float64\n",
            "Infect_Prob               10714 non-null float64\n",
            "dtypes: float64(10), int64(8), object(10)\n",
            "memory usage: 2.3+ MB\n"
          ],
          "name": "stdout"
        }
      ]
    },
    {
      "cell_type": "code",
      "metadata": {
        "id": "gF01Uc9QFrO2",
        "colab_type": "code",
        "outputId": "6d2addf0-8cdc-43f6-fa45-7da3122f7862",
        "colab": {
          "base_uri": "https://localhost:8080/",
          "height": 334
        }
      },
      "source": [
        "df.describe()"
      ],
      "execution_count": 9,
      "outputs": [
        {
          "output_type": "execute_result",
          "data": {
            "text/html": [
              "<div>\n",
              "<style scoped>\n",
              "    .dataframe tbody tr th:only-of-type {\n",
              "        vertical-align: middle;\n",
              "    }\n",
              "\n",
              "    .dataframe tbody tr th {\n",
              "        vertical-align: top;\n",
              "    }\n",
              "\n",
              "    .dataframe thead th {\n",
              "        text-align: right;\n",
              "    }\n",
              "</style>\n",
              "<table border=\"1\" class=\"dataframe\">\n",
              "  <thead>\n",
              "    <tr style=\"text-align: right;\">\n",
              "      <th></th>\n",
              "      <th>people_ID</th>\n",
              "      <th>Children</th>\n",
              "      <th>cases/1M</th>\n",
              "      <th>Deaths/1M</th>\n",
              "      <th>Age</th>\n",
              "      <th>Coma score</th>\n",
              "      <th>Diuresis</th>\n",
              "      <th>Platelets</th>\n",
              "      <th>HBB</th>\n",
              "      <th>d-dimer</th>\n",
              "      <th>Heart rate</th>\n",
              "      <th>HDL cholesterol</th>\n",
              "      <th>Charlson Index</th>\n",
              "      <th>Blood Glucose</th>\n",
              "      <th>Insurance</th>\n",
              "      <th>salary</th>\n",
              "      <th>FT/month</th>\n",
              "      <th>Infect_Prob</th>\n",
              "    </tr>\n",
              "  </thead>\n",
              "  <tbody>\n",
              "    <tr>\n",
              "      <th>count</th>\n",
              "      <td>10714.000000</td>\n",
              "      <td>10403.000000</td>\n",
              "      <td>10714.000000</td>\n",
              "      <td>10714.000000</td>\n",
              "      <td>10714.000000</td>\n",
              "      <td>10714.000000</td>\n",
              "      <td>9998.000000</td>\n",
              "      <td>9790.000000</td>\n",
              "      <td>10698.000000</td>\n",
              "      <td>9600.000000</td>\n",
              "      <td>9600.000000</td>\n",
              "      <td>10679.000000</td>\n",
              "      <td>10714.000000</td>\n",
              "      <td>10714.000000</td>\n",
              "      <td>9.624000e+03</td>\n",
              "      <td>1.071400e+04</td>\n",
              "      <td>9991.000000</td>\n",
              "      <td>10714.000000</td>\n",
              "    </tr>\n",
              "    <tr>\n",
              "      <th>mean</th>\n",
              "      <td>10084.893784</td>\n",
              "      <td>1.062770</td>\n",
              "      <td>3.285888</td>\n",
              "      <td>0.523241</td>\n",
              "      <td>42.083722</td>\n",
              "      <td>9.013067</td>\n",
              "      <td>278.806261</td>\n",
              "      <td>87.795812</td>\n",
              "      <td>116.170967</td>\n",
              "      <td>275.292292</td>\n",
              "      <td>74.847396</td>\n",
              "      <td>52.632737</td>\n",
              "      <td>20.028094</td>\n",
              "      <td>5.015027</td>\n",
              "      <td>2.644919e+06</td>\n",
              "      <td>1.304713e+06</td>\n",
              "      <td>1.004604</td>\n",
              "      <td>52.280680</td>\n",
              "    </tr>\n",
              "    <tr>\n",
              "      <th>std</th>\n",
              "      <td>7108.663645</td>\n",
              "      <td>0.818222</td>\n",
              "      <td>2.721274</td>\n",
              "      <td>0.854303</td>\n",
              "      <td>15.323397</td>\n",
              "      <td>3.714970</td>\n",
              "      <td>97.985526</td>\n",
              "      <td>41.851103</td>\n",
              "      <td>55.178811</td>\n",
              "      <td>43.669692</td>\n",
              "      <td>14.869104</td>\n",
              "      <td>10.434293</td>\n",
              "      <td>11.828445</td>\n",
              "      <td>1.399770</td>\n",
              "      <td>1.383346e+06</td>\n",
              "      <td>6.075947e+05</td>\n",
              "      <td>0.815257</td>\n",
              "      <td>10.674667</td>\n",
              "    </tr>\n",
              "    <tr>\n",
              "      <th>min</th>\n",
              "      <td>1.000000</td>\n",
              "      <td>0.000000</td>\n",
              "      <td>1.000000</td>\n",
              "      <td>0.000000</td>\n",
              "      <td>16.000000</td>\n",
              "      <td>3.000000</td>\n",
              "      <td>110.000000</td>\n",
              "      <td>15.000000</td>\n",
              "      <td>20.000000</td>\n",
              "      <td>200.000000</td>\n",
              "      <td>50.000000</td>\n",
              "      <td>35.000000</td>\n",
              "      <td>0.000000</td>\n",
              "      <td>3.000000</td>\n",
              "      <td>3.000000e+05</td>\n",
              "      <td>3.000000e+05</td>\n",
              "      <td>0.000000</td>\n",
              "      <td>29.289600</td>\n",
              "    </tr>\n",
              "    <tr>\n",
              "      <th>25%</th>\n",
              "      <td>2679.250000</td>\n",
              "      <td>0.000000</td>\n",
              "      <td>2.000000</td>\n",
              "      <td>0.000000</td>\n",
              "      <td>29.000000</td>\n",
              "      <td>6.000000</td>\n",
              "      <td>194.000000</td>\n",
              "      <td>52.000000</td>\n",
              "      <td>68.000000</td>\n",
              "      <td>237.000000</td>\n",
              "      <td>62.000000</td>\n",
              "      <td>44.000000</td>\n",
              "      <td>10.000000</td>\n",
              "      <td>4.000000</td>\n",
              "      <td>1.400000e+06</td>\n",
              "      <td>8.000000e+05</td>\n",
              "      <td>0.000000</td>\n",
              "      <td>47.277426</td>\n",
              "    </tr>\n",
              "    <tr>\n",
              "      <th>50%</th>\n",
              "      <td>10003.500000</td>\n",
              "      <td>1.000000</td>\n",
              "      <td>2.000000</td>\n",
              "      <td>0.000000</td>\n",
              "      <td>42.000000</td>\n",
              "      <td>9.000000</td>\n",
              "      <td>276.000000</td>\n",
              "      <td>88.000000</td>\n",
              "      <td>117.000000</td>\n",
              "      <td>276.000000</td>\n",
              "      <td>75.000000</td>\n",
              "      <td>53.000000</td>\n",
              "      <td>20.000000</td>\n",
              "      <td>5.000000</td>\n",
              "      <td>2.600000e+06</td>\n",
              "      <td>1.300000e+06</td>\n",
              "      <td>1.000000</td>\n",
              "      <td>49.008389</td>\n",
              "    </tr>\n",
              "    <tr>\n",
              "      <th>75%</th>\n",
              "      <td>15141.750000</td>\n",
              "      <td>2.000000</td>\n",
              "      <td>4.000000</td>\n",
              "      <td>1.000000</td>\n",
              "      <td>55.000000</td>\n",
              "      <td>12.000000</td>\n",
              "      <td>364.000000</td>\n",
              "      <td>124.000000</td>\n",
              "      <td>165.000000</td>\n",
              "      <td>313.000000</td>\n",
              "      <td>88.000000</td>\n",
              "      <td>62.000000</td>\n",
              "      <td>30.000000</td>\n",
              "      <td>6.000000</td>\n",
              "      <td>3.800000e+06</td>\n",
              "      <td>1.800000e+06</td>\n",
              "      <td>2.000000</td>\n",
              "      <td>52.762313</td>\n",
              "    </tr>\n",
              "    <tr>\n",
              "      <th>max</th>\n",
              "      <td>22695.000000</td>\n",
              "      <td>2.000000</td>\n",
              "      <td>8.000000</td>\n",
              "      <td>2.000000</td>\n",
              "      <td>68.000000</td>\n",
              "      <td>15.000000</td>\n",
              "      <td>450.000000</td>\n",
              "      <td>160.000000</td>\n",
              "      <td>210.000000</td>\n",
              "      <td>350.000000</td>\n",
              "      <td>100.000000</td>\n",
              "      <td>70.000000</td>\n",
              "      <td>40.000000</td>\n",
              "      <td>7.000000</td>\n",
              "      <td>5.000000e+06</td>\n",
              "      <td>2.300000e+06</td>\n",
              "      <td>2.000000</td>\n",
              "      <td>97.632000</td>\n",
              "    </tr>\n",
              "  </tbody>\n",
              "</table>\n",
              "</div>"
            ],
            "text/plain": [
              "          people_ID      Children  ...     FT/month   Infect_Prob\n",
              "count  10714.000000  10403.000000  ...  9991.000000  10714.000000\n",
              "mean   10084.893784      1.062770  ...     1.004604     52.280680\n",
              "std     7108.663645      0.818222  ...     0.815257     10.674667\n",
              "min        1.000000      0.000000  ...     0.000000     29.289600\n",
              "25%     2679.250000      0.000000  ...     0.000000     47.277426\n",
              "50%    10003.500000      1.000000  ...     1.000000     49.008389\n",
              "75%    15141.750000      2.000000  ...     2.000000     52.762313\n",
              "max    22695.000000      2.000000  ...     2.000000     97.632000\n",
              "\n",
              "[8 rows x 18 columns]"
            ]
          },
          "metadata": {
            "tags": []
          },
          "execution_count": 9
        }
      ]
    },
    {
      "cell_type": "code",
      "metadata": {
        "id": "kfT_5MRHFtN5",
        "colab_type": "code",
        "outputId": "52b2347c-b2cb-4347-a016-7fe691abd98d",
        "colab": {
          "base_uri": "https://localhost:8080/",
          "height": 34
        }
      },
      "source": [
        "df.shape"
      ],
      "execution_count": 10,
      "outputs": [
        {
          "output_type": "execute_result",
          "data": {
            "text/plain": [
              "(10714, 28)"
            ]
          },
          "metadata": {
            "tags": []
          },
          "execution_count": 10
        }
      ]
    },
    {
      "cell_type": "code",
      "metadata": {
        "id": "JoGUgZxcFv5A",
        "colab_type": "code",
        "outputId": "08c9cfcd-38de-40e5-e147-74c1ec406313",
        "colab": {
          "base_uri": "https://localhost:8080/",
          "height": 34
        }
      },
      "source": [
        "len(df['Infect_Prob'].unique())"
      ],
      "execution_count": 11,
      "outputs": [
        {
          "output_type": "execute_result",
          "data": {
            "text/plain": [
              "8724"
            ]
          },
          "metadata": {
            "tags": []
          },
          "execution_count": 11
        }
      ]
    },
    {
      "cell_type": "code",
      "metadata": {
        "id": "dc_hAZ5UHS3R",
        "colab_type": "code",
        "outputId": "192a537a-05de-4046-eccc-e1ea1621f83b",
        "colab": {
          "base_uri": "https://localhost:8080/",
          "height": 34
        }
      },
      "source": [
        "df['Pulmonary score'].unique()"
      ],
      "execution_count": 12,
      "outputs": [
        {
          "output_type": "execute_result",
          "data": {
            "text/plain": [
              "array(['<400', '<100', '<300', '<200'], dtype=object)"
            ]
          },
          "metadata": {
            "tags": []
          },
          "execution_count": 12
        }
      ]
    },
    {
      "cell_type": "code",
      "metadata": {
        "id": "1ZM8s6lGHj8G",
        "colab_type": "code",
        "outputId": "fcc9222c-060f-4954-bc5f-f91e1dd57ff3",
        "colab": {
          "base_uri": "https://localhost:8080/",
          "height": 51
        }
      },
      "source": [
        "df['Occupation'].unique()"
      ],
      "execution_count": 13,
      "outputs": [
        {
          "output_type": "execute_result",
          "data": {
            "text/plain": [
              "array(['Farmer', 'Cleaner', 'Driver', 'Manufacturing', 'Clerk', 'Sales',\n",
              "       nan, 'Business', 'Researcher', 'Legal'], dtype=object)"
            ]
          },
          "metadata": {
            "tags": []
          },
          "execution_count": 13
        }
      ]
    },
    {
      "cell_type": "code",
      "metadata": {
        "id": "wzLHF9tQHxoc",
        "colab_type": "code",
        "outputId": "627c6791-b801-404e-f364-2e87f64061fe",
        "colab": {
          "base_uri": "https://localhost:8080/",
          "height": 34
        }
      },
      "source": [
        "df['HBB'].dtype != 'O'"
      ],
      "execution_count": 14,
      "outputs": [
        {
          "output_type": "execute_result",
          "data": {
            "text/plain": [
              "True"
            ]
          },
          "metadata": {
            "tags": []
          },
          "execution_count": 14
        }
      ]
    },
    {
      "cell_type": "code",
      "metadata": {
        "id": "a1mtfd3eI8Gj",
        "colab_type": "code",
        "outputId": "195d9c01-06c7-46d1-b1fb-b04ad726e030",
        "colab": {
          "base_uri": "https://localhost:8080/",
          "height": 391
        }
      },
      "source": [
        "for i in df.columns:\n",
        "  if df[i].dtype == 'O':\n",
        "    print (i, df[i].unique(), len(df[i].unique()),end = '\\n\\n')"
      ],
      "execution_count": 15,
      "outputs": [
        {
          "output_type": "stream",
          "text": [
            "Region ['Bhubaneshwar' 'Chandigarh' 'Chennai' 'Delhi' 'Bengaluru'] 5\n",
            "\n",
            "Gender ['Female' 'Male'] 2\n",
            "\n",
            "Designation ['Mrs' 'Mr'] 2\n",
            "\n",
            "Name ['mansi' 'riya masi' 'sunita' ... 'mohd mujahid ansari' 'munnakumar'\n",
            " 'mehboob mehandi'] 6305\n",
            "\n",
            "Married ['YES' 'NO'] 2\n",
            "\n",
            "Occupation ['Farmer' 'Cleaner' 'Driver' 'Manufacturing' 'Clerk' 'Sales' nan\n",
            " 'Business' 'Researcher' 'Legal'] 10\n",
            "\n",
            "Mode_transport ['Public' 'Walk' 'Car' nan] 4\n",
            "\n",
            "comorbidity ['Hypertension' 'Diabetes' 'None' 'Coronary Heart Disease' nan] 5\n",
            "\n",
            "Pulmonary score ['<400' '<100' '<300' '<200'] 4\n",
            "\n",
            "cardiological pressure ['Normal' 'Stage-02' 'Elevated' 'Stage-01' nan] 5\n",
            "\n"
          ],
          "name": "stdout"
        }
      ]
    },
    {
      "cell_type": "code",
      "metadata": {
        "id": "G9ACOrygL6XI",
        "colab_type": "code",
        "colab": {}
      },
      "source": [
        "df_sub = df.copy()"
      ],
      "execution_count": 0,
      "outputs": []
    },
    {
      "cell_type": "code",
      "metadata": {
        "id": "1yL8_A3If0Gw",
        "colab_type": "code",
        "outputId": "cffac50a-c383-4273-c4d8-415574a1ed62",
        "colab": {
          "base_uri": "https://localhost:8080/",
          "height": 136
        }
      },
      "source": [
        "df_sub.columns"
      ],
      "execution_count": 17,
      "outputs": [
        {
          "output_type": "execute_result",
          "data": {
            "text/plain": [
              "Index(['people_ID', 'Region', 'Gender', 'Designation', 'Name', 'Married',\n",
              "       'Children', 'Occupation', 'Mode_transport', 'cases/1M', 'Deaths/1M',\n",
              "       'comorbidity', 'Age', 'Coma score', 'Pulmonary score',\n",
              "       'cardiological pressure', 'Diuresis', 'Platelets', 'HBB', 'd-dimer',\n",
              "       'Heart rate', 'HDL cholesterol', 'Charlson Index', 'Blood Glucose',\n",
              "       'Insurance', 'salary', 'FT/month', 'Infect_Prob'],\n",
              "      dtype='object')"
            ]
          },
          "metadata": {
            "tags": []
          },
          "execution_count": 17
        }
      ]
    },
    {
      "cell_type": "code",
      "metadata": {
        "id": "kUoqjGPzgjG-",
        "colab_type": "code",
        "outputId": "b104bdbb-915b-4f90-a91b-5b0d65bd82c2",
        "colab": {
          "base_uri": "https://localhost:8080/",
          "height": 258
        }
      },
      "source": [
        "df_sub.drop(['people_ID','Region','Name','Designation','Occupation'],axis=1).head()"
      ],
      "execution_count": 18,
      "outputs": [
        {
          "output_type": "execute_result",
          "data": {
            "text/html": [
              "<div>\n",
              "<style scoped>\n",
              "    .dataframe tbody tr th:only-of-type {\n",
              "        vertical-align: middle;\n",
              "    }\n",
              "\n",
              "    .dataframe tbody tr th {\n",
              "        vertical-align: top;\n",
              "    }\n",
              "\n",
              "    .dataframe thead th {\n",
              "        text-align: right;\n",
              "    }\n",
              "</style>\n",
              "<table border=\"1\" class=\"dataframe\">\n",
              "  <thead>\n",
              "    <tr style=\"text-align: right;\">\n",
              "      <th></th>\n",
              "      <th>Gender</th>\n",
              "      <th>Married</th>\n",
              "      <th>Children</th>\n",
              "      <th>Mode_transport</th>\n",
              "      <th>cases/1M</th>\n",
              "      <th>Deaths/1M</th>\n",
              "      <th>comorbidity</th>\n",
              "      <th>Age</th>\n",
              "      <th>Coma score</th>\n",
              "      <th>Pulmonary score</th>\n",
              "      <th>cardiological pressure</th>\n",
              "      <th>Diuresis</th>\n",
              "      <th>Platelets</th>\n",
              "      <th>HBB</th>\n",
              "      <th>d-dimer</th>\n",
              "      <th>Heart rate</th>\n",
              "      <th>HDL cholesterol</th>\n",
              "      <th>Charlson Index</th>\n",
              "      <th>Blood Glucose</th>\n",
              "      <th>Insurance</th>\n",
              "      <th>salary</th>\n",
              "      <th>FT/month</th>\n",
              "      <th>Infect_Prob</th>\n",
              "    </tr>\n",
              "  </thead>\n",
              "  <tbody>\n",
              "    <tr>\n",
              "      <th>0</th>\n",
              "      <td>Female</td>\n",
              "      <td>YES</td>\n",
              "      <td>1.0</td>\n",
              "      <td>Public</td>\n",
              "      <td>2</td>\n",
              "      <td>0</td>\n",
              "      <td>Hypertension</td>\n",
              "      <td>68</td>\n",
              "      <td>8</td>\n",
              "      <td>&lt;400</td>\n",
              "      <td>Normal</td>\n",
              "      <td>441.0</td>\n",
              "      <td>154.0</td>\n",
              "      <td>93.0</td>\n",
              "      <td>233.0</td>\n",
              "      <td>82.0</td>\n",
              "      <td>58.0</td>\n",
              "      <td>27</td>\n",
              "      <td>7</td>\n",
              "      <td>3600000.0</td>\n",
              "      <td>1300000</td>\n",
              "      <td>2.0</td>\n",
              "      <td>49.135010</td>\n",
              "    </tr>\n",
              "    <tr>\n",
              "      <th>1</th>\n",
              "      <td>Female</td>\n",
              "      <td>YES</td>\n",
              "      <td>2.0</td>\n",
              "      <td>Walk</td>\n",
              "      <td>2</td>\n",
              "      <td>0</td>\n",
              "      <td>Diabetes</td>\n",
              "      <td>64</td>\n",
              "      <td>15</td>\n",
              "      <td>&lt;100</td>\n",
              "      <td>Stage-02</td>\n",
              "      <td>NaN</td>\n",
              "      <td>121.0</td>\n",
              "      <td>56.0</td>\n",
              "      <td>328.0</td>\n",
              "      <td>89.0</td>\n",
              "      <td>68.0</td>\n",
              "      <td>5</td>\n",
              "      <td>6</td>\n",
              "      <td>1600000.0</td>\n",
              "      <td>400000</td>\n",
              "      <td>1.0</td>\n",
              "      <td>51.147880</td>\n",
              "    </tr>\n",
              "    <tr>\n",
              "      <th>2</th>\n",
              "      <td>Female</td>\n",
              "      <td>NO</td>\n",
              "      <td>1.0</td>\n",
              "      <td>Public</td>\n",
              "      <td>2</td>\n",
              "      <td>0</td>\n",
              "      <td>None</td>\n",
              "      <td>19</td>\n",
              "      <td>13</td>\n",
              "      <td>&lt;300</td>\n",
              "      <td>Elevated</td>\n",
              "      <td>416.0</td>\n",
              "      <td>124.0</td>\n",
              "      <td>137.0</td>\n",
              "      <td>213.0</td>\n",
              "      <td>77.0</td>\n",
              "      <td>43.0</td>\n",
              "      <td>40</td>\n",
              "      <td>6</td>\n",
              "      <td>3400000.0</td>\n",
              "      <td>900000</td>\n",
              "      <td>1.0</td>\n",
              "      <td>73.224000</td>\n",
              "    </tr>\n",
              "    <tr>\n",
              "      <th>3</th>\n",
              "      <td>Female</td>\n",
              "      <td>YES</td>\n",
              "      <td>1.0</td>\n",
              "      <td>Car</td>\n",
              "      <td>2</td>\n",
              "      <td>0</td>\n",
              "      <td>Coronary Heart Disease</td>\n",
              "      <td>33</td>\n",
              "      <td>9</td>\n",
              "      <td>&lt;200</td>\n",
              "      <td>Stage-01</td>\n",
              "      <td>410.0</td>\n",
              "      <td>98.0</td>\n",
              "      <td>167.0</td>\n",
              "      <td>275.0</td>\n",
              "      <td>64.0</td>\n",
              "      <td>60.0</td>\n",
              "      <td>27</td>\n",
              "      <td>7</td>\n",
              "      <td>700000.0</td>\n",
              "      <td>2300000</td>\n",
              "      <td>1.0</td>\n",
              "      <td>48.779225</td>\n",
              "    </tr>\n",
              "    <tr>\n",
              "      <th>4</th>\n",
              "      <td>Female</td>\n",
              "      <td>NO</td>\n",
              "      <td>2.0</td>\n",
              "      <td>Car</td>\n",
              "      <td>2</td>\n",
              "      <td>0</td>\n",
              "      <td>Diabetes</td>\n",
              "      <td>23</td>\n",
              "      <td>7</td>\n",
              "      <td>&lt;400</td>\n",
              "      <td>Normal</td>\n",
              "      <td>390.0</td>\n",
              "      <td>21.0</td>\n",
              "      <td>153.0</td>\n",
              "      <td>331.0</td>\n",
              "      <td>71.0</td>\n",
              "      <td>64.0</td>\n",
              "      <td>32</td>\n",
              "      <td>7</td>\n",
              "      <td>3200000.0</td>\n",
              "      <td>1100000</td>\n",
              "      <td>1.0</td>\n",
              "      <td>87.868800</td>\n",
              "    </tr>\n",
              "  </tbody>\n",
              "</table>\n",
              "</div>"
            ],
            "text/plain": [
              "   Gender Married  Children  ...   salary  FT/month  Infect_Prob\n",
              "0  Female     YES       1.0  ...  1300000       2.0    49.135010\n",
              "1  Female     YES       2.0  ...   400000       1.0    51.147880\n",
              "2  Female      NO       1.0  ...   900000       1.0    73.224000\n",
              "3  Female     YES       1.0  ...  2300000       1.0    48.779225\n",
              "4  Female      NO       2.0  ...  1100000       1.0    87.868800\n",
              "\n",
              "[5 rows x 23 columns]"
            ]
          },
          "metadata": {
            "tags": []
          },
          "execution_count": 18
        }
      ]
    },
    {
      "cell_type": "code",
      "metadata": {
        "id": "_VdJZoZJhqhm",
        "colab_type": "code",
        "colab": {}
      },
      "source": [
        "df_sub.drop(['people_ID','Region','Name','Designation','Occupation'],axis=1,inplace = True)"
      ],
      "execution_count": 0,
      "outputs": []
    },
    {
      "cell_type": "code",
      "metadata": {
        "id": "V4DOWgOFhTaV",
        "colab_type": "code",
        "outputId": "c6dc4ae4-f1cd-4e94-d532-c81d77fdc997",
        "colab": {
          "base_uri": "https://localhost:8080/",
          "height": 493
        }
      },
      "source": [
        "df_sub.info()"
      ],
      "execution_count": 20,
      "outputs": [
        {
          "output_type": "stream",
          "text": [
            "<class 'pandas.core.frame.DataFrame'>\n",
            "RangeIndex: 10714 entries, 0 to 10713\n",
            "Data columns (total 23 columns):\n",
            "Gender                    10714 non-null object\n",
            "Married                   10714 non-null object\n",
            "Children                  10403 non-null float64\n",
            "Mode_transport            10711 non-null object\n",
            "cases/1M                  10714 non-null int64\n",
            "Deaths/1M                 10714 non-null int64\n",
            "comorbidity               10488 non-null object\n",
            "Age                       10714 non-null int64\n",
            "Coma score                10714 non-null int64\n",
            "Pulmonary score           10714 non-null object\n",
            "cardiological pressure    10617 non-null object\n",
            "Diuresis                  9998 non-null float64\n",
            "Platelets                 9790 non-null float64\n",
            "HBB                       10698 non-null float64\n",
            "d-dimer                   9600 non-null float64\n",
            "Heart rate                9600 non-null float64\n",
            "HDL cholesterol           10679 non-null float64\n",
            "Charlson Index            10714 non-null int64\n",
            "Blood Glucose             10714 non-null int64\n",
            "Insurance                 9624 non-null float64\n",
            "salary                    10714 non-null int64\n",
            "FT/month                  9991 non-null float64\n",
            "Infect_Prob               10714 non-null float64\n",
            "dtypes: float64(10), int64(7), object(6)\n",
            "memory usage: 1.9+ MB\n"
          ],
          "name": "stdout"
        }
      ]
    },
    {
      "cell_type": "code",
      "metadata": {
        "id": "tjF0vGwnh5b9",
        "colab_type": "code",
        "outputId": "222084bc-4b60-4445-d133-3a2d9183633d",
        "colab": {
          "base_uri": "https://localhost:8080/",
          "height": 430
        }
      },
      "source": [
        "df_sub.head(10)"
      ],
      "execution_count": 21,
      "outputs": [
        {
          "output_type": "execute_result",
          "data": {
            "text/html": [
              "<div>\n",
              "<style scoped>\n",
              "    .dataframe tbody tr th:only-of-type {\n",
              "        vertical-align: middle;\n",
              "    }\n",
              "\n",
              "    .dataframe tbody tr th {\n",
              "        vertical-align: top;\n",
              "    }\n",
              "\n",
              "    .dataframe thead th {\n",
              "        text-align: right;\n",
              "    }\n",
              "</style>\n",
              "<table border=\"1\" class=\"dataframe\">\n",
              "  <thead>\n",
              "    <tr style=\"text-align: right;\">\n",
              "      <th></th>\n",
              "      <th>Gender</th>\n",
              "      <th>Married</th>\n",
              "      <th>Children</th>\n",
              "      <th>Mode_transport</th>\n",
              "      <th>cases/1M</th>\n",
              "      <th>Deaths/1M</th>\n",
              "      <th>comorbidity</th>\n",
              "      <th>Age</th>\n",
              "      <th>Coma score</th>\n",
              "      <th>Pulmonary score</th>\n",
              "      <th>cardiological pressure</th>\n",
              "      <th>Diuresis</th>\n",
              "      <th>Platelets</th>\n",
              "      <th>HBB</th>\n",
              "      <th>d-dimer</th>\n",
              "      <th>Heart rate</th>\n",
              "      <th>HDL cholesterol</th>\n",
              "      <th>Charlson Index</th>\n",
              "      <th>Blood Glucose</th>\n",
              "      <th>Insurance</th>\n",
              "      <th>salary</th>\n",
              "      <th>FT/month</th>\n",
              "      <th>Infect_Prob</th>\n",
              "    </tr>\n",
              "  </thead>\n",
              "  <tbody>\n",
              "    <tr>\n",
              "      <th>0</th>\n",
              "      <td>Female</td>\n",
              "      <td>YES</td>\n",
              "      <td>1.0</td>\n",
              "      <td>Public</td>\n",
              "      <td>2</td>\n",
              "      <td>0</td>\n",
              "      <td>Hypertension</td>\n",
              "      <td>68</td>\n",
              "      <td>8</td>\n",
              "      <td>&lt;400</td>\n",
              "      <td>Normal</td>\n",
              "      <td>441.0</td>\n",
              "      <td>154.0</td>\n",
              "      <td>93.0</td>\n",
              "      <td>233.0</td>\n",
              "      <td>82.0</td>\n",
              "      <td>58.0</td>\n",
              "      <td>27</td>\n",
              "      <td>7</td>\n",
              "      <td>3600000.0</td>\n",
              "      <td>1300000</td>\n",
              "      <td>2.0</td>\n",
              "      <td>49.135010</td>\n",
              "    </tr>\n",
              "    <tr>\n",
              "      <th>1</th>\n",
              "      <td>Female</td>\n",
              "      <td>YES</td>\n",
              "      <td>2.0</td>\n",
              "      <td>Walk</td>\n",
              "      <td>2</td>\n",
              "      <td>0</td>\n",
              "      <td>Diabetes</td>\n",
              "      <td>64</td>\n",
              "      <td>15</td>\n",
              "      <td>&lt;100</td>\n",
              "      <td>Stage-02</td>\n",
              "      <td>NaN</td>\n",
              "      <td>121.0</td>\n",
              "      <td>56.0</td>\n",
              "      <td>328.0</td>\n",
              "      <td>89.0</td>\n",
              "      <td>68.0</td>\n",
              "      <td>5</td>\n",
              "      <td>6</td>\n",
              "      <td>1600000.0</td>\n",
              "      <td>400000</td>\n",
              "      <td>1.0</td>\n",
              "      <td>51.147880</td>\n",
              "    </tr>\n",
              "    <tr>\n",
              "      <th>2</th>\n",
              "      <td>Female</td>\n",
              "      <td>NO</td>\n",
              "      <td>1.0</td>\n",
              "      <td>Public</td>\n",
              "      <td>2</td>\n",
              "      <td>0</td>\n",
              "      <td>None</td>\n",
              "      <td>19</td>\n",
              "      <td>13</td>\n",
              "      <td>&lt;300</td>\n",
              "      <td>Elevated</td>\n",
              "      <td>416.0</td>\n",
              "      <td>124.0</td>\n",
              "      <td>137.0</td>\n",
              "      <td>213.0</td>\n",
              "      <td>77.0</td>\n",
              "      <td>43.0</td>\n",
              "      <td>40</td>\n",
              "      <td>6</td>\n",
              "      <td>3400000.0</td>\n",
              "      <td>900000</td>\n",
              "      <td>1.0</td>\n",
              "      <td>73.224000</td>\n",
              "    </tr>\n",
              "    <tr>\n",
              "      <th>3</th>\n",
              "      <td>Female</td>\n",
              "      <td>YES</td>\n",
              "      <td>1.0</td>\n",
              "      <td>Car</td>\n",
              "      <td>2</td>\n",
              "      <td>0</td>\n",
              "      <td>Coronary Heart Disease</td>\n",
              "      <td>33</td>\n",
              "      <td>9</td>\n",
              "      <td>&lt;200</td>\n",
              "      <td>Stage-01</td>\n",
              "      <td>410.0</td>\n",
              "      <td>98.0</td>\n",
              "      <td>167.0</td>\n",
              "      <td>275.0</td>\n",
              "      <td>64.0</td>\n",
              "      <td>60.0</td>\n",
              "      <td>27</td>\n",
              "      <td>7</td>\n",
              "      <td>700000.0</td>\n",
              "      <td>2300000</td>\n",
              "      <td>1.0</td>\n",
              "      <td>48.779225</td>\n",
              "    </tr>\n",
              "    <tr>\n",
              "      <th>4</th>\n",
              "      <td>Female</td>\n",
              "      <td>NO</td>\n",
              "      <td>2.0</td>\n",
              "      <td>Car</td>\n",
              "      <td>2</td>\n",
              "      <td>0</td>\n",
              "      <td>Diabetes</td>\n",
              "      <td>23</td>\n",
              "      <td>7</td>\n",
              "      <td>&lt;400</td>\n",
              "      <td>Normal</td>\n",
              "      <td>390.0</td>\n",
              "      <td>21.0</td>\n",
              "      <td>153.0</td>\n",
              "      <td>331.0</td>\n",
              "      <td>71.0</td>\n",
              "      <td>64.0</td>\n",
              "      <td>32</td>\n",
              "      <td>7</td>\n",
              "      <td>3200000.0</td>\n",
              "      <td>1100000</td>\n",
              "      <td>1.0</td>\n",
              "      <td>87.868800</td>\n",
              "    </tr>\n",
              "    <tr>\n",
              "      <th>5</th>\n",
              "      <td>Female</td>\n",
              "      <td>YES</td>\n",
              "      <td>1.0</td>\n",
              "      <td>Public</td>\n",
              "      <td>2</td>\n",
              "      <td>0</td>\n",
              "      <td>None</td>\n",
              "      <td>35</td>\n",
              "      <td>9</td>\n",
              "      <td>&lt;100</td>\n",
              "      <td>Stage-02</td>\n",
              "      <td>389.0</td>\n",
              "      <td>139.0</td>\n",
              "      <td>86.0</td>\n",
              "      <td>216.0</td>\n",
              "      <td>94.0</td>\n",
              "      <td>38.0</td>\n",
              "      <td>5</td>\n",
              "      <td>5</td>\n",
              "      <td>4600000.0</td>\n",
              "      <td>1900000</td>\n",
              "      <td>2.0</td>\n",
              "      <td>49.518345</td>\n",
              "    </tr>\n",
              "    <tr>\n",
              "      <th>6</th>\n",
              "      <td>Female</td>\n",
              "      <td>YES</td>\n",
              "      <td>2.0</td>\n",
              "      <td>Car</td>\n",
              "      <td>2</td>\n",
              "      <td>0</td>\n",
              "      <td>Coronary Heart Disease</td>\n",
              "      <td>61</td>\n",
              "      <td>3</td>\n",
              "      <td>&lt;400</td>\n",
              "      <td>Normal</td>\n",
              "      <td>NaN</td>\n",
              "      <td>75.0</td>\n",
              "      <td>156.0</td>\n",
              "      <td>311.0</td>\n",
              "      <td>99.0</td>\n",
              "      <td>68.0</td>\n",
              "      <td>23</td>\n",
              "      <td>5</td>\n",
              "      <td>4000000.0</td>\n",
              "      <td>1600000</td>\n",
              "      <td>1.0</td>\n",
              "      <td>49.670361</td>\n",
              "    </tr>\n",
              "    <tr>\n",
              "      <th>7</th>\n",
              "      <td>Female</td>\n",
              "      <td>YES</td>\n",
              "      <td>1.0</td>\n",
              "      <td>Public</td>\n",
              "      <td>2</td>\n",
              "      <td>0</td>\n",
              "      <td>Diabetes</td>\n",
              "      <td>49</td>\n",
              "      <td>10</td>\n",
              "      <td>&lt;200</td>\n",
              "      <td>Stage-01</td>\n",
              "      <td>194.0</td>\n",
              "      <td>123.0</td>\n",
              "      <td>179.0</td>\n",
              "      <td>242.0</td>\n",
              "      <td>82.0</td>\n",
              "      <td>59.0</td>\n",
              "      <td>34</td>\n",
              "      <td>3</td>\n",
              "      <td>4100000.0</td>\n",
              "      <td>1200000</td>\n",
              "      <td>0.0</td>\n",
              "      <td>49.121025</td>\n",
              "    </tr>\n",
              "    <tr>\n",
              "      <th>8</th>\n",
              "      <td>Female</td>\n",
              "      <td>YES</td>\n",
              "      <td>2.0</td>\n",
              "      <td>Public</td>\n",
              "      <td>2</td>\n",
              "      <td>0</td>\n",
              "      <td>Hypertension</td>\n",
              "      <td>44</td>\n",
              "      <td>6</td>\n",
              "      <td>&lt;200</td>\n",
              "      <td>Stage-01</td>\n",
              "      <td>310.0</td>\n",
              "      <td>NaN</td>\n",
              "      <td>156.0</td>\n",
              "      <td>NaN</td>\n",
              "      <td>NaN</td>\n",
              "      <td>37.0</td>\n",
              "      <td>21</td>\n",
              "      <td>7</td>\n",
              "      <td>4500000.0</td>\n",
              "      <td>900000</td>\n",
              "      <td>0.0</td>\n",
              "      <td>48.531922</td>\n",
              "    </tr>\n",
              "    <tr>\n",
              "      <th>9</th>\n",
              "      <td>Female</td>\n",
              "      <td>YES</td>\n",
              "      <td>1.0</td>\n",
              "      <td>Public</td>\n",
              "      <td>2</td>\n",
              "      <td>0</td>\n",
              "      <td>None</td>\n",
              "      <td>41</td>\n",
              "      <td>14</td>\n",
              "      <td>&lt;300</td>\n",
              "      <td>Elevated</td>\n",
              "      <td>242.0</td>\n",
              "      <td>23.0</td>\n",
              "      <td>178.0</td>\n",
              "      <td>277.0</td>\n",
              "      <td>83.0</td>\n",
              "      <td>58.0</td>\n",
              "      <td>28</td>\n",
              "      <td>4</td>\n",
              "      <td>2200000.0</td>\n",
              "      <td>1400000</td>\n",
              "      <td>2.0</td>\n",
              "      <td>48.475097</td>\n",
              "    </tr>\n",
              "  </tbody>\n",
              "</table>\n",
              "</div>"
            ],
            "text/plain": [
              "   Gender Married  Children  ...   salary  FT/month  Infect_Prob\n",
              "0  Female     YES       1.0  ...  1300000       2.0    49.135010\n",
              "1  Female     YES       2.0  ...   400000       1.0    51.147880\n",
              "2  Female      NO       1.0  ...   900000       1.0    73.224000\n",
              "3  Female     YES       1.0  ...  2300000       1.0    48.779225\n",
              "4  Female      NO       2.0  ...  1100000       1.0    87.868800\n",
              "5  Female     YES       1.0  ...  1900000       2.0    49.518345\n",
              "6  Female     YES       2.0  ...  1600000       1.0    49.670361\n",
              "7  Female     YES       1.0  ...  1200000       0.0    49.121025\n",
              "8  Female     YES       2.0  ...   900000       0.0    48.531922\n",
              "9  Female     YES       1.0  ...  1400000       2.0    48.475097\n",
              "\n",
              "[10 rows x 23 columns]"
            ]
          },
          "metadata": {
            "tags": []
          },
          "execution_count": 21
        }
      ]
    },
    {
      "cell_type": "code",
      "metadata": {
        "id": "QzVDueaIh-4C",
        "colab_type": "code",
        "outputId": "11c2882b-d5cd-4e6d-cb06-ff37d8e4ae37",
        "colab": {
          "base_uri": "https://localhost:8080/",
          "height": 413
        }
      },
      "source": [
        "df_sub.tail(10)"
      ],
      "execution_count": 22,
      "outputs": [
        {
          "output_type": "execute_result",
          "data": {
            "text/html": [
              "<div>\n",
              "<style scoped>\n",
              "    .dataframe tbody tr th:only-of-type {\n",
              "        vertical-align: middle;\n",
              "    }\n",
              "\n",
              "    .dataframe tbody tr th {\n",
              "        vertical-align: top;\n",
              "    }\n",
              "\n",
              "    .dataframe thead th {\n",
              "        text-align: right;\n",
              "    }\n",
              "</style>\n",
              "<table border=\"1\" class=\"dataframe\">\n",
              "  <thead>\n",
              "    <tr style=\"text-align: right;\">\n",
              "      <th></th>\n",
              "      <th>Gender</th>\n",
              "      <th>Married</th>\n",
              "      <th>Children</th>\n",
              "      <th>Mode_transport</th>\n",
              "      <th>cases/1M</th>\n",
              "      <th>Deaths/1M</th>\n",
              "      <th>comorbidity</th>\n",
              "      <th>Age</th>\n",
              "      <th>Coma score</th>\n",
              "      <th>Pulmonary score</th>\n",
              "      <th>cardiological pressure</th>\n",
              "      <th>Diuresis</th>\n",
              "      <th>Platelets</th>\n",
              "      <th>HBB</th>\n",
              "      <th>d-dimer</th>\n",
              "      <th>Heart rate</th>\n",
              "      <th>HDL cholesterol</th>\n",
              "      <th>Charlson Index</th>\n",
              "      <th>Blood Glucose</th>\n",
              "      <th>Insurance</th>\n",
              "      <th>salary</th>\n",
              "      <th>FT/month</th>\n",
              "      <th>Infect_Prob</th>\n",
              "    </tr>\n",
              "  </thead>\n",
              "  <tbody>\n",
              "    <tr>\n",
              "      <th>10704</th>\n",
              "      <td>Male</td>\n",
              "      <td>YES</td>\n",
              "      <td>2.0</td>\n",
              "      <td>Walk</td>\n",
              "      <td>8</td>\n",
              "      <td>2</td>\n",
              "      <td>None</td>\n",
              "      <td>28</td>\n",
              "      <td>9</td>\n",
              "      <td>&lt;200</td>\n",
              "      <td>Stage-01</td>\n",
              "      <td>339.0</td>\n",
              "      <td>146.0</td>\n",
              "      <td>72.0</td>\n",
              "      <td>307.0</td>\n",
              "      <td>60.0</td>\n",
              "      <td>58.0</td>\n",
              "      <td>35</td>\n",
              "      <td>4</td>\n",
              "      <td>4400000.0</td>\n",
              "      <td>700000</td>\n",
              "      <td>0.0</td>\n",
              "      <td>59.594744</td>\n",
              "    </tr>\n",
              "    <tr>\n",
              "      <th>10705</th>\n",
              "      <td>Male</td>\n",
              "      <td>YES</td>\n",
              "      <td>2.0</td>\n",
              "      <td>Public</td>\n",
              "      <td>8</td>\n",
              "      <td>2</td>\n",
              "      <td>Hypertension</td>\n",
              "      <td>63</td>\n",
              "      <td>10</td>\n",
              "      <td>&lt;100</td>\n",
              "      <td>Stage-02</td>\n",
              "      <td>NaN</td>\n",
              "      <td>29.0</td>\n",
              "      <td>98.0</td>\n",
              "      <td>226.0</td>\n",
              "      <td>89.0</td>\n",
              "      <td>39.0</td>\n",
              "      <td>13</td>\n",
              "      <td>7</td>\n",
              "      <td>3400000.0</td>\n",
              "      <td>900000</td>\n",
              "      <td>1.0</td>\n",
              "      <td>59.374719</td>\n",
              "    </tr>\n",
              "    <tr>\n",
              "      <th>10706</th>\n",
              "      <td>Male</td>\n",
              "      <td>YES</td>\n",
              "      <td>2.0</td>\n",
              "      <td>Public</td>\n",
              "      <td>8</td>\n",
              "      <td>2</td>\n",
              "      <td>Hypertension</td>\n",
              "      <td>63</td>\n",
              "      <td>5</td>\n",
              "      <td>&lt;400</td>\n",
              "      <td>Normal</td>\n",
              "      <td>NaN</td>\n",
              "      <td>53.0</td>\n",
              "      <td>77.0</td>\n",
              "      <td>258.0</td>\n",
              "      <td>67.0</td>\n",
              "      <td>63.0</td>\n",
              "      <td>1</td>\n",
              "      <td>4</td>\n",
              "      <td>4900000.0</td>\n",
              "      <td>1900000</td>\n",
              "      <td>2.0</td>\n",
              "      <td>58.798970</td>\n",
              "    </tr>\n",
              "    <tr>\n",
              "      <th>10707</th>\n",
              "      <td>Male</td>\n",
              "      <td>NO</td>\n",
              "      <td>NaN</td>\n",
              "      <td>Car</td>\n",
              "      <td>8</td>\n",
              "      <td>2</td>\n",
              "      <td>None</td>\n",
              "      <td>17</td>\n",
              "      <td>3</td>\n",
              "      <td>&lt;400</td>\n",
              "      <td>Normal</td>\n",
              "      <td>297.0</td>\n",
              "      <td>107.0</td>\n",
              "      <td>33.0</td>\n",
              "      <td>271.0</td>\n",
              "      <td>67.0</td>\n",
              "      <td>68.0</td>\n",
              "      <td>38</td>\n",
              "      <td>3</td>\n",
              "      <td>NaN</td>\n",
              "      <td>1100000</td>\n",
              "      <td>2.0</td>\n",
              "      <td>30.265920</td>\n",
              "    </tr>\n",
              "    <tr>\n",
              "      <th>10708</th>\n",
              "      <td>Male</td>\n",
              "      <td>YES</td>\n",
              "      <td>1.0</td>\n",
              "      <td>Public</td>\n",
              "      <td>8</td>\n",
              "      <td>2</td>\n",
              "      <td>Diabetes</td>\n",
              "      <td>35</td>\n",
              "      <td>11</td>\n",
              "      <td>&lt;200</td>\n",
              "      <td>Stage-01</td>\n",
              "      <td>397.0</td>\n",
              "      <td>78.0</td>\n",
              "      <td>150.0</td>\n",
              "      <td>337.0</td>\n",
              "      <td>69.0</td>\n",
              "      <td>44.0</td>\n",
              "      <td>31</td>\n",
              "      <td>3</td>\n",
              "      <td>3300000.0</td>\n",
              "      <td>1400000</td>\n",
              "      <td>2.0</td>\n",
              "      <td>53.741750</td>\n",
              "    </tr>\n",
              "    <tr>\n",
              "      <th>10709</th>\n",
              "      <td>Male</td>\n",
              "      <td>NO</td>\n",
              "      <td>2.0</td>\n",
              "      <td>Car</td>\n",
              "      <td>8</td>\n",
              "      <td>2</td>\n",
              "      <td>Diabetes</td>\n",
              "      <td>20</td>\n",
              "      <td>14</td>\n",
              "      <td>&lt;400</td>\n",
              "      <td>Normal</td>\n",
              "      <td>134.0</td>\n",
              "      <td>67.0</td>\n",
              "      <td>24.0</td>\n",
              "      <td>209.0</td>\n",
              "      <td>61.0</td>\n",
              "      <td>56.0</td>\n",
              "      <td>35</td>\n",
              "      <td>7</td>\n",
              "      <td>4000000.0</td>\n",
              "      <td>300000</td>\n",
              "      <td>0.0</td>\n",
              "      <td>41.981760</td>\n",
              "    </tr>\n",
              "    <tr>\n",
              "      <th>10710</th>\n",
              "      <td>Male</td>\n",
              "      <td>YES</td>\n",
              "      <td>0.0</td>\n",
              "      <td>Car</td>\n",
              "      <td>8</td>\n",
              "      <td>2</td>\n",
              "      <td>None</td>\n",
              "      <td>42</td>\n",
              "      <td>4</td>\n",
              "      <td>&lt;400</td>\n",
              "      <td>Normal</td>\n",
              "      <td>387.0</td>\n",
              "      <td>102.0</td>\n",
              "      <td>134.0</td>\n",
              "      <td>211.0</td>\n",
              "      <td>65.0</td>\n",
              "      <td>47.0</td>\n",
              "      <td>35</td>\n",
              "      <td>7</td>\n",
              "      <td>1500000.0</td>\n",
              "      <td>700000</td>\n",
              "      <td>NaN</td>\n",
              "      <td>47.148663</td>\n",
              "    </tr>\n",
              "    <tr>\n",
              "      <th>10711</th>\n",
              "      <td>Male</td>\n",
              "      <td>YES</td>\n",
              "      <td>0.0</td>\n",
              "      <td>Public</td>\n",
              "      <td>8</td>\n",
              "      <td>2</td>\n",
              "      <td>Diabetes</td>\n",
              "      <td>59</td>\n",
              "      <td>3</td>\n",
              "      <td>&lt;100</td>\n",
              "      <td>Stage-02</td>\n",
              "      <td>177.0</td>\n",
              "      <td>111.0</td>\n",
              "      <td>151.0</td>\n",
              "      <td>296.0</td>\n",
              "      <td>87.0</td>\n",
              "      <td>37.0</td>\n",
              "      <td>16</td>\n",
              "      <td>5</td>\n",
              "      <td>3000000.0</td>\n",
              "      <td>2100000</td>\n",
              "      <td>2.0</td>\n",
              "      <td>47.708533</td>\n",
              "    </tr>\n",
              "    <tr>\n",
              "      <th>10712</th>\n",
              "      <td>Male</td>\n",
              "      <td>YES</td>\n",
              "      <td>1.0</td>\n",
              "      <td>Walk</td>\n",
              "      <td>8</td>\n",
              "      <td>2</td>\n",
              "      <td>Coronary Heart Disease</td>\n",
              "      <td>49</td>\n",
              "      <td>6</td>\n",
              "      <td>&lt;300</td>\n",
              "      <td>Elevated</td>\n",
              "      <td>352.0</td>\n",
              "      <td>140.0</td>\n",
              "      <td>110.0</td>\n",
              "      <td>253.0</td>\n",
              "      <td>56.0</td>\n",
              "      <td>70.0</td>\n",
              "      <td>28</td>\n",
              "      <td>5</td>\n",
              "      <td>2900000.0</td>\n",
              "      <td>700000</td>\n",
              "      <td>1.0</td>\n",
              "      <td>53.803565</td>\n",
              "    </tr>\n",
              "    <tr>\n",
              "      <th>10713</th>\n",
              "      <td>Male</td>\n",
              "      <td>NO</td>\n",
              "      <td>2.0</td>\n",
              "      <td>Car</td>\n",
              "      <td>8</td>\n",
              "      <td>2</td>\n",
              "      <td>Diabetes</td>\n",
              "      <td>17</td>\n",
              "      <td>7</td>\n",
              "      <td>&lt;400</td>\n",
              "      <td>Normal</td>\n",
              "      <td>181.0</td>\n",
              "      <td>65.0</td>\n",
              "      <td>134.0</td>\n",
              "      <td>201.0</td>\n",
              "      <td>82.0</td>\n",
              "      <td>60.0</td>\n",
              "      <td>4</td>\n",
              "      <td>3</td>\n",
              "      <td>2100000.0</td>\n",
              "      <td>1400000</td>\n",
              "      <td>0.0</td>\n",
              "      <td>68.342400</td>\n",
              "    </tr>\n",
              "  </tbody>\n",
              "</table>\n",
              "</div>"
            ],
            "text/plain": [
              "      Gender Married  Children  ...   salary  FT/month  Infect_Prob\n",
              "10704   Male     YES       2.0  ...   700000       0.0    59.594744\n",
              "10705   Male     YES       2.0  ...   900000       1.0    59.374719\n",
              "10706   Male     YES       2.0  ...  1900000       2.0    58.798970\n",
              "10707   Male      NO       NaN  ...  1100000       2.0    30.265920\n",
              "10708   Male     YES       1.0  ...  1400000       2.0    53.741750\n",
              "10709   Male      NO       2.0  ...   300000       0.0    41.981760\n",
              "10710   Male     YES       0.0  ...   700000       NaN    47.148663\n",
              "10711   Male     YES       0.0  ...  2100000       2.0    47.708533\n",
              "10712   Male     YES       1.0  ...   700000       1.0    53.803565\n",
              "10713   Male      NO       2.0  ...  1400000       0.0    68.342400\n",
              "\n",
              "[10 rows x 23 columns]"
            ]
          },
          "metadata": {
            "tags": []
          },
          "execution_count": 22
        }
      ]
    },
    {
      "cell_type": "code",
      "metadata": {
        "id": "pLf8gZaHiAoE",
        "colab_type": "code",
        "colab": {}
      },
      "source": [
        "df_sub['Children'].fillna(method='ffill',inplace=True)"
      ],
      "execution_count": 0,
      "outputs": []
    },
    {
      "cell_type": "code",
      "metadata": {
        "id": "Q00FRmWOiT4x",
        "colab_type": "code",
        "outputId": "c6f7a794-0483-40ad-84cf-4d3c25a174b2",
        "colab": {
          "base_uri": "https://localhost:8080/",
          "height": 493
        }
      },
      "source": [
        "df_sub.info()"
      ],
      "execution_count": 24,
      "outputs": [
        {
          "output_type": "stream",
          "text": [
            "<class 'pandas.core.frame.DataFrame'>\n",
            "RangeIndex: 10714 entries, 0 to 10713\n",
            "Data columns (total 23 columns):\n",
            "Gender                    10714 non-null object\n",
            "Married                   10714 non-null object\n",
            "Children                  10714 non-null float64\n",
            "Mode_transport            10711 non-null object\n",
            "cases/1M                  10714 non-null int64\n",
            "Deaths/1M                 10714 non-null int64\n",
            "comorbidity               10488 non-null object\n",
            "Age                       10714 non-null int64\n",
            "Coma score                10714 non-null int64\n",
            "Pulmonary score           10714 non-null object\n",
            "cardiological pressure    10617 non-null object\n",
            "Diuresis                  9998 non-null float64\n",
            "Platelets                 9790 non-null float64\n",
            "HBB                       10698 non-null float64\n",
            "d-dimer                   9600 non-null float64\n",
            "Heart rate                9600 non-null float64\n",
            "HDL cholesterol           10679 non-null float64\n",
            "Charlson Index            10714 non-null int64\n",
            "Blood Glucose             10714 non-null int64\n",
            "Insurance                 9624 non-null float64\n",
            "salary                    10714 non-null int64\n",
            "FT/month                  9991 non-null float64\n",
            "Infect_Prob               10714 non-null float64\n",
            "dtypes: float64(10), int64(7), object(6)\n",
            "memory usage: 1.9+ MB\n"
          ],
          "name": "stdout"
        }
      ]
    },
    {
      "cell_type": "code",
      "metadata": {
        "id": "EqOtSXVRiWlR",
        "colab_type": "code",
        "colab": {}
      },
      "source": [
        "df_sub['Mode_transport'].fillna(method='ffill',inplace=True)"
      ],
      "execution_count": 0,
      "outputs": []
    },
    {
      "cell_type": "code",
      "metadata": {
        "id": "e_zUYqOai5L7",
        "colab_type": "code",
        "outputId": "48f68d94-82c4-428f-a7cd-23c27a6a6d9c",
        "colab": {
          "base_uri": "https://localhost:8080/",
          "height": 493
        }
      },
      "source": [
        "df_sub.info()"
      ],
      "execution_count": 26,
      "outputs": [
        {
          "output_type": "stream",
          "text": [
            "<class 'pandas.core.frame.DataFrame'>\n",
            "RangeIndex: 10714 entries, 0 to 10713\n",
            "Data columns (total 23 columns):\n",
            "Gender                    10714 non-null object\n",
            "Married                   10714 non-null object\n",
            "Children                  10714 non-null float64\n",
            "Mode_transport            10714 non-null object\n",
            "cases/1M                  10714 non-null int64\n",
            "Deaths/1M                 10714 non-null int64\n",
            "comorbidity               10488 non-null object\n",
            "Age                       10714 non-null int64\n",
            "Coma score                10714 non-null int64\n",
            "Pulmonary score           10714 non-null object\n",
            "cardiological pressure    10617 non-null object\n",
            "Diuresis                  9998 non-null float64\n",
            "Platelets                 9790 non-null float64\n",
            "HBB                       10698 non-null float64\n",
            "d-dimer                   9600 non-null float64\n",
            "Heart rate                9600 non-null float64\n",
            "HDL cholesterol           10679 non-null float64\n",
            "Charlson Index            10714 non-null int64\n",
            "Blood Glucose             10714 non-null int64\n",
            "Insurance                 9624 non-null float64\n",
            "salary                    10714 non-null int64\n",
            "FT/month                  9991 non-null float64\n",
            "Infect_Prob               10714 non-null float64\n",
            "dtypes: float64(10), int64(7), object(6)\n",
            "memory usage: 1.9+ MB\n"
          ],
          "name": "stdout"
        }
      ]
    },
    {
      "cell_type": "code",
      "metadata": {
        "id": "i_XCoRBbjLp6",
        "colab_type": "code",
        "colab": {}
      },
      "source": [
        "df_sub['comorbidity'].fillna(method='ffill',inplace=True)"
      ],
      "execution_count": 0,
      "outputs": []
    },
    {
      "cell_type": "code",
      "metadata": {
        "id": "7F0daqlmjh0I",
        "colab_type": "code",
        "outputId": "35868703-c5b8-4c8d-e0fa-895797c67107",
        "colab": {
          "base_uri": "https://localhost:8080/",
          "height": 493
        }
      },
      "source": [
        "df_sub.info()"
      ],
      "execution_count": 28,
      "outputs": [
        {
          "output_type": "stream",
          "text": [
            "<class 'pandas.core.frame.DataFrame'>\n",
            "RangeIndex: 10714 entries, 0 to 10713\n",
            "Data columns (total 23 columns):\n",
            "Gender                    10714 non-null object\n",
            "Married                   10714 non-null object\n",
            "Children                  10714 non-null float64\n",
            "Mode_transport            10714 non-null object\n",
            "cases/1M                  10714 non-null int64\n",
            "Deaths/1M                 10714 non-null int64\n",
            "comorbidity               10714 non-null object\n",
            "Age                       10714 non-null int64\n",
            "Coma score                10714 non-null int64\n",
            "Pulmonary score           10714 non-null object\n",
            "cardiological pressure    10617 non-null object\n",
            "Diuresis                  9998 non-null float64\n",
            "Platelets                 9790 non-null float64\n",
            "HBB                       10698 non-null float64\n",
            "d-dimer                   9600 non-null float64\n",
            "Heart rate                9600 non-null float64\n",
            "HDL cholesterol           10679 non-null float64\n",
            "Charlson Index            10714 non-null int64\n",
            "Blood Glucose             10714 non-null int64\n",
            "Insurance                 9624 non-null float64\n",
            "salary                    10714 non-null int64\n",
            "FT/month                  9991 non-null float64\n",
            "Infect_Prob               10714 non-null float64\n",
            "dtypes: float64(10), int64(7), object(6)\n",
            "memory usage: 1.9+ MB\n"
          ],
          "name": "stdout"
        }
      ]
    },
    {
      "cell_type": "code",
      "metadata": {
        "id": "PEK083WhjjJH",
        "colab_type": "code",
        "colab": {}
      },
      "source": [
        "df_sub['cardiological pressure'].fillna(method='ffill',inplace=True)"
      ],
      "execution_count": 0,
      "outputs": []
    },
    {
      "cell_type": "code",
      "metadata": {
        "id": "jJzQJoDTlr90",
        "colab_type": "code",
        "outputId": "c453dfde-e8b2-4e95-e1ae-ee6e8ff3b296",
        "colab": {
          "base_uri": "https://localhost:8080/",
          "height": 493
        }
      },
      "source": [
        "df_sub.info()"
      ],
      "execution_count": 30,
      "outputs": [
        {
          "output_type": "stream",
          "text": [
            "<class 'pandas.core.frame.DataFrame'>\n",
            "RangeIndex: 10714 entries, 0 to 10713\n",
            "Data columns (total 23 columns):\n",
            "Gender                    10714 non-null object\n",
            "Married                   10714 non-null object\n",
            "Children                  10714 non-null float64\n",
            "Mode_transport            10714 non-null object\n",
            "cases/1M                  10714 non-null int64\n",
            "Deaths/1M                 10714 non-null int64\n",
            "comorbidity               10714 non-null object\n",
            "Age                       10714 non-null int64\n",
            "Coma score                10714 non-null int64\n",
            "Pulmonary score           10714 non-null object\n",
            "cardiological pressure    10714 non-null object\n",
            "Diuresis                  9998 non-null float64\n",
            "Platelets                 9790 non-null float64\n",
            "HBB                       10698 non-null float64\n",
            "d-dimer                   9600 non-null float64\n",
            "Heart rate                9600 non-null float64\n",
            "HDL cholesterol           10679 non-null float64\n",
            "Charlson Index            10714 non-null int64\n",
            "Blood Glucose             10714 non-null int64\n",
            "Insurance                 9624 non-null float64\n",
            "salary                    10714 non-null int64\n",
            "FT/month                  9991 non-null float64\n",
            "Infect_Prob               10714 non-null float64\n",
            "dtypes: float64(10), int64(7), object(6)\n",
            "memory usage: 1.9+ MB\n"
          ],
          "name": "stdout"
        }
      ]
    },
    {
      "cell_type": "code",
      "metadata": {
        "id": "KXTD3Hxhlwa3",
        "colab_type": "code",
        "outputId": "d7f7a448-2221-4d54-da2b-e2d58e7605de",
        "colab": {
          "base_uri": "https://localhost:8080/",
          "height": 493
        }
      },
      "source": [
        "df_sub.fillna(df_sub.mean()).info()"
      ],
      "execution_count": 31,
      "outputs": [
        {
          "output_type": "stream",
          "text": [
            "<class 'pandas.core.frame.DataFrame'>\n",
            "RangeIndex: 10714 entries, 0 to 10713\n",
            "Data columns (total 23 columns):\n",
            "Gender                    10714 non-null object\n",
            "Married                   10714 non-null object\n",
            "Children                  10714 non-null float64\n",
            "Mode_transport            10714 non-null object\n",
            "cases/1M                  10714 non-null int64\n",
            "Deaths/1M                 10714 non-null int64\n",
            "comorbidity               10714 non-null object\n",
            "Age                       10714 non-null int64\n",
            "Coma score                10714 non-null int64\n",
            "Pulmonary score           10714 non-null object\n",
            "cardiological pressure    10714 non-null object\n",
            "Diuresis                  10714 non-null float64\n",
            "Platelets                 10714 non-null float64\n",
            "HBB                       10714 non-null float64\n",
            "d-dimer                   10714 non-null float64\n",
            "Heart rate                10714 non-null float64\n",
            "HDL cholesterol           10714 non-null float64\n",
            "Charlson Index            10714 non-null int64\n",
            "Blood Glucose             10714 non-null int64\n",
            "Insurance                 10714 non-null float64\n",
            "salary                    10714 non-null int64\n",
            "FT/month                  10714 non-null float64\n",
            "Infect_Prob               10714 non-null float64\n",
            "dtypes: float64(10), int64(7), object(6)\n",
            "memory usage: 1.9+ MB\n"
          ],
          "name": "stdout"
        }
      ]
    },
    {
      "cell_type": "code",
      "metadata": {
        "id": "JDaYR5jrl5qk",
        "colab_type": "code",
        "colab": {}
      },
      "source": [
        "df_sub.fillna(df_sub.mean(),inplace=True)"
      ],
      "execution_count": 0,
      "outputs": []
    },
    {
      "cell_type": "code",
      "metadata": {
        "id": "2RLElRRembF8",
        "colab_type": "code",
        "outputId": "b0065ad9-f3c5-4758-8c8b-c65c4d0e196c",
        "colab": {
          "base_uri": "https://localhost:8080/",
          "height": 493
        }
      },
      "source": [
        "df_sub.info()"
      ],
      "execution_count": 33,
      "outputs": [
        {
          "output_type": "stream",
          "text": [
            "<class 'pandas.core.frame.DataFrame'>\n",
            "RangeIndex: 10714 entries, 0 to 10713\n",
            "Data columns (total 23 columns):\n",
            "Gender                    10714 non-null object\n",
            "Married                   10714 non-null object\n",
            "Children                  10714 non-null float64\n",
            "Mode_transport            10714 non-null object\n",
            "cases/1M                  10714 non-null int64\n",
            "Deaths/1M                 10714 non-null int64\n",
            "comorbidity               10714 non-null object\n",
            "Age                       10714 non-null int64\n",
            "Coma score                10714 non-null int64\n",
            "Pulmonary score           10714 non-null object\n",
            "cardiological pressure    10714 non-null object\n",
            "Diuresis                  10714 non-null float64\n",
            "Platelets                 10714 non-null float64\n",
            "HBB                       10714 non-null float64\n",
            "d-dimer                   10714 non-null float64\n",
            "Heart rate                10714 non-null float64\n",
            "HDL cholesterol           10714 non-null float64\n",
            "Charlson Index            10714 non-null int64\n",
            "Blood Glucose             10714 non-null int64\n",
            "Insurance                 10714 non-null float64\n",
            "salary                    10714 non-null int64\n",
            "FT/month                  10714 non-null float64\n",
            "Infect_Prob               10714 non-null float64\n",
            "dtypes: float64(10), int64(7), object(6)\n",
            "memory usage: 1.9+ MB\n"
          ],
          "name": "stdout"
        }
      ]
    },
    {
      "cell_type": "code",
      "metadata": {
        "id": "-AJd1FKumdQT",
        "colab_type": "code",
        "outputId": "2209b668-bba3-4103-a8a9-e700514c653a",
        "colab": {
          "base_uri": "https://localhost:8080/",
          "height": 430
        }
      },
      "source": [
        "df_sub.head(10)"
      ],
      "execution_count": 34,
      "outputs": [
        {
          "output_type": "execute_result",
          "data": {
            "text/html": [
              "<div>\n",
              "<style scoped>\n",
              "    .dataframe tbody tr th:only-of-type {\n",
              "        vertical-align: middle;\n",
              "    }\n",
              "\n",
              "    .dataframe tbody tr th {\n",
              "        vertical-align: top;\n",
              "    }\n",
              "\n",
              "    .dataframe thead th {\n",
              "        text-align: right;\n",
              "    }\n",
              "</style>\n",
              "<table border=\"1\" class=\"dataframe\">\n",
              "  <thead>\n",
              "    <tr style=\"text-align: right;\">\n",
              "      <th></th>\n",
              "      <th>Gender</th>\n",
              "      <th>Married</th>\n",
              "      <th>Children</th>\n",
              "      <th>Mode_transport</th>\n",
              "      <th>cases/1M</th>\n",
              "      <th>Deaths/1M</th>\n",
              "      <th>comorbidity</th>\n",
              "      <th>Age</th>\n",
              "      <th>Coma score</th>\n",
              "      <th>Pulmonary score</th>\n",
              "      <th>cardiological pressure</th>\n",
              "      <th>Diuresis</th>\n",
              "      <th>Platelets</th>\n",
              "      <th>HBB</th>\n",
              "      <th>d-dimer</th>\n",
              "      <th>Heart rate</th>\n",
              "      <th>HDL cholesterol</th>\n",
              "      <th>Charlson Index</th>\n",
              "      <th>Blood Glucose</th>\n",
              "      <th>Insurance</th>\n",
              "      <th>salary</th>\n",
              "      <th>FT/month</th>\n",
              "      <th>Infect_Prob</th>\n",
              "    </tr>\n",
              "  </thead>\n",
              "  <tbody>\n",
              "    <tr>\n",
              "      <th>0</th>\n",
              "      <td>Female</td>\n",
              "      <td>YES</td>\n",
              "      <td>1.0</td>\n",
              "      <td>Public</td>\n",
              "      <td>2</td>\n",
              "      <td>0</td>\n",
              "      <td>Hypertension</td>\n",
              "      <td>68</td>\n",
              "      <td>8</td>\n",
              "      <td>&lt;400</td>\n",
              "      <td>Normal</td>\n",
              "      <td>441.000000</td>\n",
              "      <td>154.000000</td>\n",
              "      <td>93.0</td>\n",
              "      <td>233.000000</td>\n",
              "      <td>82.000000</td>\n",
              "      <td>58.0</td>\n",
              "      <td>27</td>\n",
              "      <td>7</td>\n",
              "      <td>3600000.0</td>\n",
              "      <td>1300000</td>\n",
              "      <td>2.0</td>\n",
              "      <td>49.135010</td>\n",
              "    </tr>\n",
              "    <tr>\n",
              "      <th>1</th>\n",
              "      <td>Female</td>\n",
              "      <td>YES</td>\n",
              "      <td>2.0</td>\n",
              "      <td>Walk</td>\n",
              "      <td>2</td>\n",
              "      <td>0</td>\n",
              "      <td>Diabetes</td>\n",
              "      <td>64</td>\n",
              "      <td>15</td>\n",
              "      <td>&lt;100</td>\n",
              "      <td>Stage-02</td>\n",
              "      <td>278.806261</td>\n",
              "      <td>121.000000</td>\n",
              "      <td>56.0</td>\n",
              "      <td>328.000000</td>\n",
              "      <td>89.000000</td>\n",
              "      <td>68.0</td>\n",
              "      <td>5</td>\n",
              "      <td>6</td>\n",
              "      <td>1600000.0</td>\n",
              "      <td>400000</td>\n",
              "      <td>1.0</td>\n",
              "      <td>51.147880</td>\n",
              "    </tr>\n",
              "    <tr>\n",
              "      <th>2</th>\n",
              "      <td>Female</td>\n",
              "      <td>NO</td>\n",
              "      <td>1.0</td>\n",
              "      <td>Public</td>\n",
              "      <td>2</td>\n",
              "      <td>0</td>\n",
              "      <td>None</td>\n",
              "      <td>19</td>\n",
              "      <td>13</td>\n",
              "      <td>&lt;300</td>\n",
              "      <td>Elevated</td>\n",
              "      <td>416.000000</td>\n",
              "      <td>124.000000</td>\n",
              "      <td>137.0</td>\n",
              "      <td>213.000000</td>\n",
              "      <td>77.000000</td>\n",
              "      <td>43.0</td>\n",
              "      <td>40</td>\n",
              "      <td>6</td>\n",
              "      <td>3400000.0</td>\n",
              "      <td>900000</td>\n",
              "      <td>1.0</td>\n",
              "      <td>73.224000</td>\n",
              "    </tr>\n",
              "    <tr>\n",
              "      <th>3</th>\n",
              "      <td>Female</td>\n",
              "      <td>YES</td>\n",
              "      <td>1.0</td>\n",
              "      <td>Car</td>\n",
              "      <td>2</td>\n",
              "      <td>0</td>\n",
              "      <td>Coronary Heart Disease</td>\n",
              "      <td>33</td>\n",
              "      <td>9</td>\n",
              "      <td>&lt;200</td>\n",
              "      <td>Stage-01</td>\n",
              "      <td>410.000000</td>\n",
              "      <td>98.000000</td>\n",
              "      <td>167.0</td>\n",
              "      <td>275.000000</td>\n",
              "      <td>64.000000</td>\n",
              "      <td>60.0</td>\n",
              "      <td>27</td>\n",
              "      <td>7</td>\n",
              "      <td>700000.0</td>\n",
              "      <td>2300000</td>\n",
              "      <td>1.0</td>\n",
              "      <td>48.779225</td>\n",
              "    </tr>\n",
              "    <tr>\n",
              "      <th>4</th>\n",
              "      <td>Female</td>\n",
              "      <td>NO</td>\n",
              "      <td>2.0</td>\n",
              "      <td>Car</td>\n",
              "      <td>2</td>\n",
              "      <td>0</td>\n",
              "      <td>Diabetes</td>\n",
              "      <td>23</td>\n",
              "      <td>7</td>\n",
              "      <td>&lt;400</td>\n",
              "      <td>Normal</td>\n",
              "      <td>390.000000</td>\n",
              "      <td>21.000000</td>\n",
              "      <td>153.0</td>\n",
              "      <td>331.000000</td>\n",
              "      <td>71.000000</td>\n",
              "      <td>64.0</td>\n",
              "      <td>32</td>\n",
              "      <td>7</td>\n",
              "      <td>3200000.0</td>\n",
              "      <td>1100000</td>\n",
              "      <td>1.0</td>\n",
              "      <td>87.868800</td>\n",
              "    </tr>\n",
              "    <tr>\n",
              "      <th>5</th>\n",
              "      <td>Female</td>\n",
              "      <td>YES</td>\n",
              "      <td>1.0</td>\n",
              "      <td>Public</td>\n",
              "      <td>2</td>\n",
              "      <td>0</td>\n",
              "      <td>None</td>\n",
              "      <td>35</td>\n",
              "      <td>9</td>\n",
              "      <td>&lt;100</td>\n",
              "      <td>Stage-02</td>\n",
              "      <td>389.000000</td>\n",
              "      <td>139.000000</td>\n",
              "      <td>86.0</td>\n",
              "      <td>216.000000</td>\n",
              "      <td>94.000000</td>\n",
              "      <td>38.0</td>\n",
              "      <td>5</td>\n",
              "      <td>5</td>\n",
              "      <td>4600000.0</td>\n",
              "      <td>1900000</td>\n",
              "      <td>2.0</td>\n",
              "      <td>49.518345</td>\n",
              "    </tr>\n",
              "    <tr>\n",
              "      <th>6</th>\n",
              "      <td>Female</td>\n",
              "      <td>YES</td>\n",
              "      <td>2.0</td>\n",
              "      <td>Car</td>\n",
              "      <td>2</td>\n",
              "      <td>0</td>\n",
              "      <td>Coronary Heart Disease</td>\n",
              "      <td>61</td>\n",
              "      <td>3</td>\n",
              "      <td>&lt;400</td>\n",
              "      <td>Normal</td>\n",
              "      <td>278.806261</td>\n",
              "      <td>75.000000</td>\n",
              "      <td>156.0</td>\n",
              "      <td>311.000000</td>\n",
              "      <td>99.000000</td>\n",
              "      <td>68.0</td>\n",
              "      <td>23</td>\n",
              "      <td>5</td>\n",
              "      <td>4000000.0</td>\n",
              "      <td>1600000</td>\n",
              "      <td>1.0</td>\n",
              "      <td>49.670361</td>\n",
              "    </tr>\n",
              "    <tr>\n",
              "      <th>7</th>\n",
              "      <td>Female</td>\n",
              "      <td>YES</td>\n",
              "      <td>1.0</td>\n",
              "      <td>Public</td>\n",
              "      <td>2</td>\n",
              "      <td>0</td>\n",
              "      <td>Diabetes</td>\n",
              "      <td>49</td>\n",
              "      <td>10</td>\n",
              "      <td>&lt;200</td>\n",
              "      <td>Stage-01</td>\n",
              "      <td>194.000000</td>\n",
              "      <td>123.000000</td>\n",
              "      <td>179.0</td>\n",
              "      <td>242.000000</td>\n",
              "      <td>82.000000</td>\n",
              "      <td>59.0</td>\n",
              "      <td>34</td>\n",
              "      <td>3</td>\n",
              "      <td>4100000.0</td>\n",
              "      <td>1200000</td>\n",
              "      <td>0.0</td>\n",
              "      <td>49.121025</td>\n",
              "    </tr>\n",
              "    <tr>\n",
              "      <th>8</th>\n",
              "      <td>Female</td>\n",
              "      <td>YES</td>\n",
              "      <td>2.0</td>\n",
              "      <td>Public</td>\n",
              "      <td>2</td>\n",
              "      <td>0</td>\n",
              "      <td>Hypertension</td>\n",
              "      <td>44</td>\n",
              "      <td>6</td>\n",
              "      <td>&lt;200</td>\n",
              "      <td>Stage-01</td>\n",
              "      <td>310.000000</td>\n",
              "      <td>87.795812</td>\n",
              "      <td>156.0</td>\n",
              "      <td>275.292292</td>\n",
              "      <td>74.847396</td>\n",
              "      <td>37.0</td>\n",
              "      <td>21</td>\n",
              "      <td>7</td>\n",
              "      <td>4500000.0</td>\n",
              "      <td>900000</td>\n",
              "      <td>0.0</td>\n",
              "      <td>48.531922</td>\n",
              "    </tr>\n",
              "    <tr>\n",
              "      <th>9</th>\n",
              "      <td>Female</td>\n",
              "      <td>YES</td>\n",
              "      <td>1.0</td>\n",
              "      <td>Public</td>\n",
              "      <td>2</td>\n",
              "      <td>0</td>\n",
              "      <td>None</td>\n",
              "      <td>41</td>\n",
              "      <td>14</td>\n",
              "      <td>&lt;300</td>\n",
              "      <td>Elevated</td>\n",
              "      <td>242.000000</td>\n",
              "      <td>23.000000</td>\n",
              "      <td>178.0</td>\n",
              "      <td>277.000000</td>\n",
              "      <td>83.000000</td>\n",
              "      <td>58.0</td>\n",
              "      <td>28</td>\n",
              "      <td>4</td>\n",
              "      <td>2200000.0</td>\n",
              "      <td>1400000</td>\n",
              "      <td>2.0</td>\n",
              "      <td>48.475097</td>\n",
              "    </tr>\n",
              "  </tbody>\n",
              "</table>\n",
              "</div>"
            ],
            "text/plain": [
              "   Gender Married  Children  ...   salary  FT/month  Infect_Prob\n",
              "0  Female     YES       1.0  ...  1300000       2.0    49.135010\n",
              "1  Female     YES       2.0  ...   400000       1.0    51.147880\n",
              "2  Female      NO       1.0  ...   900000       1.0    73.224000\n",
              "3  Female     YES       1.0  ...  2300000       1.0    48.779225\n",
              "4  Female      NO       2.0  ...  1100000       1.0    87.868800\n",
              "5  Female     YES       1.0  ...  1900000       2.0    49.518345\n",
              "6  Female     YES       2.0  ...  1600000       1.0    49.670361\n",
              "7  Female     YES       1.0  ...  1200000       0.0    49.121025\n",
              "8  Female     YES       2.0  ...   900000       0.0    48.531922\n",
              "9  Female     YES       1.0  ...  1400000       2.0    48.475097\n",
              "\n",
              "[10 rows x 23 columns]"
            ]
          },
          "metadata": {
            "tags": []
          },
          "execution_count": 34
        }
      ]
    },
    {
      "cell_type": "code",
      "metadata": {
        "id": "piqY4nrpmhm7",
        "colab_type": "code",
        "colab": {}
      },
      "source": [
        "df_sub[[x for x in df_sub.columns if df_sub[x].dtype == 'O']] = df_sub[[x for x in df_sub.columns if df_sub[x].dtype == 'O']].astype('category')"
      ],
      "execution_count": 0,
      "outputs": []
    },
    {
      "cell_type": "code",
      "metadata": {
        "id": "VFS0cR-6oqVl",
        "colab_type": "code",
        "outputId": "2faa6dd1-7a4e-4582-b829-85c7f41f7a5f",
        "colab": {
          "base_uri": "https://localhost:8080/",
          "height": 493
        }
      },
      "source": [
        "df_sub.info()"
      ],
      "execution_count": 36,
      "outputs": [
        {
          "output_type": "stream",
          "text": [
            "<class 'pandas.core.frame.DataFrame'>\n",
            "RangeIndex: 10714 entries, 0 to 10713\n",
            "Data columns (total 23 columns):\n",
            "Gender                    10714 non-null category\n",
            "Married                   10714 non-null category\n",
            "Children                  10714 non-null float64\n",
            "Mode_transport            10714 non-null category\n",
            "cases/1M                  10714 non-null int64\n",
            "Deaths/1M                 10714 non-null int64\n",
            "comorbidity               10714 non-null category\n",
            "Age                       10714 non-null int64\n",
            "Coma score                10714 non-null int64\n",
            "Pulmonary score           10714 non-null category\n",
            "cardiological pressure    10714 non-null category\n",
            "Diuresis                  10714 non-null float64\n",
            "Platelets                 10714 non-null float64\n",
            "HBB                       10714 non-null float64\n",
            "d-dimer                   10714 non-null float64\n",
            "Heart rate                10714 non-null float64\n",
            "HDL cholesterol           10714 non-null float64\n",
            "Charlson Index            10714 non-null int64\n",
            "Blood Glucose             10714 non-null int64\n",
            "Insurance                 10714 non-null float64\n",
            "salary                    10714 non-null int64\n",
            "FT/month                  10714 non-null float64\n",
            "Infect_Prob               10714 non-null float64\n",
            "dtypes: category(6), float64(10), int64(7)\n",
            "memory usage: 1.5 MB\n"
          ],
          "name": "stdout"
        }
      ]
    },
    {
      "cell_type": "code",
      "metadata": {
        "id": "UP-t8EzAo5yB",
        "colab_type": "code",
        "colab": {}
      },
      "source": [
        "categorical_columns = ['Gender','Married','Mode_transport','comorbidity','Pulmonary score', 'cardiological pressure']"
      ],
      "execution_count": 0,
      "outputs": []
    },
    {
      "cell_type": "code",
      "metadata": {
        "id": "sIjbqBu8q-tf",
        "colab_type": "code",
        "colab": {
          "base_uri": "https://localhost:8080/",
          "height": 221
        },
        "outputId": "fcf195f7-4553-4dd0-855f-357aefb61ae5"
      },
      "source": [
        "df_sub['Pulmonary score'].cat.codes"
      ],
      "execution_count": 38,
      "outputs": [
        {
          "output_type": "execute_result",
          "data": {
            "text/plain": [
              "0        3\n",
              "1        0\n",
              "2        2\n",
              "3        1\n",
              "4        3\n",
              "        ..\n",
              "10709    3\n",
              "10710    3\n",
              "10711    0\n",
              "10712    2\n",
              "10713    3\n",
              "Length: 10714, dtype: int8"
            ]
          },
          "metadata": {
            "tags": []
          },
          "execution_count": 38
        }
      ]
    },
    {
      "cell_type": "code",
      "metadata": {
        "id": "gp8OvkJqsWbG",
        "colab_type": "code",
        "colab": {}
      },
      "source": [
        "for i in categorical_columns:\n",
        "  df_sub[i] = df_sub[i].cat.codes"
      ],
      "execution_count": 0,
      "outputs": []
    },
    {
      "cell_type": "code",
      "metadata": {
        "id": "Z75oNpkZs6qy",
        "colab_type": "code",
        "colab": {
          "base_uri": "https://localhost:8080/",
          "height": 241
        },
        "outputId": "a95043f1-ee2c-480b-9958-a7c756d63406"
      },
      "source": [
        "df_sub.head()"
      ],
      "execution_count": 40,
      "outputs": [
        {
          "output_type": "execute_result",
          "data": {
            "text/html": [
              "<div>\n",
              "<style scoped>\n",
              "    .dataframe tbody tr th:only-of-type {\n",
              "        vertical-align: middle;\n",
              "    }\n",
              "\n",
              "    .dataframe tbody tr th {\n",
              "        vertical-align: top;\n",
              "    }\n",
              "\n",
              "    .dataframe thead th {\n",
              "        text-align: right;\n",
              "    }\n",
              "</style>\n",
              "<table border=\"1\" class=\"dataframe\">\n",
              "  <thead>\n",
              "    <tr style=\"text-align: right;\">\n",
              "      <th></th>\n",
              "      <th>Gender</th>\n",
              "      <th>Married</th>\n",
              "      <th>Children</th>\n",
              "      <th>Mode_transport</th>\n",
              "      <th>cases/1M</th>\n",
              "      <th>Deaths/1M</th>\n",
              "      <th>comorbidity</th>\n",
              "      <th>Age</th>\n",
              "      <th>Coma score</th>\n",
              "      <th>Pulmonary score</th>\n",
              "      <th>cardiological pressure</th>\n",
              "      <th>Diuresis</th>\n",
              "      <th>Platelets</th>\n",
              "      <th>HBB</th>\n",
              "      <th>d-dimer</th>\n",
              "      <th>Heart rate</th>\n",
              "      <th>HDL cholesterol</th>\n",
              "      <th>Charlson Index</th>\n",
              "      <th>Blood Glucose</th>\n",
              "      <th>Insurance</th>\n",
              "      <th>salary</th>\n",
              "      <th>FT/month</th>\n",
              "      <th>Infect_Prob</th>\n",
              "    </tr>\n",
              "  </thead>\n",
              "  <tbody>\n",
              "    <tr>\n",
              "      <th>0</th>\n",
              "      <td>0</td>\n",
              "      <td>1</td>\n",
              "      <td>1.0</td>\n",
              "      <td>1</td>\n",
              "      <td>2</td>\n",
              "      <td>0</td>\n",
              "      <td>2</td>\n",
              "      <td>68</td>\n",
              "      <td>8</td>\n",
              "      <td>3</td>\n",
              "      <td>1</td>\n",
              "      <td>441.000000</td>\n",
              "      <td>154.0</td>\n",
              "      <td>93.0</td>\n",
              "      <td>233.0</td>\n",
              "      <td>82.0</td>\n",
              "      <td>58.0</td>\n",
              "      <td>27</td>\n",
              "      <td>7</td>\n",
              "      <td>3600000.0</td>\n",
              "      <td>1300000</td>\n",
              "      <td>2.0</td>\n",
              "      <td>49.135010</td>\n",
              "    </tr>\n",
              "    <tr>\n",
              "      <th>1</th>\n",
              "      <td>0</td>\n",
              "      <td>1</td>\n",
              "      <td>2.0</td>\n",
              "      <td>2</td>\n",
              "      <td>2</td>\n",
              "      <td>0</td>\n",
              "      <td>1</td>\n",
              "      <td>64</td>\n",
              "      <td>15</td>\n",
              "      <td>0</td>\n",
              "      <td>3</td>\n",
              "      <td>278.806261</td>\n",
              "      <td>121.0</td>\n",
              "      <td>56.0</td>\n",
              "      <td>328.0</td>\n",
              "      <td>89.0</td>\n",
              "      <td>68.0</td>\n",
              "      <td>5</td>\n",
              "      <td>6</td>\n",
              "      <td>1600000.0</td>\n",
              "      <td>400000</td>\n",
              "      <td>1.0</td>\n",
              "      <td>51.147880</td>\n",
              "    </tr>\n",
              "    <tr>\n",
              "      <th>2</th>\n",
              "      <td>0</td>\n",
              "      <td>0</td>\n",
              "      <td>1.0</td>\n",
              "      <td>1</td>\n",
              "      <td>2</td>\n",
              "      <td>0</td>\n",
              "      <td>3</td>\n",
              "      <td>19</td>\n",
              "      <td>13</td>\n",
              "      <td>2</td>\n",
              "      <td>0</td>\n",
              "      <td>416.000000</td>\n",
              "      <td>124.0</td>\n",
              "      <td>137.0</td>\n",
              "      <td>213.0</td>\n",
              "      <td>77.0</td>\n",
              "      <td>43.0</td>\n",
              "      <td>40</td>\n",
              "      <td>6</td>\n",
              "      <td>3400000.0</td>\n",
              "      <td>900000</td>\n",
              "      <td>1.0</td>\n",
              "      <td>73.224000</td>\n",
              "    </tr>\n",
              "    <tr>\n",
              "      <th>3</th>\n",
              "      <td>0</td>\n",
              "      <td>1</td>\n",
              "      <td>1.0</td>\n",
              "      <td>0</td>\n",
              "      <td>2</td>\n",
              "      <td>0</td>\n",
              "      <td>0</td>\n",
              "      <td>33</td>\n",
              "      <td>9</td>\n",
              "      <td>1</td>\n",
              "      <td>2</td>\n",
              "      <td>410.000000</td>\n",
              "      <td>98.0</td>\n",
              "      <td>167.0</td>\n",
              "      <td>275.0</td>\n",
              "      <td>64.0</td>\n",
              "      <td>60.0</td>\n",
              "      <td>27</td>\n",
              "      <td>7</td>\n",
              "      <td>700000.0</td>\n",
              "      <td>2300000</td>\n",
              "      <td>1.0</td>\n",
              "      <td>48.779225</td>\n",
              "    </tr>\n",
              "    <tr>\n",
              "      <th>4</th>\n",
              "      <td>0</td>\n",
              "      <td>0</td>\n",
              "      <td>2.0</td>\n",
              "      <td>0</td>\n",
              "      <td>2</td>\n",
              "      <td>0</td>\n",
              "      <td>1</td>\n",
              "      <td>23</td>\n",
              "      <td>7</td>\n",
              "      <td>3</td>\n",
              "      <td>1</td>\n",
              "      <td>390.000000</td>\n",
              "      <td>21.0</td>\n",
              "      <td>153.0</td>\n",
              "      <td>331.0</td>\n",
              "      <td>71.0</td>\n",
              "      <td>64.0</td>\n",
              "      <td>32</td>\n",
              "      <td>7</td>\n",
              "      <td>3200000.0</td>\n",
              "      <td>1100000</td>\n",
              "      <td>1.0</td>\n",
              "      <td>87.868800</td>\n",
              "    </tr>\n",
              "  </tbody>\n",
              "</table>\n",
              "</div>"
            ],
            "text/plain": [
              "   Gender  Married  Children  ...   salary  FT/month  Infect_Prob\n",
              "0       0        1       1.0  ...  1300000       2.0    49.135010\n",
              "1       0        1       2.0  ...   400000       1.0    51.147880\n",
              "2       0        0       1.0  ...   900000       1.0    73.224000\n",
              "3       0        1       1.0  ...  2300000       1.0    48.779225\n",
              "4       0        0       2.0  ...  1100000       1.0    87.868800\n",
              "\n",
              "[5 rows x 23 columns]"
            ]
          },
          "metadata": {
            "tags": []
          },
          "execution_count": 40
        }
      ]
    },
    {
      "cell_type": "code",
      "metadata": {
        "id": "4h1qQABJs8rC",
        "colab_type": "code",
        "colab": {}
      },
      "source": [
        "X = df_sub.drop('Infect_Prob',axis=1).values\n",
        "y = df_sub['Infect_Prob'].values"
      ],
      "execution_count": 0,
      "outputs": []
    },
    {
      "cell_type": "code",
      "metadata": {
        "id": "42xf-4_Ftf8t",
        "colab_type": "code",
        "colab": {
          "base_uri": "https://localhost:8080/",
          "height": 34
        },
        "outputId": "d223f752-f7c3-4b0e-d9c4-fb98d3f06134"
      },
      "source": [
        "X.dtype"
      ],
      "execution_count": 42,
      "outputs": [
        {
          "output_type": "execute_result",
          "data": {
            "text/plain": [
              "dtype('float64')"
            ]
          },
          "metadata": {
            "tags": []
          },
          "execution_count": 42
        }
      ]
    },
    {
      "cell_type": "code",
      "metadata": {
        "id": "i9AJ0q4bttOq",
        "colab_type": "code",
        "colab": {
          "base_uri": "https://localhost:8080/",
          "height": 51
        },
        "outputId": "e4541ea6-3b00-4a52-fc4d-92e26e0f3d00"
      },
      "source": [
        "y"
      ],
      "execution_count": 43,
      "outputs": [
        {
          "output_type": "execute_result",
          "data": {
            "text/plain": [
              "array([49.13500977, 51.14788025, 73.224     , ..., 47.70853342,\n",
              "       53.80356494, 68.3424    ])"
            ]
          },
          "metadata": {
            "tags": []
          },
          "execution_count": 43
        }
      ]
    },
    {
      "cell_type": "code",
      "metadata": {
        "id": "vUEufEPCtu4H",
        "colab_type": "code",
        "colab": {
          "base_uri": "https://localhost:8080/",
          "height": 34
        },
        "outputId": "05571ac3-5231-4dd0-a425-20188e83051a"
      },
      "source": [
        "pwd"
      ],
      "execution_count": 44,
      "outputs": [
        {
          "output_type": "execute_result",
          "data": {
            "text/plain": [
              "'/content/drive/My Drive'"
            ]
          },
          "metadata": {
            "tags": []
          },
          "execution_count": 44
        }
      ]
    },
    {
      "cell_type": "code",
      "metadata": {
        "id": "WToGvcxSt9Xu",
        "colab_type": "code",
        "colab": {
          "base_uri": "https://localhost:8080/",
          "height": 136
        },
        "outputId": "e26cd1c2-da22-4a8d-c326-ea717784c704"
      },
      "source": [
        "X"
      ],
      "execution_count": 45,
      "outputs": [
        {
          "output_type": "execute_result",
          "data": {
            "text/plain": [
              "array([[0.0e+00, 1.0e+00, 1.0e+00, ..., 3.6e+06, 1.3e+06, 2.0e+00],\n",
              "       [0.0e+00, 1.0e+00, 2.0e+00, ..., 1.6e+06, 4.0e+05, 1.0e+00],\n",
              "       [0.0e+00, 0.0e+00, 1.0e+00, ..., 3.4e+06, 9.0e+05, 1.0e+00],\n",
              "       ...,\n",
              "       [1.0e+00, 1.0e+00, 0.0e+00, ..., 3.0e+06, 2.1e+06, 2.0e+00],\n",
              "       [1.0e+00, 1.0e+00, 1.0e+00, ..., 2.9e+06, 7.0e+05, 1.0e+00],\n",
              "       [1.0e+00, 0.0e+00, 2.0e+00, ..., 2.1e+06, 1.4e+06, 0.0e+00]])"
            ]
          },
          "metadata": {
            "tags": []
          },
          "execution_count": 45
        }
      ]
    },
    {
      "cell_type": "code",
      "metadata": {
        "id": "95glfLP8u4Qg",
        "colab_type": "code",
        "colab": {
          "base_uri": "https://localhost:8080/",
          "height": 34
        },
        "outputId": "5e2e9d18-f0b1-4d54-e4be-bc537c496caa"
      },
      "source": [
        "X[0,12]"
      ],
      "execution_count": 46,
      "outputs": [
        {
          "output_type": "execute_result",
          "data": {
            "text/plain": [
              "154.0"
            ]
          },
          "metadata": {
            "tags": []
          },
          "execution_count": 46
        }
      ]
    },
    {
      "cell_type": "code",
      "metadata": {
        "id": "Pxdwo9lRvGLS",
        "colab_type": "code",
        "colab": {}
      },
      "source": [
        "import pickle"
      ],
      "execution_count": 0,
      "outputs": []
    },
    {
      "cell_type": "code",
      "metadata": {
        "id": "A5-bHtETCfgh",
        "colab_type": "code",
        "colab": {
          "base_uri": "https://localhost:8080/",
          "height": 34
        },
        "outputId": "3d23313a-2d44-4950-e184-9d2a249a7850"
      },
      "source": [
        "pwd"
      ],
      "execution_count": 48,
      "outputs": [
        {
          "output_type": "execute_result",
          "data": {
            "text/plain": [
              "'/content/drive/My Drive'"
            ]
          },
          "metadata": {
            "tags": []
          },
          "execution_count": 48
        }
      ]
    },
    {
      "cell_type": "code",
      "metadata": {
        "id": "EI7mWSaiChbu",
        "colab_type": "code",
        "colab": {
          "base_uri": "https://localhost:8080/",
          "height": 164
        },
        "outputId": "2256d4a8-5539-4cba-8ada-b4dac9262efe"
      },
      "source": [
        "pickle.dump(X,'X.pkl')"
      ],
      "execution_count": 49,
      "outputs": [
        {
          "output_type": "error",
          "ename": "TypeError",
          "evalue": "ignored",
          "traceback": [
            "\u001b[0;31m---------------------------------------------------------------------------\u001b[0m",
            "\u001b[0;31mTypeError\u001b[0m                                 Traceback (most recent call last)",
            "\u001b[0;32m<ipython-input-49-21fb5ea9b777>\u001b[0m in \u001b[0;36m<module>\u001b[0;34m()\u001b[0m\n\u001b[0;32m----> 1\u001b[0;31m \u001b[0mpickle\u001b[0m\u001b[0;34m.\u001b[0m\u001b[0mdump\u001b[0m\u001b[0;34m(\u001b[0m\u001b[0mX\u001b[0m\u001b[0;34m,\u001b[0m\u001b[0;34m'X.pkl'\u001b[0m\u001b[0;34m)\u001b[0m\u001b[0;34m\u001b[0m\u001b[0;34m\u001b[0m\u001b[0m\n\u001b[0m",
            "\u001b[0;31mTypeError\u001b[0m: file must have a 'write' attribute"
          ]
        }
      ]
    },
    {
      "cell_type": "code",
      "metadata": {
        "id": "WsEciJbpCuTG",
        "colab_type": "code",
        "colab": {}
      },
      "source": [
        "with open('X.pkl','wb') as pickle_file:\n",
        "  pickle.dump(X,pickle_file)"
      ],
      "execution_count": 0,
      "outputs": []
    },
    {
      "cell_type": "code",
      "metadata": {
        "id": "UYW7OAkwDLvC",
        "colab_type": "code",
        "colab": {}
      },
      "source": [
        "with open('y.pkl','wb') as pickle_file:\n",
        "  pickle.dump(y,pickle_file)"
      ],
      "execution_count": 0,
      "outputs": []
    },
    {
      "cell_type": "code",
      "metadata": {
        "id": "aPFm4oqJDQkZ",
        "colab_type": "code",
        "colab": {}
      },
      "source": [
        "with open('X.pkl','rb') as in_file:\n",
        "  temp = pickle.load(in_file)"
      ],
      "execution_count": 0,
      "outputs": []
    },
    {
      "cell_type": "code",
      "metadata": {
        "id": "sZHgyM4xDhBk",
        "colab_type": "code",
        "colab": {
          "base_uri": "https://localhost:8080/",
          "height": 136
        },
        "outputId": "6a3365bb-d891-4aa7-ef9b-007709c21ba0"
      },
      "source": [
        "temp"
      ],
      "execution_count": 56,
      "outputs": [
        {
          "output_type": "execute_result",
          "data": {
            "text/plain": [
              "array([[0.0e+00, 1.0e+00, 1.0e+00, ..., 3.6e+06, 1.3e+06, 2.0e+00],\n",
              "       [0.0e+00, 1.0e+00, 2.0e+00, ..., 1.6e+06, 4.0e+05, 1.0e+00],\n",
              "       [0.0e+00, 0.0e+00, 1.0e+00, ..., 3.4e+06, 9.0e+05, 1.0e+00],\n",
              "       ...,\n",
              "       [1.0e+00, 1.0e+00, 0.0e+00, ..., 3.0e+06, 2.1e+06, 2.0e+00],\n",
              "       [1.0e+00, 1.0e+00, 1.0e+00, ..., 2.9e+06, 7.0e+05, 1.0e+00],\n",
              "       [1.0e+00, 0.0e+00, 2.0e+00, ..., 2.1e+06, 1.4e+06, 0.0e+00]])"
            ]
          },
          "metadata": {
            "tags": []
          },
          "execution_count": 56
        }
      ]
    },
    {
      "cell_type": "code",
      "metadata": {
        "id": "0fkwPaeRD2jL",
        "colab_type": "code",
        "colab": {
          "base_uri": "https://localhost:8080/",
          "height": 34
        },
        "outputId": "57c57d42-01aa-423e-a4d3-429391d18bdf"
      },
      "source": [
        "temp.shape"
      ],
      "execution_count": 57,
      "outputs": [
        {
          "output_type": "execute_result",
          "data": {
            "text/plain": [
              "(10714, 22)"
            ]
          },
          "metadata": {
            "tags": []
          },
          "execution_count": 57
        }
      ]
    },
    {
      "cell_type": "code",
      "metadata": {
        "id": "W7rDVsCoD4_Q",
        "colab_type": "code",
        "colab": {
          "base_uri": "https://localhost:8080/",
          "height": 34
        },
        "outputId": "5beddc2d-26aa-4922-89d8-7499d7e6c2b3"
      },
      "source": [
        "X.shape"
      ],
      "execution_count": 58,
      "outputs": [
        {
          "output_type": "execute_result",
          "data": {
            "text/plain": [
              "(10714, 22)"
            ]
          },
          "metadata": {
            "tags": []
          },
          "execution_count": 58
        }
      ]
    },
    {
      "cell_type": "code",
      "metadata": {
        "id": "H8vRW-V3D6HL",
        "colab_type": "code",
        "colab": {}
      },
      "source": [
        ""
      ],
      "execution_count": 0,
      "outputs": []
    }
  ]
}