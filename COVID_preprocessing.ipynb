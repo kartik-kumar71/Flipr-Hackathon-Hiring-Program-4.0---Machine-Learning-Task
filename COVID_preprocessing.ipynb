{
  "nbformat": 4,
  "nbformat_minor": 0,
  "metadata": {
    "colab": {
      "name": "COVID_preprocessing.ipynb",
      "provenance": []
    },
    "kernelspec": {
      "name": "python3",
      "display_name": "Python 3"
    }
  },
  "cells": [
    {
      "cell_type": "code",
      "metadata": {
        "id": "YO9DsXyZC9ro",
        "colab_type": "code",
        "outputId": "74d9aa4c-f04d-4100-c576-5aa519289e0c",
        "colab": {
          "base_uri": "https://localhost:8080/",
          "height": 122
        }
      },
      "source": [
        "from google.colab import drive\n",
        "drive.mount('/content/drive')"
      ],
      "execution_count": 0,
      "outputs": [
        {
          "output_type": "stream",
          "text": [
            "Go to this URL in a browser: https://accounts.google.com/o/oauth2/auth?client_id=947318989803-6bn6qk8qdgf4n4g3pfee6491hc0brc4i.apps.googleusercontent.com&redirect_uri=urn%3aietf%3awg%3aoauth%3a2.0%3aoob&response_type=code&scope=email%20https%3a%2f%2fwww.googleapis.com%2fauth%2fdocs.test%20https%3a%2f%2fwww.googleapis.com%2fauth%2fdrive%20https%3a%2f%2fwww.googleapis.com%2fauth%2fdrive.photos.readonly%20https%3a%2f%2fwww.googleapis.com%2fauth%2fpeopleapi.readonly\n",
            "\n",
            "Enter your authorization code:\n",
            "··········\n",
            "Mounted at /content/drive\n"
          ],
          "name": "stdout"
        }
      ]
    },
    {
      "cell_type": "code",
      "metadata": {
        "id": "q_v4HlsVDatC",
        "colab_type": "code",
        "outputId": "6ab4a544-2d96-4b9a-f038-01d9c83db6d0",
        "colab": {
          "base_uri": "https://localhost:8080/",
          "height": 34
        }
      },
      "source": [
        "cd /content/drive/My\\ Drive"
      ],
      "execution_count": 0,
      "outputs": [
        {
          "output_type": "stream",
          "text": [
            "/content/drive/My Drive\n"
          ],
          "name": "stdout"
        }
      ]
    },
    {
      "cell_type": "code",
      "metadata": {
        "id": "M8v-_qjGDwAN",
        "colab_type": "code",
        "outputId": "22dfff0e-aacf-4e16-bd83-64cb44fa10ee",
        "colab": {
          "base_uri": "https://localhost:8080/",
          "height": 323
        }
      },
      "source": [
        "ls"
      ],
      "execution_count": 0,
      "outputs": [
        {
          "output_type": "stream",
          "text": [
            " 97F142A0-77C3-4B22-A736-8B94511BD30E.jpeg\n",
            "'97F142A0-77C3-4B22-A736-8B94511BD30E - Kartik Kumar.jpeg'\n",
            " \u001b[0m\u001b[01;34mClassroom\u001b[0m/\n",
            "\u001b[01;34m'Colab Notebooks'\u001b[0m/\n",
            " \u001b[01;34mCourses\u001b[0m/\n",
            " eBook_CAO_MorrisMano.gdoc\n",
            "'Getting started.pdf'\n",
            " \u001b[01;34mkaggle\u001b[0m/\n",
            " MACHINE_LEARNING.pptx\n",
            "'new doc 2019-09-14 21.46.34_20190914215012.pdf'\n",
            " OS_Assign_1.gdoc\n",
            " \u001b[01;34mpuffinbrowser\u001b[0m/\n",
            " rege.py\n",
            " resume.pdf\n",
            " \u001b[01;34mSSB\u001b[0m/\n",
            " Test_dataset.xlsx\n",
            " Train_dataset.xlsx\n",
            " Variable_Description.xlsx\n"
          ],
          "name": "stdout"
        }
      ]
    },
    {
      "cell_type": "code",
      "metadata": {
        "id": "aEyWfLbTEJdQ",
        "colab_type": "code",
        "colab": {}
      },
      "source": [
        "import pandas as pd"
      ],
      "execution_count": 0,
      "outputs": []
    },
    {
      "cell_type": "code",
      "metadata": {
        "id": "35DVytlGENHh",
        "colab_type": "code",
        "colab": {}
      },
      "source": [
        "df = pd.read_excel('Train_dataset.xlsx')"
      ],
      "execution_count": 0,
      "outputs": []
    },
    {
      "cell_type": "code",
      "metadata": {
        "id": "Tw4XRrfSEOC7",
        "colab_type": "code",
        "outputId": "b7a55e7f-b1cd-45a6-c66b-35be1dc60df6",
        "colab": {
          "base_uri": "https://localhost:8080/",
          "height": 292
        }
      },
      "source": [
        "df.head()"
      ],
      "execution_count": 0,
      "outputs": [
        {
          "output_type": "execute_result",
          "data": {
            "text/html": [
              "<div>\n",
              "<style scoped>\n",
              "    .dataframe tbody tr th:only-of-type {\n",
              "        vertical-align: middle;\n",
              "    }\n",
              "\n",
              "    .dataframe tbody tr th {\n",
              "        vertical-align: top;\n",
              "    }\n",
              "\n",
              "    .dataframe thead th {\n",
              "        text-align: right;\n",
              "    }\n",
              "</style>\n",
              "<table border=\"1\" class=\"dataframe\">\n",
              "  <thead>\n",
              "    <tr style=\"text-align: right;\">\n",
              "      <th></th>\n",
              "      <th>people_ID</th>\n",
              "      <th>Region</th>\n",
              "      <th>Gender</th>\n",
              "      <th>Designation</th>\n",
              "      <th>Name</th>\n",
              "      <th>Married</th>\n",
              "      <th>Children</th>\n",
              "      <th>Occupation</th>\n",
              "      <th>Mode_transport</th>\n",
              "      <th>cases/1M</th>\n",
              "      <th>Deaths/1M</th>\n",
              "      <th>comorbidity</th>\n",
              "      <th>Age</th>\n",
              "      <th>Coma score</th>\n",
              "      <th>Pulmonary score</th>\n",
              "      <th>cardiological pressure</th>\n",
              "      <th>Diuresis</th>\n",
              "      <th>Platelets</th>\n",
              "      <th>HBB</th>\n",
              "      <th>d-dimer</th>\n",
              "      <th>Heart rate</th>\n",
              "      <th>HDL cholesterol</th>\n",
              "      <th>Charlson Index</th>\n",
              "      <th>Blood Glucose</th>\n",
              "      <th>Insurance</th>\n",
              "      <th>salary</th>\n",
              "      <th>FT/month</th>\n",
              "      <th>Infect_Prob</th>\n",
              "    </tr>\n",
              "  </thead>\n",
              "  <tbody>\n",
              "    <tr>\n",
              "      <th>0</th>\n",
              "      <td>1</td>\n",
              "      <td>Bhubaneshwar</td>\n",
              "      <td>Female</td>\n",
              "      <td>Mrs</td>\n",
              "      <td>mansi</td>\n",
              "      <td>YES</td>\n",
              "      <td>1.0</td>\n",
              "      <td>Farmer</td>\n",
              "      <td>Public</td>\n",
              "      <td>2</td>\n",
              "      <td>0</td>\n",
              "      <td>Hypertension</td>\n",
              "      <td>68</td>\n",
              "      <td>8</td>\n",
              "      <td>&lt;400</td>\n",
              "      <td>Normal</td>\n",
              "      <td>441.0</td>\n",
              "      <td>154.0</td>\n",
              "      <td>93.0</td>\n",
              "      <td>233.0</td>\n",
              "      <td>82.0</td>\n",
              "      <td>58.0</td>\n",
              "      <td>27</td>\n",
              "      <td>7</td>\n",
              "      <td>3600000.0</td>\n",
              "      <td>1300000</td>\n",
              "      <td>2.0</td>\n",
              "      <td>49.135010</td>\n",
              "    </tr>\n",
              "    <tr>\n",
              "      <th>1</th>\n",
              "      <td>2</td>\n",
              "      <td>Bhubaneshwar</td>\n",
              "      <td>Female</td>\n",
              "      <td>Mrs</td>\n",
              "      <td>riya masi</td>\n",
              "      <td>YES</td>\n",
              "      <td>2.0</td>\n",
              "      <td>Farmer</td>\n",
              "      <td>Walk</td>\n",
              "      <td>2</td>\n",
              "      <td>0</td>\n",
              "      <td>Diabetes</td>\n",
              "      <td>64</td>\n",
              "      <td>15</td>\n",
              "      <td>&lt;100</td>\n",
              "      <td>Stage-02</td>\n",
              "      <td>NaN</td>\n",
              "      <td>121.0</td>\n",
              "      <td>56.0</td>\n",
              "      <td>328.0</td>\n",
              "      <td>89.0</td>\n",
              "      <td>68.0</td>\n",
              "      <td>5</td>\n",
              "      <td>6</td>\n",
              "      <td>1600000.0</td>\n",
              "      <td>400000</td>\n",
              "      <td>1.0</td>\n",
              "      <td>51.147880</td>\n",
              "    </tr>\n",
              "    <tr>\n",
              "      <th>2</th>\n",
              "      <td>3</td>\n",
              "      <td>Bhubaneshwar</td>\n",
              "      <td>Female</td>\n",
              "      <td>Mrs</td>\n",
              "      <td>sunita</td>\n",
              "      <td>NO</td>\n",
              "      <td>1.0</td>\n",
              "      <td>Cleaner</td>\n",
              "      <td>Public</td>\n",
              "      <td>2</td>\n",
              "      <td>0</td>\n",
              "      <td>None</td>\n",
              "      <td>19</td>\n",
              "      <td>13</td>\n",
              "      <td>&lt;300</td>\n",
              "      <td>Elevated</td>\n",
              "      <td>416.0</td>\n",
              "      <td>124.0</td>\n",
              "      <td>137.0</td>\n",
              "      <td>213.0</td>\n",
              "      <td>77.0</td>\n",
              "      <td>43.0</td>\n",
              "      <td>40</td>\n",
              "      <td>6</td>\n",
              "      <td>3400000.0</td>\n",
              "      <td>900000</td>\n",
              "      <td>1.0</td>\n",
              "      <td>73.224000</td>\n",
              "    </tr>\n",
              "    <tr>\n",
              "      <th>3</th>\n",
              "      <td>4</td>\n",
              "      <td>Bhubaneshwar</td>\n",
              "      <td>Female</td>\n",
              "      <td>Mrs</td>\n",
              "      <td>anjali @ babli</td>\n",
              "      <td>YES</td>\n",
              "      <td>1.0</td>\n",
              "      <td>Driver</td>\n",
              "      <td>Car</td>\n",
              "      <td>2</td>\n",
              "      <td>0</td>\n",
              "      <td>Coronary Heart Disease</td>\n",
              "      <td>33</td>\n",
              "      <td>9</td>\n",
              "      <td>&lt;200</td>\n",
              "      <td>Stage-01</td>\n",
              "      <td>410.0</td>\n",
              "      <td>98.0</td>\n",
              "      <td>167.0</td>\n",
              "      <td>275.0</td>\n",
              "      <td>64.0</td>\n",
              "      <td>60.0</td>\n",
              "      <td>27</td>\n",
              "      <td>7</td>\n",
              "      <td>700000.0</td>\n",
              "      <td>2300000</td>\n",
              "      <td>1.0</td>\n",
              "      <td>48.779225</td>\n",
              "    </tr>\n",
              "    <tr>\n",
              "      <th>4</th>\n",
              "      <td>5</td>\n",
              "      <td>Bhubaneshwar</td>\n",
              "      <td>Female</td>\n",
              "      <td>Mrs</td>\n",
              "      <td>champa karketta</td>\n",
              "      <td>NO</td>\n",
              "      <td>2.0</td>\n",
              "      <td>Manufacturing</td>\n",
              "      <td>Car</td>\n",
              "      <td>2</td>\n",
              "      <td>0</td>\n",
              "      <td>Diabetes</td>\n",
              "      <td>23</td>\n",
              "      <td>7</td>\n",
              "      <td>&lt;400</td>\n",
              "      <td>Normal</td>\n",
              "      <td>390.0</td>\n",
              "      <td>21.0</td>\n",
              "      <td>153.0</td>\n",
              "      <td>331.0</td>\n",
              "      <td>71.0</td>\n",
              "      <td>64.0</td>\n",
              "      <td>32</td>\n",
              "      <td>7</td>\n",
              "      <td>3200000.0</td>\n",
              "      <td>1100000</td>\n",
              "      <td>1.0</td>\n",
              "      <td>87.868800</td>\n",
              "    </tr>\n",
              "  </tbody>\n",
              "</table>\n",
              "</div>"
            ],
            "text/plain": [
              "   people_ID        Region  Gender  ...   salary FT/month Infect_Prob\n",
              "0          1  Bhubaneshwar  Female  ...  1300000      2.0   49.135010\n",
              "1          2  Bhubaneshwar  Female  ...   400000      1.0   51.147880\n",
              "2          3  Bhubaneshwar  Female  ...   900000      1.0   73.224000\n",
              "3          4  Bhubaneshwar  Female  ...  2300000      1.0   48.779225\n",
              "4          5  Bhubaneshwar  Female  ...  1100000      1.0   87.868800\n",
              "\n",
              "[5 rows x 28 columns]"
            ]
          },
          "metadata": {
            "tags": []
          },
          "execution_count": 12
        }
      ]
    },
    {
      "cell_type": "code",
      "metadata": {
        "id": "f9ShBrOYFMhJ",
        "colab_type": "code",
        "outputId": "6a965eb7-a3c3-4aeb-995c-4bb9c2ca7afc",
        "colab": {
          "base_uri": "https://localhost:8080/",
          "height": 51
        }
      },
      "source": [
        "df['comorbidity'].unique()"
      ],
      "execution_count": 0,
      "outputs": [
        {
          "output_type": "execute_result",
          "data": {
            "text/plain": [
              "array(['Hypertension', 'Diabetes', 'None', 'Coronary Heart Disease', nan],\n",
              "      dtype=object)"
            ]
          },
          "metadata": {
            "tags": []
          },
          "execution_count": 16
        }
      ]
    },
    {
      "cell_type": "code",
      "metadata": {
        "id": "z8oudZMxFTNq",
        "colab_type": "code",
        "outputId": "9a8cea22-b577-462a-b58a-7bdd0acc2a51",
        "colab": {
          "base_uri": "https://localhost:8080/",
          "height": 578
        }
      },
      "source": [
        "df.info()"
      ],
      "execution_count": 0,
      "outputs": [
        {
          "output_type": "stream",
          "text": [
            "<class 'pandas.core.frame.DataFrame'>\n",
            "RangeIndex: 10714 entries, 0 to 10713\n",
            "Data columns (total 28 columns):\n",
            "people_ID                 10714 non-null int64\n",
            "Region                    10714 non-null object\n",
            "Gender                    10714 non-null object\n",
            "Designation               10714 non-null object\n",
            "Name                      10694 non-null object\n",
            "Married                   10714 non-null object\n",
            "Children                  10403 non-null float64\n",
            "Occupation                9967 non-null object\n",
            "Mode_transport            10711 non-null object\n",
            "cases/1M                  10714 non-null int64\n",
            "Deaths/1M                 10714 non-null int64\n",
            "comorbidity               10488 non-null object\n",
            "Age                       10714 non-null int64\n",
            "Coma score                10714 non-null int64\n",
            "Pulmonary score           10714 non-null object\n",
            "cardiological pressure    10617 non-null object\n",
            "Diuresis                  9998 non-null float64\n",
            "Platelets                 9790 non-null float64\n",
            "HBB                       10698 non-null float64\n",
            "d-dimer                   9600 non-null float64\n",
            "Heart rate                9600 non-null float64\n",
            "HDL cholesterol           10679 non-null float64\n",
            "Charlson Index            10714 non-null int64\n",
            "Blood Glucose             10714 non-null int64\n",
            "Insurance                 9624 non-null float64\n",
            "salary                    10714 non-null int64\n",
            "FT/month                  9991 non-null float64\n",
            "Infect_Prob               10714 non-null float64\n",
            "dtypes: float64(10), int64(8), object(10)\n",
            "memory usage: 2.3+ MB\n"
          ],
          "name": "stdout"
        }
      ]
    },
    {
      "cell_type": "code",
      "metadata": {
        "id": "gF01Uc9QFrO2",
        "colab_type": "code",
        "outputId": "1a266551-6d85-4e5f-f9f3-3693b93f04ce",
        "colab": {
          "base_uri": "https://localhost:8080/",
          "height": 334
        }
      },
      "source": [
        "df.describe()"
      ],
      "execution_count": 0,
      "outputs": [
        {
          "output_type": "execute_result",
          "data": {
            "text/html": [
              "<div>\n",
              "<style scoped>\n",
              "    .dataframe tbody tr th:only-of-type {\n",
              "        vertical-align: middle;\n",
              "    }\n",
              "\n",
              "    .dataframe tbody tr th {\n",
              "        vertical-align: top;\n",
              "    }\n",
              "\n",
              "    .dataframe thead th {\n",
              "        text-align: right;\n",
              "    }\n",
              "</style>\n",
              "<table border=\"1\" class=\"dataframe\">\n",
              "  <thead>\n",
              "    <tr style=\"text-align: right;\">\n",
              "      <th></th>\n",
              "      <th>people_ID</th>\n",
              "      <th>Children</th>\n",
              "      <th>cases/1M</th>\n",
              "      <th>Deaths/1M</th>\n",
              "      <th>Age</th>\n",
              "      <th>Coma score</th>\n",
              "      <th>Diuresis</th>\n",
              "      <th>Platelets</th>\n",
              "      <th>HBB</th>\n",
              "      <th>d-dimer</th>\n",
              "      <th>Heart rate</th>\n",
              "      <th>HDL cholesterol</th>\n",
              "      <th>Charlson Index</th>\n",
              "      <th>Blood Glucose</th>\n",
              "      <th>Insurance</th>\n",
              "      <th>salary</th>\n",
              "      <th>FT/month</th>\n",
              "      <th>Infect_Prob</th>\n",
              "    </tr>\n",
              "  </thead>\n",
              "  <tbody>\n",
              "    <tr>\n",
              "      <th>count</th>\n",
              "      <td>10714.000000</td>\n",
              "      <td>10403.000000</td>\n",
              "      <td>10714.000000</td>\n",
              "      <td>10714.000000</td>\n",
              "      <td>10714.000000</td>\n",
              "      <td>10714.000000</td>\n",
              "      <td>9998.000000</td>\n",
              "      <td>9790.000000</td>\n",
              "      <td>10698.000000</td>\n",
              "      <td>9600.000000</td>\n",
              "      <td>9600.000000</td>\n",
              "      <td>10679.000000</td>\n",
              "      <td>10714.000000</td>\n",
              "      <td>10714.000000</td>\n",
              "      <td>9.624000e+03</td>\n",
              "      <td>1.071400e+04</td>\n",
              "      <td>9991.000000</td>\n",
              "      <td>10714.000000</td>\n",
              "    </tr>\n",
              "    <tr>\n",
              "      <th>mean</th>\n",
              "      <td>10084.893784</td>\n",
              "      <td>1.062770</td>\n",
              "      <td>3.285888</td>\n",
              "      <td>0.523241</td>\n",
              "      <td>42.083722</td>\n",
              "      <td>9.013067</td>\n",
              "      <td>278.806261</td>\n",
              "      <td>87.795812</td>\n",
              "      <td>116.170967</td>\n",
              "      <td>275.292292</td>\n",
              "      <td>74.847396</td>\n",
              "      <td>52.632737</td>\n",
              "      <td>20.028094</td>\n",
              "      <td>5.015027</td>\n",
              "      <td>2.644919e+06</td>\n",
              "      <td>1.304713e+06</td>\n",
              "      <td>1.004604</td>\n",
              "      <td>52.280680</td>\n",
              "    </tr>\n",
              "    <tr>\n",
              "      <th>std</th>\n",
              "      <td>7108.663645</td>\n",
              "      <td>0.818222</td>\n",
              "      <td>2.721274</td>\n",
              "      <td>0.854303</td>\n",
              "      <td>15.323397</td>\n",
              "      <td>3.714970</td>\n",
              "      <td>97.985526</td>\n",
              "      <td>41.851103</td>\n",
              "      <td>55.178811</td>\n",
              "      <td>43.669692</td>\n",
              "      <td>14.869104</td>\n",
              "      <td>10.434293</td>\n",
              "      <td>11.828445</td>\n",
              "      <td>1.399770</td>\n",
              "      <td>1.383346e+06</td>\n",
              "      <td>6.075947e+05</td>\n",
              "      <td>0.815257</td>\n",
              "      <td>10.674667</td>\n",
              "    </tr>\n",
              "    <tr>\n",
              "      <th>min</th>\n",
              "      <td>1.000000</td>\n",
              "      <td>0.000000</td>\n",
              "      <td>1.000000</td>\n",
              "      <td>0.000000</td>\n",
              "      <td>16.000000</td>\n",
              "      <td>3.000000</td>\n",
              "      <td>110.000000</td>\n",
              "      <td>15.000000</td>\n",
              "      <td>20.000000</td>\n",
              "      <td>200.000000</td>\n",
              "      <td>50.000000</td>\n",
              "      <td>35.000000</td>\n",
              "      <td>0.000000</td>\n",
              "      <td>3.000000</td>\n",
              "      <td>3.000000e+05</td>\n",
              "      <td>3.000000e+05</td>\n",
              "      <td>0.000000</td>\n",
              "      <td>29.289600</td>\n",
              "    </tr>\n",
              "    <tr>\n",
              "      <th>25%</th>\n",
              "      <td>2679.250000</td>\n",
              "      <td>0.000000</td>\n",
              "      <td>2.000000</td>\n",
              "      <td>0.000000</td>\n",
              "      <td>29.000000</td>\n",
              "      <td>6.000000</td>\n",
              "      <td>194.000000</td>\n",
              "      <td>52.000000</td>\n",
              "      <td>68.000000</td>\n",
              "      <td>237.000000</td>\n",
              "      <td>62.000000</td>\n",
              "      <td>44.000000</td>\n",
              "      <td>10.000000</td>\n",
              "      <td>4.000000</td>\n",
              "      <td>1.400000e+06</td>\n",
              "      <td>8.000000e+05</td>\n",
              "      <td>0.000000</td>\n",
              "      <td>47.277426</td>\n",
              "    </tr>\n",
              "    <tr>\n",
              "      <th>50%</th>\n",
              "      <td>10003.500000</td>\n",
              "      <td>1.000000</td>\n",
              "      <td>2.000000</td>\n",
              "      <td>0.000000</td>\n",
              "      <td>42.000000</td>\n",
              "      <td>9.000000</td>\n",
              "      <td>276.000000</td>\n",
              "      <td>88.000000</td>\n",
              "      <td>117.000000</td>\n",
              "      <td>276.000000</td>\n",
              "      <td>75.000000</td>\n",
              "      <td>53.000000</td>\n",
              "      <td>20.000000</td>\n",
              "      <td>5.000000</td>\n",
              "      <td>2.600000e+06</td>\n",
              "      <td>1.300000e+06</td>\n",
              "      <td>1.000000</td>\n",
              "      <td>49.008389</td>\n",
              "    </tr>\n",
              "    <tr>\n",
              "      <th>75%</th>\n",
              "      <td>15141.750000</td>\n",
              "      <td>2.000000</td>\n",
              "      <td>4.000000</td>\n",
              "      <td>1.000000</td>\n",
              "      <td>55.000000</td>\n",
              "      <td>12.000000</td>\n",
              "      <td>364.000000</td>\n",
              "      <td>124.000000</td>\n",
              "      <td>165.000000</td>\n",
              "      <td>313.000000</td>\n",
              "      <td>88.000000</td>\n",
              "      <td>62.000000</td>\n",
              "      <td>30.000000</td>\n",
              "      <td>6.000000</td>\n",
              "      <td>3.800000e+06</td>\n",
              "      <td>1.800000e+06</td>\n",
              "      <td>2.000000</td>\n",
              "      <td>52.762313</td>\n",
              "    </tr>\n",
              "    <tr>\n",
              "      <th>max</th>\n",
              "      <td>22695.000000</td>\n",
              "      <td>2.000000</td>\n",
              "      <td>8.000000</td>\n",
              "      <td>2.000000</td>\n",
              "      <td>68.000000</td>\n",
              "      <td>15.000000</td>\n",
              "      <td>450.000000</td>\n",
              "      <td>160.000000</td>\n",
              "      <td>210.000000</td>\n",
              "      <td>350.000000</td>\n",
              "      <td>100.000000</td>\n",
              "      <td>70.000000</td>\n",
              "      <td>40.000000</td>\n",
              "      <td>7.000000</td>\n",
              "      <td>5.000000e+06</td>\n",
              "      <td>2.300000e+06</td>\n",
              "      <td>2.000000</td>\n",
              "      <td>97.632000</td>\n",
              "    </tr>\n",
              "  </tbody>\n",
              "</table>\n",
              "</div>"
            ],
            "text/plain": [
              "          people_ID      Children  ...     FT/month   Infect_Prob\n",
              "count  10714.000000  10403.000000  ...  9991.000000  10714.000000\n",
              "mean   10084.893784      1.062770  ...     1.004604     52.280680\n",
              "std     7108.663645      0.818222  ...     0.815257     10.674667\n",
              "min        1.000000      0.000000  ...     0.000000     29.289600\n",
              "25%     2679.250000      0.000000  ...     0.000000     47.277426\n",
              "50%    10003.500000      1.000000  ...     1.000000     49.008389\n",
              "75%    15141.750000      2.000000  ...     2.000000     52.762313\n",
              "max    22695.000000      2.000000  ...     2.000000     97.632000\n",
              "\n",
              "[8 rows x 18 columns]"
            ]
          },
          "metadata": {
            "tags": []
          },
          "execution_count": 18
        }
      ]
    },
    {
      "cell_type": "code",
      "metadata": {
        "id": "kfT_5MRHFtN5",
        "colab_type": "code",
        "outputId": "31e08d7b-a17a-4f7b-b42a-f92e4b33c3f2",
        "colab": {
          "base_uri": "https://localhost:8080/",
          "height": 34
        }
      },
      "source": [
        "df.shape"
      ],
      "execution_count": 0,
      "outputs": [
        {
          "output_type": "execute_result",
          "data": {
            "text/plain": [
              "(10714, 28)"
            ]
          },
          "metadata": {
            "tags": []
          },
          "execution_count": 19
        }
      ]
    },
    {
      "cell_type": "code",
      "metadata": {
        "id": "JoGUgZxcFv5A",
        "colab_type": "code",
        "outputId": "b7e10900-711f-44be-f27f-fd520251ee1f",
        "colab": {
          "base_uri": "https://localhost:8080/",
          "height": 34
        }
      },
      "source": [
        "len(df['Infect_Prob'].unique())"
      ],
      "execution_count": 0,
      "outputs": [
        {
          "output_type": "execute_result",
          "data": {
            "text/plain": [
              "8724"
            ]
          },
          "metadata": {
            "tags": []
          },
          "execution_count": 21
        }
      ]
    },
    {
      "cell_type": "code",
      "metadata": {
        "id": "dc_hAZ5UHS3R",
        "colab_type": "code",
        "outputId": "ef26777e-c4fe-4075-b9d6-efb2b70ece28",
        "colab": {
          "base_uri": "https://localhost:8080/",
          "height": 34
        }
      },
      "source": [
        "df['Pulmonary score'].unique()"
      ],
      "execution_count": 0,
      "outputs": [
        {
          "output_type": "execute_result",
          "data": {
            "text/plain": [
              "array(['<400', '<100', '<300', '<200'], dtype=object)"
            ]
          },
          "metadata": {
            "tags": []
          },
          "execution_count": 22
        }
      ]
    },
    {
      "cell_type": "code",
      "metadata": {
        "id": "1ZM8s6lGHj8G",
        "colab_type": "code",
        "outputId": "ab4afa94-b7b2-403a-d6cc-0e72002d308e",
        "colab": {
          "base_uri": "https://localhost:8080/",
          "height": 51
        }
      },
      "source": [
        "df['Occupation'].unique()"
      ],
      "execution_count": 0,
      "outputs": [
        {
          "output_type": "execute_result",
          "data": {
            "text/plain": [
              "array(['Farmer', 'Cleaner', 'Driver', 'Manufacturing', 'Clerk', 'Sales',\n",
              "       nan, 'Business', 'Researcher', 'Legal'], dtype=object)"
            ]
          },
          "metadata": {
            "tags": []
          },
          "execution_count": 24
        }
      ]
    },
    {
      "cell_type": "code",
      "metadata": {
        "id": "wzLHF9tQHxoc",
        "colab_type": "code",
        "outputId": "975b2066-9e2f-4ad2-f235-6667a11d7dc3",
        "colab": {
          "base_uri": "https://localhost:8080/",
          "height": 34
        }
      },
      "source": [
        "df['HBB'].dtype != 'O'"
      ],
      "execution_count": 0,
      "outputs": [
        {
          "output_type": "execute_result",
          "data": {
            "text/plain": [
              "True"
            ]
          },
          "metadata": {
            "tags": []
          },
          "execution_count": 38
        }
      ]
    },
    {
      "cell_type": "code",
      "metadata": {
        "id": "a1mtfd3eI8Gj",
        "colab_type": "code",
        "outputId": "2f95fbb3-f32e-43cb-ebc3-da863170102a",
        "colab": {
          "base_uri": "https://localhost:8080/",
          "height": 391
        }
      },
      "source": [
        "for i in df.columns:\n",
        "  if df[i].dtype == 'O':\n",
        "    print (i, df[i].unique(), len(df[i].unique()),end = '\\n\\n')"
      ],
      "execution_count": 0,
      "outputs": [
        {
          "output_type": "stream",
          "text": [
            "Region ['Bhubaneshwar' 'Chandigarh' 'Chennai' 'Delhi' 'Bengaluru'] 5\n",
            "\n",
            "Gender ['Female' 'Male'] 2\n",
            "\n",
            "Designation ['Mrs' 'Mr'] 2\n",
            "\n",
            "Name ['mansi' 'riya masi' 'sunita' ... 'mohd mujahid ansari' 'munnakumar'\n",
            " 'mehboob mehandi'] 6305\n",
            "\n",
            "Married ['YES' 'NO'] 2\n",
            "\n",
            "Occupation ['Farmer' 'Cleaner' 'Driver' 'Manufacturing' 'Clerk' 'Sales' nan\n",
            " 'Business' 'Researcher' 'Legal'] 10\n",
            "\n",
            "Mode_transport ['Public' 'Walk' 'Car' nan] 4\n",
            "\n",
            "comorbidity ['Hypertension' 'Diabetes' 'None' 'Coronary Heart Disease' nan] 5\n",
            "\n",
            "Pulmonary score ['<400' '<100' '<300' '<200'] 4\n",
            "\n",
            "cardiological pressure ['Normal' 'Stage-02' 'Elevated' 'Stage-01' nan] 5\n",
            "\n"
          ],
          "name": "stdout"
        }
      ]
    },
    {
      "cell_type": "code",
      "metadata": {
        "id": "G9ACOrygL6XI",
        "colab_type": "code",
        "colab": {}
      },
      "source": [
        ""
      ],
      "execution_count": 0,
      "outputs": []
    }
  ]
}