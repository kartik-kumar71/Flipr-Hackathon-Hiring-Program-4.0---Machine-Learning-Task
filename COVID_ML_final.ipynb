{
  "nbformat": 4,
  "nbformat_minor": 0,
  "metadata": {
    "colab": {
      "name": "COVID_ML_final.ipynb",
      "provenance": []
    },
    "kernelspec": {
      "name": "python3",
      "display_name": "Python 3"
    }
  },
  "cells": [
    {
      "cell_type": "code",
      "metadata": {
        "id": "F1U2OLde0rdZ",
        "colab_type": "code",
        "outputId": "2698f2c1-3048-49e1-ddf8-2872b804468f",
        "colab": {
          "base_uri": "https://localhost:8080/",
          "height": 34
        }
      },
      "source": [
        "from google.colab import drive\n",
        "drive.mount('/content/drive')"
      ],
      "execution_count": 76,
      "outputs": [
        {
          "output_type": "stream",
          "text": [
            "Drive already mounted at /content/drive; to attempt to forcibly remount, call drive.mount(\"/content/drive\", force_remount=True).\n"
          ],
          "name": "stdout"
        }
      ]
    },
    {
      "cell_type": "code",
      "metadata": {
        "id": "CtFbHM7b0ztL",
        "colab_type": "code",
        "outputId": "4c8b1517-c828-4dd7-f6b4-641a3f1a71e8",
        "colab": {
          "base_uri": "https://localhost:8080/",
          "height": 34
        }
      },
      "source": [
        "cd /content/drive/My\\ Drive"
      ],
      "execution_count": 77,
      "outputs": [
        {
          "output_type": "stream",
          "text": [
            "/content/drive/My Drive\n"
          ],
          "name": "stdout"
        }
      ]
    },
    {
      "cell_type": "code",
      "metadata": {
        "id": "9bJKAwIy1LPE",
        "colab_type": "code",
        "colab": {}
      },
      "source": [
        "import pickle"
      ],
      "execution_count": 0,
      "outputs": []
    },
    {
      "cell_type": "code",
      "metadata": {
        "id": "1c2pq02f1EMq",
        "colab_type": "code",
        "colab": {}
      },
      "source": [
        "with open('X.pkl','rb') as in_file:\n",
        "  X = pickle.load(in_file)\n",
        "with open('y.pkl','rb') as in_file:\n",
        "  y = pickle.load(in_file)"
      ],
      "execution_count": 0,
      "outputs": []
    },
    {
      "cell_type": "code",
      "metadata": {
        "id": "Nvit_Bfv1JGC",
        "colab_type": "code",
        "outputId": "c546b9a1-7ce6-4251-98a2-6c636aa4f608",
        "colab": {
          "base_uri": "https://localhost:8080/",
          "height": 34
        }
      },
      "source": [
        "X.shape"
      ],
      "execution_count": 80,
      "outputs": [
        {
          "output_type": "execute_result",
          "data": {
            "text/plain": [
              "(10714, 22)"
            ]
          },
          "metadata": {
            "tags": []
          },
          "execution_count": 80
        }
      ]
    },
    {
      "cell_type": "code",
      "metadata": {
        "id": "kV-cAu7w1Ore",
        "colab_type": "code",
        "outputId": "967d1d7c-62a9-4252-9fb5-9da1fccf2fd9",
        "colab": {
          "base_uri": "https://localhost:8080/",
          "height": 34
        }
      },
      "source": [
        "y.shape"
      ],
      "execution_count": 81,
      "outputs": [
        {
          "output_type": "execute_result",
          "data": {
            "text/plain": [
              "(10714,)"
            ]
          },
          "metadata": {
            "tags": []
          },
          "execution_count": 81
        }
      ]
    },
    {
      "cell_type": "code",
      "metadata": {
        "id": "VBcr_H8821Rj",
        "colab_type": "code",
        "colab": {}
      },
      "source": [
        "from sklearn.preprocessing import StandardScaler\n",
        "sc = StandardScaler()"
      ],
      "execution_count": 0,
      "outputs": []
    },
    {
      "cell_type": "code",
      "metadata": {
        "id": "VvaOupQU1PdZ",
        "colab_type": "code",
        "colab": {}
      },
      "source": [
        "from sklearn.model_selection import train_test_split"
      ],
      "execution_count": 0,
      "outputs": []
    },
    {
      "cell_type": "code",
      "metadata": {
        "id": "yruFVBvT1Ses",
        "colab_type": "code",
        "colab": {}
      },
      "source": [
        "X_train, X_test, y_train, y_test = train_test_split(X,y,test_size=0.2)"
      ],
      "execution_count": 0,
      "outputs": []
    },
    {
      "cell_type": "code",
      "metadata": {
        "id": "PX-FolBw37Yg",
        "colab_type": "code",
        "colab": {}
      },
      "source": [
        "X_train = sc.fit_transform(X_train)\n",
        "X_test = sc.transform(X_test)"
      ],
      "execution_count": 0,
      "outputs": []
    },
    {
      "cell_type": "code",
      "metadata": {
        "id": "o1G4A8KK1UVt",
        "colab_type": "code",
        "colab": {}
      },
      "source": [
        "from sklearn.ensemble import RandomForestRegressor"
      ],
      "execution_count": 0,
      "outputs": []
    },
    {
      "cell_type": "code",
      "metadata": {
        "id": "2A0FwLDf1Y6K",
        "colab_type": "code",
        "colab": {}
      },
      "source": [
        "reg = RandomForestRegressor(n_estimators=500, min_samples_split=5, min_samples_leaf=15, max_features='auto', max_depth=9)"
      ],
      "execution_count": 0,
      "outputs": []
    },
    {
      "cell_type": "code",
      "metadata": {
        "id": "HnhltB6m1vGh",
        "colab_type": "code",
        "outputId": "4c9057ff-460e-402d-ccf0-c5e35de31f45",
        "colab": {
          "base_uri": "https://localhost:8080/",
          "height": 136
        }
      },
      "source": [
        "reg.fit(X_train,y_train)"
      ],
      "execution_count": 88,
      "outputs": [
        {
          "output_type": "execute_result",
          "data": {
            "text/plain": [
              "RandomForestRegressor(bootstrap=True, ccp_alpha=0.0, criterion='mse',\n",
              "                      max_depth=9, max_features='auto', max_leaf_nodes=None,\n",
              "                      max_samples=None, min_impurity_decrease=0.0,\n",
              "                      min_impurity_split=None, min_samples_leaf=15,\n",
              "                      min_samples_split=5, min_weight_fraction_leaf=0.0,\n",
              "                      n_estimators=500, n_jobs=None, oob_score=False,\n",
              "                      random_state=None, verbose=0, warm_start=False)"
            ]
          },
          "metadata": {
            "tags": []
          },
          "execution_count": 88
        }
      ]
    },
    {
      "cell_type": "code",
      "metadata": {
        "id": "SPe_Z8lZ1yfS",
        "colab_type": "code",
        "outputId": "92fb072e-bd27-4138-9b1d-865dc3412957",
        "colab": {
          "base_uri": "https://localhost:8080/",
          "height": 34
        }
      },
      "source": [
        "reg.score(X_train,y_train)"
      ],
      "execution_count": 89,
      "outputs": [
        {
          "output_type": "execute_result",
          "data": {
            "text/plain": [
              "0.4947209828429069"
            ]
          },
          "metadata": {
            "tags": []
          },
          "execution_count": 89
        }
      ]
    },
    {
      "cell_type": "code",
      "metadata": {
        "id": "omVy2pbx15ih",
        "colab_type": "code",
        "outputId": "b31012a5-3b2b-4c44-f051-1ca6707950d3",
        "colab": {
          "base_uri": "https://localhost:8080/",
          "height": 34
        }
      },
      "source": [
        "reg.score(X_test,y_test)"
      ],
      "execution_count": 90,
      "outputs": [
        {
          "output_type": "execute_result",
          "data": {
            "text/plain": [
              "0.3617663796536448"
            ]
          },
          "metadata": {
            "tags": []
          },
          "execution_count": 90
        }
      ]
    },
    {
      "cell_type": "code",
      "metadata": {
        "id": "yLI1EmjI18fC",
        "colab_type": "code",
        "colab": {}
      },
      "source": [
        "from keras.layers import Dense\n",
        "from keras.models import Sequential"
      ],
      "execution_count": 0,
      "outputs": []
    },
    {
      "cell_type": "code",
      "metadata": {
        "id": "W4GANczQ6avA",
        "colab_type": "code",
        "colab": {}
      },
      "source": [
        "model = Sequential()\n",
        "model.add(Dense(8,input_dim=X_train.shape[1], kernel_initializer='normal', activation='relu'))\n",
        "\n",
        "model.add(Dense(1,kernel_initializer='normal'))\n",
        "\n",
        "model.compile(loss='mean_squared_error', optimizer='adam',metrics = ['mean_squared_error'])"
      ],
      "execution_count": 0,
      "outputs": []
    },
    {
      "cell_type": "code",
      "metadata": {
        "id": "N8D0jyHe6crP",
        "colab_type": "code",
        "colab": {
          "base_uri": "https://localhost:8080/",
          "height": 1000
        },
        "outputId": "1ea6b283-1dfa-4beb-dbe8-63d21aa41dd3"
      },
      "source": [
        "model.fit(X_train,y_train,epochs=200, batch_size=32)"
      ],
      "execution_count": 178,
      "outputs": [
        {
          "output_type": "stream",
          "text": [
            "Epoch 1/200\n",
            "8571/8571 [==============================] - 1s 108us/step - loss: 2778.6239 - mean_squared_error: 2778.6239\n",
            "Epoch 2/200\n",
            "8571/8571 [==============================] - 0s 38us/step - loss: 2362.4389 - mean_squared_error: 2362.4389\n",
            "Epoch 3/200\n",
            "8571/8571 [==============================] - 0s 38us/step - loss: 1695.3550 - mean_squared_error: 1695.3550\n",
            "Epoch 4/200\n",
            "8571/8571 [==============================] - 0s 39us/step - loss: 1079.6575 - mean_squared_error: 1079.6575\n",
            "Epoch 5/200\n",
            "8571/8571 [==============================] - 0s 39us/step - loss: 627.9521 - mean_squared_error: 627.9521\n",
            "Epoch 6/200\n",
            "8571/8571 [==============================] - 0s 38us/step - loss: 343.5468 - mean_squared_error: 343.5468\n",
            "Epoch 7/200\n",
            "8571/8571 [==============================] - 0s 43us/step - loss: 198.6469 - mean_squared_error: 198.6469\n",
            "Epoch 8/200\n",
            "8571/8571 [==============================] - 0s 40us/step - loss: 141.6602 - mean_squared_error: 141.6602\n",
            "Epoch 9/200\n",
            "8571/8571 [==============================] - 0s 39us/step - loss: 122.4308 - mean_squared_error: 122.4308\n",
            "Epoch 10/200\n",
            "8571/8571 [==============================] - 0s 39us/step - loss: 114.4029 - mean_squared_error: 114.4029\n",
            "Epoch 11/200\n",
            "8571/8571 [==============================] - 0s 40us/step - loss: 109.2208 - mean_squared_error: 109.2208\n",
            "Epoch 12/200\n",
            "8571/8571 [==============================] - 0s 37us/step - loss: 105.2927 - mean_squared_error: 105.2927\n",
            "Epoch 13/200\n",
            "8571/8571 [==============================] - 0s 39us/step - loss: 101.9984 - mean_squared_error: 101.9984\n",
            "Epoch 14/200\n",
            "8571/8571 [==============================] - 0s 38us/step - loss: 99.2661 - mean_squared_error: 99.2661\n",
            "Epoch 15/200\n",
            "8571/8571 [==============================] - 0s 38us/step - loss: 96.9760 - mean_squared_error: 96.9760\n",
            "Epoch 16/200\n",
            "8571/8571 [==============================] - 0s 38us/step - loss: 95.0659 - mean_squared_error: 95.0659\n",
            "Epoch 17/200\n",
            "8571/8571 [==============================] - 0s 38us/step - loss: 93.3810 - mean_squared_error: 93.3810\n",
            "Epoch 18/200\n",
            "8571/8571 [==============================] - 0s 39us/step - loss: 92.0127 - mean_squared_error: 92.0127\n",
            "Epoch 19/200\n",
            "8571/8571 [==============================] - 0s 38us/step - loss: 90.7014 - mean_squared_error: 90.7014\n",
            "Epoch 20/200\n",
            "8571/8571 [==============================] - 0s 39us/step - loss: 89.6371 - mean_squared_error: 89.6371\n",
            "Epoch 21/200\n",
            "8571/8571 [==============================] - 0s 39us/step - loss: 88.6437 - mean_squared_error: 88.6437\n",
            "Epoch 22/200\n",
            "8571/8571 [==============================] - 0s 39us/step - loss: 87.8551 - mean_squared_error: 87.8551\n",
            "Epoch 23/200\n",
            "8571/8571 [==============================] - 0s 38us/step - loss: 87.0663 - mean_squared_error: 87.0663\n",
            "Epoch 24/200\n",
            "8571/8571 [==============================] - 0s 38us/step - loss: 86.4553 - mean_squared_error: 86.4553\n",
            "Epoch 25/200\n",
            "8571/8571 [==============================] - 0s 37us/step - loss: 85.7901 - mean_squared_error: 85.7901\n",
            "Epoch 26/200\n",
            "8571/8571 [==============================] - 0s 38us/step - loss: 85.2009 - mean_squared_error: 85.2009\n",
            "Epoch 27/200\n",
            "8571/8571 [==============================] - 0s 38us/step - loss: 84.7437 - mean_squared_error: 84.7437\n",
            "Epoch 28/200\n",
            "8571/8571 [==============================] - 0s 38us/step - loss: 84.3218 - mean_squared_error: 84.3218\n",
            "Epoch 29/200\n",
            "8571/8571 [==============================] - 0s 38us/step - loss: 83.9229 - mean_squared_error: 83.9229\n",
            "Epoch 30/200\n",
            "8571/8571 [==============================] - 0s 37us/step - loss: 83.5203 - mean_squared_error: 83.5203\n",
            "Epoch 31/200\n",
            "8571/8571 [==============================] - 0s 41us/step - loss: 83.1607 - mean_squared_error: 83.1607\n",
            "Epoch 32/200\n",
            "8571/8571 [==============================] - 0s 38us/step - loss: 82.7979 - mean_squared_error: 82.7979\n",
            "Epoch 33/200\n",
            "8571/8571 [==============================] - 0s 39us/step - loss: 82.5514 - mean_squared_error: 82.5514\n",
            "Epoch 34/200\n",
            "8571/8571 [==============================] - 0s 38us/step - loss: 82.2243 - mean_squared_error: 82.2243\n",
            "Epoch 35/200\n",
            "8571/8571 [==============================] - 0s 40us/step - loss: 82.0263 - mean_squared_error: 82.0263\n",
            "Epoch 36/200\n",
            "8571/8571 [==============================] - 0s 40us/step - loss: 81.7983 - mean_squared_error: 81.7983\n",
            "Epoch 37/200\n",
            "8571/8571 [==============================] - 0s 38us/step - loss: 81.6209 - mean_squared_error: 81.6209\n",
            "Epoch 38/200\n",
            "8571/8571 [==============================] - 0s 38us/step - loss: 81.4047 - mean_squared_error: 81.4047\n",
            "Epoch 39/200\n",
            "8571/8571 [==============================] - 0s 38us/step - loss: 81.2787 - mean_squared_error: 81.2787\n",
            "Epoch 40/200\n",
            "8571/8571 [==============================] - 0s 41us/step - loss: 81.0594 - mean_squared_error: 81.0594\n",
            "Epoch 41/200\n",
            "8571/8571 [==============================] - 0s 39us/step - loss: 80.9528 - mean_squared_error: 80.9528\n",
            "Epoch 42/200\n",
            "8571/8571 [==============================] - 0s 38us/step - loss: 80.8368 - mean_squared_error: 80.8368\n",
            "Epoch 43/200\n",
            "8571/8571 [==============================] - 0s 39us/step - loss: 80.7145 - mean_squared_error: 80.7145\n",
            "Epoch 44/200\n",
            "8571/8571 [==============================] - 0s 38us/step - loss: 80.5834 - mean_squared_error: 80.5834\n",
            "Epoch 45/200\n",
            "8571/8571 [==============================] - 0s 39us/step - loss: 80.4795 - mean_squared_error: 80.4795\n",
            "Epoch 46/200\n",
            "8571/8571 [==============================] - 0s 38us/step - loss: 80.3724 - mean_squared_error: 80.3724\n",
            "Epoch 47/200\n",
            "8571/8571 [==============================] - 0s 37us/step - loss: 80.2589 - mean_squared_error: 80.2589\n",
            "Epoch 48/200\n",
            "8571/8571 [==============================] - 0s 39us/step - loss: 80.2601 - mean_squared_error: 80.2601\n",
            "Epoch 49/200\n",
            "8571/8571 [==============================] - 0s 40us/step - loss: 80.1432 - mean_squared_error: 80.1432\n",
            "Epoch 50/200\n",
            "8571/8571 [==============================] - 0s 40us/step - loss: 80.0788 - mean_squared_error: 80.0788\n",
            "Epoch 51/200\n",
            "8571/8571 [==============================] - 0s 39us/step - loss: 80.0573 - mean_squared_error: 80.0573\n",
            "Epoch 52/200\n",
            "8571/8571 [==============================] - 0s 40us/step - loss: 79.9518 - mean_squared_error: 79.9518\n",
            "Epoch 53/200\n",
            "8571/8571 [==============================] - 0s 39us/step - loss: 79.9005 - mean_squared_error: 79.9005\n",
            "Epoch 54/200\n",
            "8571/8571 [==============================] - 0s 37us/step - loss: 79.8291 - mean_squared_error: 79.8291\n",
            "Epoch 55/200\n",
            "8571/8571 [==============================] - 0s 38us/step - loss: 79.7579 - mean_squared_error: 79.7579\n",
            "Epoch 56/200\n",
            "8571/8571 [==============================] - 0s 39us/step - loss: 79.6794 - mean_squared_error: 79.6794\n",
            "Epoch 57/200\n",
            "8571/8571 [==============================] - 0s 39us/step - loss: 79.6610 - mean_squared_error: 79.6610\n",
            "Epoch 58/200\n",
            "8571/8571 [==============================] - 0s 38us/step - loss: 79.6202 - mean_squared_error: 79.6202\n",
            "Epoch 59/200\n",
            "8571/8571 [==============================] - 0s 39us/step - loss: 79.5950 - mean_squared_error: 79.5950\n",
            "Epoch 60/200\n",
            "8571/8571 [==============================] - 0s 39us/step - loss: 79.4783 - mean_squared_error: 79.4783\n",
            "Epoch 61/200\n",
            "8571/8571 [==============================] - 0s 41us/step - loss: 79.4522 - mean_squared_error: 79.4522\n",
            "Epoch 62/200\n",
            "8571/8571 [==============================] - 0s 39us/step - loss: 79.4921 - mean_squared_error: 79.4921\n",
            "Epoch 63/200\n",
            "8571/8571 [==============================] - 0s 39us/step - loss: 79.4102 - mean_squared_error: 79.4102\n",
            "Epoch 64/200\n",
            "8571/8571 [==============================] - 0s 39us/step - loss: 79.3389 - mean_squared_error: 79.3389\n",
            "Epoch 65/200\n",
            "8571/8571 [==============================] - 0s 40us/step - loss: 79.3015 - mean_squared_error: 79.3015\n",
            "Epoch 66/200\n",
            "8571/8571 [==============================] - 0s 38us/step - loss: 79.2250 - mean_squared_error: 79.2250\n",
            "Epoch 67/200\n",
            "8571/8571 [==============================] - 0s 38us/step - loss: 79.2216 - mean_squared_error: 79.2216\n",
            "Epoch 68/200\n",
            "8571/8571 [==============================] - 0s 38us/step - loss: 79.1663 - mean_squared_error: 79.1663\n",
            "Epoch 69/200\n",
            "8571/8571 [==============================] - 0s 39us/step - loss: 79.1010 - mean_squared_error: 79.1010\n",
            "Epoch 70/200\n",
            "8571/8571 [==============================] - 0s 38us/step - loss: 79.0331 - mean_squared_error: 79.0331\n",
            "Epoch 71/200\n",
            "8571/8571 [==============================] - 0s 39us/step - loss: 79.0354 - mean_squared_error: 79.0354\n",
            "Epoch 72/200\n",
            "8571/8571 [==============================] - 0s 39us/step - loss: 79.0540 - mean_squared_error: 79.0540\n",
            "Epoch 73/200\n",
            "8571/8571 [==============================] - 0s 37us/step - loss: 78.9581 - mean_squared_error: 78.9581\n",
            "Epoch 74/200\n",
            "8571/8571 [==============================] - 0s 39us/step - loss: 78.9798 - mean_squared_error: 78.9798\n",
            "Epoch 75/200\n",
            "8571/8571 [==============================] - 0s 38us/step - loss: 78.9310 - mean_squared_error: 78.9310\n",
            "Epoch 76/200\n",
            "8571/8571 [==============================] - 0s 38us/step - loss: 78.9199 - mean_squared_error: 78.9199\n",
            "Epoch 77/200\n",
            "8571/8571 [==============================] - 0s 38us/step - loss: 78.9187 - mean_squared_error: 78.9187\n",
            "Epoch 78/200\n",
            "8571/8571 [==============================] - 0s 39us/step - loss: 78.7985 - mean_squared_error: 78.7985\n",
            "Epoch 79/200\n",
            "8571/8571 [==============================] - 0s 38us/step - loss: 78.8010 - mean_squared_error: 78.8010\n",
            "Epoch 80/200\n",
            "8571/8571 [==============================] - 0s 39us/step - loss: 78.6981 - mean_squared_error: 78.6981\n",
            "Epoch 81/200\n",
            "8571/8571 [==============================] - 0s 38us/step - loss: 78.7503 - mean_squared_error: 78.7503\n",
            "Epoch 82/200\n",
            "8571/8571 [==============================] - 0s 39us/step - loss: 78.7410 - mean_squared_error: 78.7410\n",
            "Epoch 83/200\n",
            "8571/8571 [==============================] - 0s 39us/step - loss: 78.6589 - mean_squared_error: 78.6589\n",
            "Epoch 84/200\n",
            "8571/8571 [==============================] - 0s 39us/step - loss: 78.6666 - mean_squared_error: 78.6666\n",
            "Epoch 85/200\n",
            "8571/8571 [==============================] - 0s 37us/step - loss: 78.6248 - mean_squared_error: 78.6248\n",
            "Epoch 86/200\n",
            "8571/8571 [==============================] - 0s 37us/step - loss: 78.6007 - mean_squared_error: 78.6007\n",
            "Epoch 87/200\n",
            "8571/8571 [==============================] - 0s 39us/step - loss: 78.6234 - mean_squared_error: 78.6234\n",
            "Epoch 88/200\n",
            "8571/8571 [==============================] - 0s 39us/step - loss: 78.5427 - mean_squared_error: 78.5427\n",
            "Epoch 89/200\n",
            "8571/8571 [==============================] - 0s 40us/step - loss: 78.5929 - mean_squared_error: 78.5929\n",
            "Epoch 90/200\n",
            "8571/8571 [==============================] - 0s 39us/step - loss: 78.5053 - mean_squared_error: 78.5053\n",
            "Epoch 91/200\n",
            "8571/8571 [==============================] - 0s 39us/step - loss: 78.5295 - mean_squared_error: 78.5295\n",
            "Epoch 92/200\n",
            "8571/8571 [==============================] - 0s 39us/step - loss: 78.5418 - mean_squared_error: 78.5418\n",
            "Epoch 93/200\n",
            "8571/8571 [==============================] - 0s 39us/step - loss: 78.4137 - mean_squared_error: 78.4137\n",
            "Epoch 94/200\n",
            "8571/8571 [==============================] - 0s 39us/step - loss: 78.3962 - mean_squared_error: 78.3962\n",
            "Epoch 95/200\n",
            "8571/8571 [==============================] - 0s 39us/step - loss: 78.3745 - mean_squared_error: 78.3745\n",
            "Epoch 96/200\n",
            "8571/8571 [==============================] - 0s 39us/step - loss: 78.3629 - mean_squared_error: 78.3629\n",
            "Epoch 97/200\n",
            "8571/8571 [==============================] - 0s 39us/step - loss: 78.3963 - mean_squared_error: 78.3963\n",
            "Epoch 98/200\n",
            "8571/8571 [==============================] - 0s 38us/step - loss: 78.3964 - mean_squared_error: 78.3964\n",
            "Epoch 99/200\n",
            "8571/8571 [==============================] - 0s 40us/step - loss: 78.2992 - mean_squared_error: 78.2992\n",
            "Epoch 100/200\n",
            "8571/8571 [==============================] - 0s 38us/step - loss: 78.3145 - mean_squared_error: 78.3145\n",
            "Epoch 101/200\n",
            "8571/8571 [==============================] - 0s 39us/step - loss: 78.3063 - mean_squared_error: 78.3063\n",
            "Epoch 102/200\n",
            "8571/8571 [==============================] - 0s 38us/step - loss: 78.3703 - mean_squared_error: 78.3703\n",
            "Epoch 103/200\n",
            "8571/8571 [==============================] - 0s 39us/step - loss: 78.2951 - mean_squared_error: 78.2951\n",
            "Epoch 104/200\n",
            "8571/8571 [==============================] - 0s 39us/step - loss: 78.2845 - mean_squared_error: 78.2845\n",
            "Epoch 105/200\n",
            "8571/8571 [==============================] - 0s 38us/step - loss: 78.1752 - mean_squared_error: 78.1752\n",
            "Epoch 106/200\n",
            "8571/8571 [==============================] - 0s 39us/step - loss: 78.1843 - mean_squared_error: 78.1843\n",
            "Epoch 107/200\n",
            "8571/8571 [==============================] - 0s 37us/step - loss: 78.1476 - mean_squared_error: 78.1476\n",
            "Epoch 108/200\n",
            "8571/8571 [==============================] - 0s 38us/step - loss: 78.1209 - mean_squared_error: 78.1209\n",
            "Epoch 109/200\n",
            "8571/8571 [==============================] - 0s 38us/step - loss: 78.1343 - mean_squared_error: 78.1343\n",
            "Epoch 110/200\n",
            "8571/8571 [==============================] - 0s 39us/step - loss: 78.1125 - mean_squared_error: 78.1125\n",
            "Epoch 111/200\n",
            "8571/8571 [==============================] - 0s 38us/step - loss: 78.0914 - mean_squared_error: 78.0914\n",
            "Epoch 112/200\n",
            "8571/8571 [==============================] - 0s 38us/step - loss: 78.1025 - mean_squared_error: 78.1025\n",
            "Epoch 113/200\n",
            "8571/8571 [==============================] - 0s 38us/step - loss: 78.0355 - mean_squared_error: 78.0355\n",
            "Epoch 114/200\n",
            "8571/8571 [==============================] - 0s 38us/step - loss: 77.9827 - mean_squared_error: 77.9827\n",
            "Epoch 115/200\n",
            "8571/8571 [==============================] - 0s 39us/step - loss: 77.9635 - mean_squared_error: 77.9635\n",
            "Epoch 116/200\n",
            "8571/8571 [==============================] - 0s 38us/step - loss: 78.0637 - mean_squared_error: 78.0637\n",
            "Epoch 117/200\n",
            "8571/8571 [==============================] - 0s 40us/step - loss: 77.9416 - mean_squared_error: 77.9416\n",
            "Epoch 118/200\n",
            "8571/8571 [==============================] - 0s 38us/step - loss: 77.9854 - mean_squared_error: 77.9854\n",
            "Epoch 119/200\n",
            "8571/8571 [==============================] - 0s 39us/step - loss: 77.9128 - mean_squared_error: 77.9128\n",
            "Epoch 120/200\n",
            "8571/8571 [==============================] - 0s 38us/step - loss: 77.9301 - mean_squared_error: 77.9301\n",
            "Epoch 121/200\n",
            "8571/8571 [==============================] - 0s 38us/step - loss: 77.9105 - mean_squared_error: 77.9105\n",
            "Epoch 122/200\n",
            "8571/8571 [==============================] - 0s 38us/step - loss: 77.8949 - mean_squared_error: 77.8949\n",
            "Epoch 123/200\n",
            "8571/8571 [==============================] - 0s 39us/step - loss: 77.9269 - mean_squared_error: 77.9269\n",
            "Epoch 124/200\n",
            "8571/8571 [==============================] - 0s 39us/step - loss: 77.8730 - mean_squared_error: 77.8730\n",
            "Epoch 125/200\n",
            "8571/8571 [==============================] - 0s 40us/step - loss: 77.8716 - mean_squared_error: 77.8716\n",
            "Epoch 126/200\n",
            "8571/8571 [==============================] - 0s 38us/step - loss: 77.8258 - mean_squared_error: 77.8258\n",
            "Epoch 127/200\n",
            "8571/8571 [==============================] - 0s 39us/step - loss: 77.8503 - mean_squared_error: 77.8503\n",
            "Epoch 128/200\n",
            "8571/8571 [==============================] - 0s 38us/step - loss: 77.7905 - mean_squared_error: 77.7905\n",
            "Epoch 129/200\n",
            "8571/8571 [==============================] - 0s 38us/step - loss: 77.7406 - mean_squared_error: 77.7406\n",
            "Epoch 130/200\n",
            "8571/8571 [==============================] - 0s 38us/step - loss: 77.7790 - mean_squared_error: 77.7790\n",
            "Epoch 131/200\n",
            "8571/8571 [==============================] - 0s 40us/step - loss: 77.8332 - mean_squared_error: 77.8332\n",
            "Epoch 132/200\n",
            "8571/8571 [==============================] - 0s 40us/step - loss: 77.7899 - mean_squared_error: 77.7899\n",
            "Epoch 133/200\n",
            "8571/8571 [==============================] - 0s 42us/step - loss: 77.7864 - mean_squared_error: 77.7864\n",
            "Epoch 134/200\n",
            "8571/8571 [==============================] - 0s 42us/step - loss: 77.7132 - mean_squared_error: 77.7132\n",
            "Epoch 135/200\n",
            "8571/8571 [==============================] - 0s 43us/step - loss: 77.7121 - mean_squared_error: 77.7121\n",
            "Epoch 136/200\n",
            "8571/8571 [==============================] - 0s 41us/step - loss: 77.6794 - mean_squared_error: 77.6794\n",
            "Epoch 137/200\n",
            "8571/8571 [==============================] - 0s 41us/step - loss: 77.7452 - mean_squared_error: 77.7452\n",
            "Epoch 138/200\n",
            "8571/8571 [==============================] - 0s 41us/step - loss: 77.7266 - mean_squared_error: 77.7266\n",
            "Epoch 139/200\n",
            "8571/8571 [==============================] - 0s 41us/step - loss: 77.7516 - mean_squared_error: 77.7516\n",
            "Epoch 140/200\n",
            "8571/8571 [==============================] - 0s 43us/step - loss: 77.7163 - mean_squared_error: 77.7163\n",
            "Epoch 141/200\n",
            "8571/8571 [==============================] - 0s 43us/step - loss: 77.6724 - mean_squared_error: 77.6724\n",
            "Epoch 142/200\n",
            "8571/8571 [==============================] - 0s 40us/step - loss: 77.6692 - mean_squared_error: 77.6692\n",
            "Epoch 143/200\n",
            "8571/8571 [==============================] - 0s 44us/step - loss: 77.6050 - mean_squared_error: 77.6050\n",
            "Epoch 144/200\n",
            "8571/8571 [==============================] - 0s 41us/step - loss: 77.6731 - mean_squared_error: 77.6731\n",
            "Epoch 145/200\n",
            "8571/8571 [==============================] - 0s 42us/step - loss: 77.6507 - mean_squared_error: 77.6507\n",
            "Epoch 146/200\n",
            "8571/8571 [==============================] - 0s 41us/step - loss: 77.6250 - mean_squared_error: 77.6250\n",
            "Epoch 147/200\n",
            "8571/8571 [==============================] - 0s 41us/step - loss: 77.5764 - mean_squared_error: 77.5764\n",
            "Epoch 148/200\n",
            "8571/8571 [==============================] - 0s 42us/step - loss: 77.6635 - mean_squared_error: 77.6635\n",
            "Epoch 149/200\n",
            "8571/8571 [==============================] - 0s 41us/step - loss: 77.6194 - mean_squared_error: 77.6194\n",
            "Epoch 150/200\n",
            "8571/8571 [==============================] - 0s 43us/step - loss: 77.5899 - mean_squared_error: 77.5899\n",
            "Epoch 151/200\n",
            "8571/8571 [==============================] - 0s 42us/step - loss: 77.5415 - mean_squared_error: 77.5415\n",
            "Epoch 152/200\n",
            "8571/8571 [==============================] - 0s 40us/step - loss: 77.5721 - mean_squared_error: 77.5721\n",
            "Epoch 153/200\n",
            "8571/8571 [==============================] - 0s 40us/step - loss: 77.5438 - mean_squared_error: 77.5438\n",
            "Epoch 154/200\n",
            "8571/8571 [==============================] - 0s 41us/step - loss: 77.5524 - mean_squared_error: 77.5524\n",
            "Epoch 155/200\n",
            "8571/8571 [==============================] - 0s 41us/step - loss: 77.5485 - mean_squared_error: 77.5485\n",
            "Epoch 156/200\n",
            "8571/8571 [==============================] - 0s 41us/step - loss: 77.5618 - mean_squared_error: 77.5618\n",
            "Epoch 157/200\n",
            "8571/8571 [==============================] - 0s 42us/step - loss: 77.5867 - mean_squared_error: 77.5867\n",
            "Epoch 158/200\n",
            "8571/8571 [==============================] - 0s 42us/step - loss: 77.5415 - mean_squared_error: 77.5415\n",
            "Epoch 159/200\n",
            "8571/8571 [==============================] - 0s 40us/step - loss: 77.5168 - mean_squared_error: 77.5168\n",
            "Epoch 160/200\n",
            "8571/8571 [==============================] - 0s 40us/step - loss: 77.5326 - mean_squared_error: 77.5326\n",
            "Epoch 161/200\n",
            "8571/8571 [==============================] - 0s 39us/step - loss: 77.5551 - mean_squared_error: 77.5551\n",
            "Epoch 162/200\n",
            "8571/8571 [==============================] - 0s 38us/step - loss: 77.5219 - mean_squared_error: 77.5219\n",
            "Epoch 163/200\n",
            "8571/8571 [==============================] - 0s 38us/step - loss: 77.5667 - mean_squared_error: 77.5667\n",
            "Epoch 164/200\n",
            "8571/8571 [==============================] - 0s 39us/step - loss: 77.5198 - mean_squared_error: 77.5198\n",
            "Epoch 165/200\n",
            "8571/8571 [==============================] - 0s 39us/step - loss: 77.4499 - mean_squared_error: 77.4499\n",
            "Epoch 166/200\n",
            "8571/8571 [==============================] - 0s 40us/step - loss: 77.4677 - mean_squared_error: 77.4677\n",
            "Epoch 167/200\n",
            "8571/8571 [==============================] - 0s 38us/step - loss: 77.4777 - mean_squared_error: 77.4777\n",
            "Epoch 168/200\n",
            "8571/8571 [==============================] - 0s 39us/step - loss: 77.4634 - mean_squared_error: 77.4634\n",
            "Epoch 169/200\n",
            "8571/8571 [==============================] - 0s 37us/step - loss: 77.4869 - mean_squared_error: 77.4869\n",
            "Epoch 170/200\n",
            "8571/8571 [==============================] - 0s 39us/step - loss: 77.4974 - mean_squared_error: 77.4974\n",
            "Epoch 171/200\n",
            "8571/8571 [==============================] - 0s 38us/step - loss: 77.5103 - mean_squared_error: 77.5103\n",
            "Epoch 172/200\n",
            "8571/8571 [==============================] - 0s 39us/step - loss: 77.4720 - mean_squared_error: 77.4720\n",
            "Epoch 173/200\n",
            "8571/8571 [==============================] - 0s 39us/step - loss: 77.4945 - mean_squared_error: 77.4945\n",
            "Epoch 174/200\n",
            "8571/8571 [==============================] - 0s 39us/step - loss: 77.4572 - mean_squared_error: 77.4572\n",
            "Epoch 175/200\n",
            "8571/8571 [==============================] - 0s 38us/step - loss: 77.4809 - mean_squared_error: 77.4809\n",
            "Epoch 176/200\n",
            "8571/8571 [==============================] - 0s 38us/step - loss: 77.4787 - mean_squared_error: 77.4787\n",
            "Epoch 177/200\n",
            "8571/8571 [==============================] - 0s 38us/step - loss: 77.4702 - mean_squared_error: 77.4702\n",
            "Epoch 178/200\n",
            "8571/8571 [==============================] - 0s 41us/step - loss: 77.4154 - mean_squared_error: 77.4154\n",
            "Epoch 179/200\n",
            "8571/8571 [==============================] - 0s 38us/step - loss: 77.4471 - mean_squared_error: 77.4471\n",
            "Epoch 180/200\n",
            "8571/8571 [==============================] - 0s 38us/step - loss: 77.4476 - mean_squared_error: 77.4476\n",
            "Epoch 181/200\n",
            "8571/8571 [==============================] - 0s 38us/step - loss: 77.4154 - mean_squared_error: 77.4154\n",
            "Epoch 182/200\n",
            "8571/8571 [==============================] - 0s 39us/step - loss: 77.4241 - mean_squared_error: 77.4241\n",
            "Epoch 183/200\n",
            "8571/8571 [==============================] - 0s 39us/step - loss: 77.4138 - mean_squared_error: 77.4138\n",
            "Epoch 184/200\n",
            "8571/8571 [==============================] - 0s 38us/step - loss: 77.4051 - mean_squared_error: 77.4051\n",
            "Epoch 185/200\n",
            "8571/8571 [==============================] - 0s 38us/step - loss: 77.4283 - mean_squared_error: 77.4283\n",
            "Epoch 186/200\n",
            "8571/8571 [==============================] - 0s 39us/step - loss: 77.4288 - mean_squared_error: 77.4288\n",
            "Epoch 187/200\n",
            "8571/8571 [==============================] - 0s 39us/step - loss: 77.4299 - mean_squared_error: 77.4299\n",
            "Epoch 188/200\n",
            "8571/8571 [==============================] - 0s 39us/step - loss: 77.3991 - mean_squared_error: 77.3991\n",
            "Epoch 189/200\n",
            "8571/8571 [==============================] - 0s 38us/step - loss: 77.4227 - mean_squared_error: 77.4227\n",
            "Epoch 190/200\n",
            "8571/8571 [==============================] - 0s 38us/step - loss: 77.3717 - mean_squared_error: 77.3717\n",
            "Epoch 191/200\n",
            "8571/8571 [==============================] - 0s 39us/step - loss: 77.4199 - mean_squared_error: 77.4199\n",
            "Epoch 192/200\n",
            "8571/8571 [==============================] - 0s 38us/step - loss: 77.3441 - mean_squared_error: 77.3441\n",
            "Epoch 193/200\n",
            "8571/8571 [==============================] - 0s 39us/step - loss: 77.3831 - mean_squared_error: 77.3831\n",
            "Epoch 194/200\n",
            "8571/8571 [==============================] - 0s 39us/step - loss: 77.3473 - mean_squared_error: 77.3473\n",
            "Epoch 195/200\n",
            "8571/8571 [==============================] - 0s 38us/step - loss: 77.4051 - mean_squared_error: 77.4051\n",
            "Epoch 196/200\n",
            "8571/8571 [==============================] - 0s 39us/step - loss: 77.4429 - mean_squared_error: 77.4429\n",
            "Epoch 197/200\n",
            "8571/8571 [==============================] - 0s 38us/step - loss: 77.3585 - mean_squared_error: 77.3585\n",
            "Epoch 198/200\n",
            "8571/8571 [==============================] - 0s 39us/step - loss: 77.3645 - mean_squared_error: 77.3645\n",
            "Epoch 199/200\n",
            "8571/8571 [==============================] - 0s 38us/step - loss: 77.3277 - mean_squared_error: 77.3277\n",
            "Epoch 200/200\n",
            "8571/8571 [==============================] - 0s 38us/step - loss: 77.3556 - mean_squared_error: 77.3556\n"
          ],
          "name": "stdout"
        },
        {
          "output_type": "execute_result",
          "data": {
            "text/plain": [
              "<keras.callbacks.History at 0x7f33970ceeb8>"
            ]
          },
          "metadata": {
            "tags": []
          },
          "execution_count": 178
        }
      ]
    },
    {
      "cell_type": "code",
      "metadata": {
        "id": "LbwnYFQ68cnG",
        "colab_type": "code",
        "colab": {
          "base_uri": "https://localhost:8080/",
          "height": 51
        },
        "outputId": "2f280b25-3700-4f4b-af54-9113b19f9782"
      },
      "source": [
        "y_test[:10]"
      ],
      "execution_count": 181,
      "outputs": [
        {
          "output_type": "execute_result",
          "data": {
            "text/plain": [
              "array([48.41873933, 29.2896    , 66.38976   , 59.74869384, 52.58559534,\n",
              "       46.9018362 , 53.43403358, 48.34750567, 50.51535935, 48.63360222])"
            ]
          },
          "metadata": {
            "tags": []
          },
          "execution_count": 181
        }
      ]
    },
    {
      "cell_type": "code",
      "metadata": {
        "id": "FpJLIYwa93VA",
        "colab_type": "code",
        "colab": {
          "base_uri": "https://localhost:8080/",
          "height": 187
        },
        "outputId": "3311adf6-ad85-4a90-c58a-ce54b22ea6d4"
      },
      "source": [
        "model.predict(X_test)[:10]"
      ],
      "execution_count": 182,
      "outputs": [
        {
          "output_type": "execute_result",
          "data": {
            "text/plain": [
              "array([[47.854218],\n",
              "       [58.01976 ],\n",
              "       [62.60887 ],\n",
              "       [59.94353 ],\n",
              "       [50.256817],\n",
              "       [46.96543 ],\n",
              "       [53.959965],\n",
              "       [48.741837],\n",
              "       [50.910946],\n",
              "       [48.15233 ]], dtype=float32)"
            ]
          },
          "metadata": {
            "tags": []
          },
          "execution_count": 182
        }
      ]
    },
    {
      "cell_type": "code",
      "metadata": {
        "id": "M3tlLIkq-Ya_",
        "colab_type": "code",
        "colab": {}
      },
      "source": [
        "from sklearn.metrics import r2_score,max_error,mean_absolute_error"
      ],
      "execution_count": 0,
      "outputs": []
    },
    {
      "cell_type": "code",
      "metadata": {
        "id": "6gs__2jA_T9R",
        "colab_type": "code",
        "colab": {
          "base_uri": "https://localhost:8080/",
          "height": 34
        },
        "outputId": "4216ef00-1db3-4929-d539-1b01c6502a9a"
      },
      "source": [
        "r2_score(y_test,model.predict(X_test))"
      ],
      "execution_count": 184,
      "outputs": [
        {
          "output_type": "execute_result",
          "data": {
            "text/plain": [
              "0.3402125217159233"
            ]
          },
          "metadata": {
            "tags": []
          },
          "execution_count": 184
        }
      ]
    },
    {
      "cell_type": "code",
      "metadata": {
        "id": "3ynbhAle_ZNF",
        "colab_type": "code",
        "colab": {
          "base_uri": "https://localhost:8080/",
          "height": 51
        },
        "outputId": "22626450-0b35-41f2-f4fa-164b26653715"
      },
      "source": [
        "reg.predict(X_test)[:10]"
      ],
      "execution_count": 185,
      "outputs": [
        {
          "output_type": "execute_result",
          "data": {
            "text/plain": [
              "array([49.03113423, 63.88622798, 63.40385207, 60.0968018 , 52.52424599,\n",
              "       46.5720984 , 53.55389822, 48.43832572, 49.09531968, 48.40582477])"
            ]
          },
          "metadata": {
            "tags": []
          },
          "execution_count": 185
        }
      ]
    },
    {
      "cell_type": "code",
      "metadata": {
        "id": "yqa44uC-AqZC",
        "colab_type": "code",
        "colab": {
          "base_uri": "https://localhost:8080/",
          "height": 34
        },
        "outputId": "8ec0a4bb-24f0-414e-ab32-53225a164465"
      },
      "source": [
        "max_error(y_test,model.predict(X_test))"
      ],
      "execution_count": 186,
      "outputs": [
        {
          "output_type": "execute_result",
          "data": {
            "text/plain": [
              "39.860460578613285"
            ]
          },
          "metadata": {
            "tags": []
          },
          "execution_count": 186
        }
      ]
    },
    {
      "cell_type": "code",
      "metadata": {
        "id": "n84eRmZEC_0R",
        "colab_type": "code",
        "colab": {
          "base_uri": "https://localhost:8080/",
          "height": 34
        },
        "outputId": "cd73b348-358d-47be-c3b9-bddc7b315f6f"
      },
      "source": [
        "mean_absolute_error(y_test,reg.predict(X_test))"
      ],
      "execution_count": 187,
      "outputs": [
        {
          "output_type": "execute_result",
          "data": {
            "text/plain": [
              "3.4494031466623034"
            ]
          },
          "metadata": {
            "tags": []
          },
          "execution_count": 187
        }
      ]
    },
    {
      "cell_type": "code",
      "metadata": {
        "id": "lwWDvDCiDZvG",
        "colab_type": "code",
        "colab": {
          "base_uri": "https://localhost:8080/",
          "height": 34
        },
        "outputId": "909b225c-45c8-4600-d096-abcdeb142295"
      },
      "source": [
        "mean_absolute_error(y_test,model.predict(X_test))"
      ],
      "execution_count": 188,
      "outputs": [
        {
          "output_type": "execute_result",
          "data": {
            "text/plain": [
              "3.8278926035372427"
            ]
          },
          "metadata": {
            "tags": []
          },
          "execution_count": 188
        }
      ]
    },
    {
      "cell_type": "code",
      "metadata": {
        "id": "QjdYbl_lDc9Z",
        "colab_type": "code",
        "colab": {}
      },
      "source": [
        ""
      ],
      "execution_count": 0,
      "outputs": []
    }
  ]
}